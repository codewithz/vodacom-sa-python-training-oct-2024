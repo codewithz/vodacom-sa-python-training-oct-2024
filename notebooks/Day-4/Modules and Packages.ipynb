{
 "cells": [
  {
   "cell_type": "code",
   "execution_count": 2,
   "id": "86c88b6e-a6e2-4340-a16d-7aaeca7888ac",
   "metadata": {},
   "outputs": [
    {
     "name": "stdin",
     "output_type": "stream",
     "text": [
      "Enter Your Name: Z\n"
     ]
    },
    {
     "name": "stdout",
     "output_type": "stream",
     "text": [
      "Hello Z\n",
      "Bonjour Z\n",
      "Hallo Z\n"
     ]
    }
   ],
   "source": [
    "import greetings\n",
    "\n",
    "name=input(\"Enter Your Name:\")\n",
    "\n",
    "print(greetings.greet_in_english(name))\n",
    "print(greetings.greet_in_french(name))\n",
    "print(greetings.greet_in_german(name))"
   ]
  },
  {
   "cell_type": "code",
   "execution_count": 6,
   "id": "dad7578e-06b4-4d11-9f1e-7efb29fbcb02",
   "metadata": {},
   "outputs": [
    {
     "name": "stdout",
     "output_type": "stream",
     "text": [
      "Hello Tom\n",
      "From South Africa\n"
     ]
    }
   ],
   "source": [
    "from greetings import greet_in_english,country_of_origin\n",
    "\n",
    "print(greet_in_english(\"Tom\"))\n",
    "print(f\"From {country_of_origin}\")"
   ]
  },
  {
   "cell_type": "markdown",
   "id": "c448413c-a8f1-4468-b28a-5c06a779337c",
   "metadata": {},
   "source": [
    "## Packages"
   ]
  },
  {
   "cell_type": "code",
   "execution_count": 10,
   "id": "118fa7fa-b64b-47f9-b3bf-eae35822de69",
   "metadata": {},
   "outputs": [
    {
     "name": "stdout",
     "output_type": "stream",
     "text": [
      "Tax Calculation\n",
      "Shipping Cost Calculation\n",
      "Details : Tom -098765432\n"
     ]
    }
   ],
   "source": [
    "from ecommerce import sales\n",
    "\n",
    "\n",
    "sales.calculate_tax()\n",
    "sales.calculate_shipping()\n",
    "sales.get_customer_for_order()"
   ]
  },
  {
   "cell_type": "code",
   "execution_count": 12,
   "id": "992e71fa-75f8-4db0-b069-9d66b2771b41",
   "metadata": {},
   "outputs": [
    {
     "name": "stdout",
     "output_type": "stream",
     "text": [
      "Shipping Cost Calculation\n",
      "Tax Calculation\n",
      "Details : Tom -098765432\n"
     ]
    }
   ],
   "source": [
    "from ecommerce.sales import calculate_shipping,calculate_tax,get_customer_for_order\n",
    "\n",
    "calculate_shipping()\n",
    "calculate_tax()\n",
    "get_customer_for_order()"
   ]
  },
  {
   "cell_type": "code",
   "execution_count": 14,
   "id": "68aeafea-ba90-4eaa-adda-4d9302073fad",
   "metadata": {},
   "outputs": [
    {
     "data": {
      "text/plain": [
       "'Tom -098765432'"
      ]
     },
     "execution_count": 14,
     "metadata": {},
     "output_type": "execute_result"
    }
   ],
   "source": [
    "from ecommerce.customer import contact\n",
    "\n",
    "contact.get_customer_contact()"
   ]
  },
  {
   "cell_type": "code",
   "execution_count": 16,
   "id": "ca688b1c-9f10-4734-9a42-a33584cd2787",
   "metadata": {},
   "outputs": [
    {
     "name": "stdout",
     "output_type": "stream",
     "text": [
      "Tax Calculation\n"
     ]
    },
    {
     "data": {
      "text/plain": [
       "'Tom -098765432'"
      ]
     },
     "execution_count": 16,
     "metadata": {},
     "output_type": "execute_result"
    }
   ],
   "source": [
    "import ecommerce\n",
    "\n",
    "ecommerce.sales.calculate_tax()\n",
    "ecommerce.customer.contact.get_customer_contact()\n"
   ]
  },
  {
   "cell_type": "code",
   "execution_count": null,
   "id": "fabc68a0-c1ac-4125-9e61-4a74319a1e62",
   "metadata": {},
   "outputs": [],
   "source": []
  }
 ],
 "metadata": {
  "kernelspec": {
   "display_name": "Python 3 (ipykernel)",
   "language": "python",
   "name": "python3"
  },
  "language_info": {
   "codemirror_mode": {
    "name": "ipython",
    "version": 3
   },
   "file_extension": ".py",
   "mimetype": "text/x-python",
   "name": "python",
   "nbconvert_exporter": "python",
   "pygments_lexer": "ipython3",
   "version": "3.12.4"
  }
 },
 "nbformat": 4,
 "nbformat_minor": 5
}
