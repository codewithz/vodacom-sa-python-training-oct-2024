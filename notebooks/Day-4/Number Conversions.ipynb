{
 "cells": [
  {
   "cell_type": "code",
   "execution_count": 1,
   "id": "3013e371",
   "metadata": {},
   "outputs": [
    {
     "name": "stdout",
     "output_type": "stream",
     "text": [
      "10 -- 10.0\n"
     ]
    }
   ],
   "source": [
    "x=10\n",
    "y=float(x)\n",
    "print(x,\"--\",y)"
   ]
  },
  {
   "cell_type": "code",
   "execution_count": 2,
   "id": "1ca93df1",
   "metadata": {},
   "outputs": [
    {
     "name": "stdout",
     "output_type": "stream",
     "text": [
      "10.7 -- 10\n"
     ]
    }
   ],
   "source": [
    "x=10.7\n",
    "y=int(x)\n",
    "print(x,\"--\",y)"
   ]
  },
  {
   "cell_type": "code",
   "execution_count": 3,
   "id": "53fb3706",
   "metadata": {},
   "outputs": [
    {
     "name": "stdout",
     "output_type": "stream",
     "text": [
      "10 -- 5.5 -- (10+5.5j)\n"
     ]
    }
   ],
   "source": [
    "x=10\n",
    "y=5.5\n",
    "z=complex(x,y)\n",
    "print(x,'--',y,'--',z)"
   ]
  },
  {
   "cell_type": "code",
   "execution_count": 7,
   "id": "8c3cfd89",
   "metadata": {},
   "outputs": [
    {
     "name": "stdout",
     "output_type": "stream",
     "text": [
      "123.45 -- 123.45 -- 123\n"
     ]
    }
   ],
   "source": [
    "x=\"123.45\"\n",
    "y=float(x)\n",
    "z=int(y)\n",
    "\n",
    "print(x,'--',y,'--',z)"
   ]
  },
  {
   "cell_type": "code",
   "execution_count": 8,
   "id": "cfd13268",
   "metadata": {},
   "outputs": [
    {
     "name": "stdout",
     "output_type": "stream",
     "text": [
      "123 -- 123\n"
     ]
    }
   ],
   "source": [
    "x=123\n",
    "y=str(x)\n",
    "print(x,\"--\",y)"
   ]
  },
  {
   "cell_type": "code",
   "execution_count": null,
   "id": "1bd78dd7",
   "metadata": {},
   "outputs": [],
   "source": []
  }
 ],
 "metadata": {
  "kernelspec": {
   "display_name": "Python 3 (ipykernel)",
   "language": "python",
   "name": "python3"
  },
  "language_info": {
   "codemirror_mode": {
    "name": "ipython",
    "version": 3
   },
   "file_extension": ".py",
   "mimetype": "text/x-python",
   "name": "python",
   "nbconvert_exporter": "python",
   "pygments_lexer": "ipython3",
   "version": "3.11.5"
  }
 },
 "nbformat": 4,
 "nbformat_minor": 5
}
