{
 "cells": [
  {
   "cell_type": "markdown",
   "id": "91d07acc-e0f8-41ef-b87f-753a02e8df28",
   "metadata": {},
   "source": [
    "## Tuples"
   ]
  },
  {
   "cell_type": "code",
   "execution_count": 2,
   "id": "23a47121-ebf7-40c6-b825-f6a765cde8ef",
   "metadata": {},
   "outputs": [],
   "source": [
    "# Tuples are read only list \n",
    "#  ()\n",
    "\n"
   ]
  },
  {
   "cell_type": "markdown",
   "id": "33cbec4d-9aae-4e45-994b-64f529553c1e",
   "metadata": {},
   "source": [
    "#### Multiple Ways of Creating a Tuple\n"
   ]
  },
  {
   "cell_type": "code",
   "execution_count": 5,
   "id": "a85c7135-3c05-4072-a598-142dde3547c0",
   "metadata": {},
   "outputs": [
    {
     "name": "stdout",
     "output_type": "stream",
     "text": [
      "<class 'tuple'>\n",
      "(1, 2)\n"
     ]
    }
   ],
   "source": [
    "point=(1,2)\n",
    "print(type(point))\n",
    "print(point)"
   ]
  },
  {
   "cell_type": "code",
   "execution_count": 9,
   "id": "7d26e4b4-3a5f-4db7-8b04-ff379ef8ab91",
   "metadata": {},
   "outputs": [
    {
     "name": "stdout",
     "output_type": "stream",
     "text": [
      "<class 'tuple'>\n",
      "(1,)\n"
     ]
    }
   ],
   "source": [
    "point=1,\n",
    "print(type(point))\n",
    "print(point)"
   ]
  },
  {
   "cell_type": "code",
   "execution_count": 11,
   "id": "2e8fddc7-728f-4b8c-98b1-38003ff03666",
   "metadata": {},
   "outputs": [
    {
     "name": "stdout",
     "output_type": "stream",
     "text": [
      "<class 'tuple'>\n",
      "(1, 2, 3)\n"
     ]
    }
   ],
   "source": [
    "point=1,2,3\n",
    "print(type(point))\n",
    "print(point)"
   ]
  },
  {
   "cell_type": "code",
   "execution_count": 13,
   "id": "9d876271-3c2e-41c1-b476-7206306d5188",
   "metadata": {},
   "outputs": [
    {
     "name": "stdout",
     "output_type": "stream",
     "text": [
      "<class 'tuple'>\n",
      "(1, 2, 3, 4)\n"
     ]
    }
   ],
   "source": [
    "point=(1,2)+(3,4)\n",
    "print(type(point))\n",
    "print(point)"
   ]
  },
  {
   "cell_type": "code",
   "execution_count": 15,
   "id": "16aa36f3-3a32-46bc-92fc-c3e0d25289c9",
   "metadata": {},
   "outputs": [
    {
     "name": "stdout",
     "output_type": "stream",
     "text": [
      "<class 'tuple'>\n",
      "(1, 2, 1, 2, 1, 2)\n"
     ]
    }
   ],
   "source": [
    "point=(1,2)*3\n",
    "print(type(point))\n",
    "print(point)"
   ]
  },
  {
   "cell_type": "code",
   "execution_count": 19,
   "id": "9b4d5811-02aa-457d-9ac4-2d16fb54a556",
   "metadata": {},
   "outputs": [
    {
     "name": "stdout",
     "output_type": "stream",
     "text": [
      "<class 'tuple'>\n",
      "('Vodacom', 'Vodacom', 'Vodacom')\n"
     ]
    }
   ],
   "source": [
    "point=(\"Vodacom\",)*3\n",
    "print(type(point))\n",
    "print(point)"
   ]
  },
  {
   "cell_type": "markdown",
   "id": "1fc13e84-e9b0-4b5a-baf0-4be05a9f2c8a",
   "metadata": {},
   "source": [
    "#### Access the elements in a Tuple \n",
    "\n"
   ]
  },
  {
   "cell_type": "code",
   "execution_count": 34,
   "id": "ca746636-2572-4477-9bf4-2c5d84ed6c8b",
   "metadata": {},
   "outputs": [
    {
     "name": "stdout",
     "output_type": "stream",
     "text": [
      "Point: (1, 2, 3)\n",
      "Index [1]: 2\n",
      "Range (1, 2, 3)\n",
      "Range (1, 2)\n"
     ]
    }
   ],
   "source": [
    "point=(1,2,3)\n",
    "\n",
    "print(\"Point:\",point)\n",
    "\n",
    "print(\"Index [1]:\",point[1])\n",
    "\n",
    "print(\"Range\",point[0:])\n",
    "print(\"Range\",point[0:2])"
   ]
  },
  {
   "cell_type": "code",
   "execution_count": 28,
   "id": "a583ff6c-b577-46c6-9fe9-3d3229a3a84a",
   "metadata": {},
   "outputs": [
    {
     "name": "stdout",
     "output_type": "stream",
     "text": [
      "X: 1\n",
      "Y: 2\n",
      "Z: 3\n"
     ]
    }
   ],
   "source": [
    "x,y,z=point\n",
    "\n",
    "print(\"X:\",x)\n",
    "print(\"Y:\",y)\n",
    "print(\"Z:\",z)"
   ]
  },
  {
   "cell_type": "code",
   "execution_count": 38,
   "id": "d0cebbd7-677e-48d0-bd30-4e8c8a33275c",
   "metadata": {},
   "outputs": [
    {
     "name": "stdout",
     "output_type": "stream",
     "text": [
      "10 is not present in tuple\n"
     ]
    }
   ],
   "source": [
    "if 10 in point:\n",
    "    print(\"10 is present in tuple\")\n",
    "else:\n",
    "     print(\"10 is not present in tuple\")"
   ]
  },
  {
   "cell_type": "code",
   "execution_count": 36,
   "id": "43ed8b4c-4b42-4824-a306-53eefb728fba",
   "metadata": {},
   "outputs": [
    {
     "ename": "TypeError",
     "evalue": "'tuple' object does not support item assignment",
     "output_type": "error",
     "traceback": [
      "\u001b[1;31m---------------------------------------------------------------------------\u001b[0m",
      "\u001b[1;31mTypeError\u001b[0m                                 Traceback (most recent call last)",
      "Cell \u001b[1;32mIn[36], line 1\u001b[0m\n\u001b[1;32m----> 1\u001b[0m point[\u001b[38;5;241m1\u001b[39m]\u001b[38;5;241m=\u001b[39m\u001b[38;5;241m30\u001b[39m\n",
      "\u001b[1;31mTypeError\u001b[0m: 'tuple' object does not support item assignment"
     ]
    }
   ],
   "source": [
    "point[1]=30"
   ]
  },
  {
   "cell_type": "code",
   "execution_count": null,
   "id": "0e29361c-eed7-4a70-b804-dbdd4ef4c508",
   "metadata": {},
   "outputs": [],
   "source": []
  }
 ],
 "metadata": {
  "kernelspec": {
   "display_name": "Python 3 (ipykernel)",
   "language": "python",
   "name": "python3"
  },
  "language_info": {
   "codemirror_mode": {
    "name": "ipython",
    "version": 3
   },
   "file_extension": ".py",
   "mimetype": "text/x-python",
   "name": "python",
   "nbconvert_exporter": "python",
   "pygments_lexer": "ipython3",
   "version": "3.12.4"
  }
 },
 "nbformat": 4,
 "nbformat_minor": 5
}
