{
 "cells": [
  {
   "cell_type": "code",
   "execution_count": 1,
   "id": "f1e3de26-2c0d-4872-aac2-fbc30147ae26",
   "metadata": {},
   "outputs": [
    {
     "name": "stdout",
     "output_type": "stream",
     "text": [
      "Connected to Database\n"
     ]
    }
   ],
   "source": [
    "import sqlite3\n",
    "\n",
    "connection=sqlite3.connect(\"vodacom_demo.db\")\n",
    "\n",
    "print(\"Connected to Database\")"
   ]
  },
  {
   "cell_type": "code",
   "execution_count": 5,
   "id": "af4f6021-60e6-4e2f-99eb-2d2bf4965702",
   "metadata": {},
   "outputs": [
    {
     "name": "stdout",
     "output_type": "stream",
     "text": [
      "Table Created Successfully\n"
     ]
    }
   ],
   "source": [
    "cursor=connection.cursor()\n",
    "\n",
    "# students \n",
    "\n",
    "query='''\n",
    "CREATE TABLE IF NOT EXISTS students(\n",
    "    id INTEGER PRIMARY KEY AUTOINCREMENT,\n",
    "    name TEXT NOT NULL,\n",
    "    age INTEGER,\n",
    "    grade TEXT\n",
    ")\n",
    "'''\n",
    "\n",
    "cursor.execute(query)\n",
    "print(\"Table Created Successfully\")"
   ]
  },
  {
   "cell_type": "markdown",
   "id": "3ee4f2e9-f58d-4ccb-b409-c1f08bdced7c",
   "metadata": {},
   "source": [
    "#### Insert into the Table"
   ]
  },
  {
   "cell_type": "code",
   "execution_count": 9,
   "id": "0c9ca172-3fe5-4831-ae36-2296d5243793",
   "metadata": {},
   "outputs": [],
   "source": [
    "query=\"INSERT INTO students (name,age,grade) values ('Tom',25,'A')\"\n",
    "cursor.execute(query)\n",
    "connection.commit()"
   ]
  },
  {
   "cell_type": "code",
   "execution_count": 11,
   "id": "9bc4057f-7166-4ee8-b713-f85173832638",
   "metadata": {},
   "outputs": [],
   "source": [
    "query=\"INSERT INTO students (name,age,grade) values ('Elizabeth',24,'B')\"\n",
    "cursor.execute(query)\n",
    "connection.commit()"
   ]
  },
  {
   "cell_type": "code",
   "execution_count": 13,
   "id": "31d84651-1a93-4499-b7bf-f9a171afb0b7",
   "metadata": {},
   "outputs": [],
   "source": [
    "query=\"INSERT INTO students (name,age,grade) values ('Mike',26,'C')\"\n",
    "cursor.execute(query)\n",
    "connection.commit()"
   ]
  },
  {
   "cell_type": "markdown",
   "id": "8c45d29f-747c-43d2-ac76-deb71be415ee",
   "metadata": {},
   "source": [
    "#### Query the data from database"
   ]
  },
  {
   "cell_type": "code",
   "execution_count": 34,
   "id": "f8523d4a-a9bb-45af-98a4-6dbf111f62fc",
   "metadata": {},
   "outputs": [
    {
     "name": "stdout",
     "output_type": "stream",
     "text": [
      "(1, 'Tom', 25, 'A')\n",
      "(3, 'Elizabeth', 24, 'A+')\n",
      "(4, 'Mike', 26, 'C')\n"
     ]
    }
   ],
   "source": [
    "query=\"Select * from students\"\n",
    "cursor.execute(query)\n",
    "rows=cursor.fetchall()\n",
    "\n",
    "for row in rows:\n",
    "    print(row)"
   ]
  },
  {
   "cell_type": "markdown",
   "id": "6a773d94-cb8d-451a-92db-7621991b8227",
   "metadata": {},
   "source": [
    "#### Update and Delete the records from Database"
   ]
  },
  {
   "cell_type": "markdown",
   "id": "c38fa697-b09c-4261-95ef-08c1a1027c62",
   "metadata": {},
   "source": [
    "#### Update"
   ]
  },
  {
   "cell_type": "code",
   "execution_count": 27,
   "id": "d3902b14-aa71-46a1-8a8a-becb9db5574d",
   "metadata": {},
   "outputs": [],
   "source": [
    "query=\"Update students set grade='A+' WHERE name='Elizabeth'\"\n",
    "cursor.execute(query)\n",
    "connection.commit()"
   ]
  },
  {
   "cell_type": "markdown",
   "id": "bba7807f-feed-46c3-8033-9fa446db55b2",
   "metadata": {},
   "source": [
    "#### Delete"
   ]
  },
  {
   "cell_type": "code",
   "execution_count": 32,
   "id": "e6b9dbb1-d94f-4b5b-b322-a0def47b4e23",
   "metadata": {},
   "outputs": [],
   "source": [
    "query =\"Delete from students where id=2\"\n",
    "cursor.execute(query)\n",
    "connection.commit()"
   ]
  },
  {
   "cell_type": "markdown",
   "id": "4d265fdd-e52d-4454-a3c3-dba3fb6c24c4",
   "metadata": {},
   "source": [
    "## INSTALLING SQLALCHEMY"
   ]
  },
  {
   "cell_type": "code",
   "execution_count": 39,
   "id": "6015eee8-353c-43ac-b7c2-09f37606d1f7",
   "metadata": {},
   "outputs": [
    {
     "name": "stdout",
     "output_type": "stream",
     "text": [
      "Requirement already satisfied: sqlalchemy in c:\\users\\victus\\anaconda36\\lib\\site-packages (2.0.30)\n",
      "Requirement already satisfied: typing-extensions>=4.6.0 in c:\\users\\victus\\anaconda36\\lib\\site-packages (from sqlalchemy) (4.11.0)\n",
      "Requirement already satisfied: greenlet!=0.4.17 in c:\\users\\victus\\anaconda36\\lib\\site-packages (from sqlalchemy) (3.0.1)\n"
     ]
    }
   ],
   "source": [
    "!pip install sqlalchemy"
   ]
  },
  {
   "cell_type": "code",
   "execution_count": 43,
   "id": "a7f6431c-3b3f-42e9-82aa-b56858646a6c",
   "metadata": {},
   "outputs": [
    {
     "name": "stdout",
     "output_type": "stream",
     "text": [
      "Engine generated successfully\n"
     ]
    }
   ],
   "source": [
    "from sqlalchemy import create_engine\n",
    "database_url=\"sqlite:///vodacom_test.db\"\n",
    "engine=create_engine(database_url,echo=True)\n",
    "\n",
    "print(\"Engine generated successfully\")"
   ]
  },
  {
   "cell_type": "markdown",
   "id": "f8eb6d17-0e99-493a-9004-4a00648c2fc2",
   "metadata": {},
   "source": [
    "### Define the Table using ORM[Object Relational Mapping]"
   ]
  },
  {
   "cell_type": "code",
   "execution_count": null,
   "id": "4c075bea-d4c3-44bc-8bba-38121f0b5b79",
   "metadata": {},
   "outputs": [],
   "source": [
    "from sqlalchemy.orm import declarative_base\n",
    "from sqlalchemy import Column,Integer,String\n",
    "Base=declarative_base()\n",
    "\n",
    "class Customer(Base):\n",
    "    __tablename__=\"customers\"\n",
    "\n",
    "    id=Column(Integer,primary_key=True,autoincrement=True)\n",
    "    name=Column(String(100),nullable=False)\n",
    "    email=Column(String(100),nullable=False,unique=True)\n",
    "    age=Column(Integer,nullable=True)\n",
    "\n",
    "\n",
    "    def __repr__(self):\n",
    "        return f\"Customer [Id: {self.id} | Name:{self.name} | Email : {self.email} | Age: {self.age}]\""
   ]
  }
 ],
 "metadata": {
  "kernelspec": {
   "display_name": "Python 3 (ipykernel)",
   "language": "python",
   "name": "python3"
  },
  "language_info": {
   "codemirror_mode": {
    "name": "ipython",
    "version": 3
   },
   "file_extension": ".py",
   "mimetype": "text/x-python",
   "name": "python",
   "nbconvert_exporter": "python",
   "pygments_lexer": "ipython3",
   "version": "3.12.4"
  }
 },
 "nbformat": 4,
 "nbformat_minor": 5
}
