{
 "cells": [
  {
   "cell_type": "code",
   "execution_count": 1,
   "id": "f1e3de26-2c0d-4872-aac2-fbc30147ae26",
   "metadata": {},
   "outputs": [
    {
     "name": "stdout",
     "output_type": "stream",
     "text": [
      "Connected to Database\n"
     ]
    }
   ],
   "source": [
    "import sqlite3\n",
    "\n",
    "connection=sqlite3.connect(\"vodacom_demo.db\")\n",
    "\n",
    "print(\"Connected to Database\")"
   ]
  },
  {
   "cell_type": "code",
   "execution_count": 5,
   "id": "af4f6021-60e6-4e2f-99eb-2d2bf4965702",
   "metadata": {},
   "outputs": [
    {
     "name": "stdout",
     "output_type": "stream",
     "text": [
      "Table Created Successfully\n"
     ]
    }
   ],
   "source": [
    "cursor=connection.cursor()\n",
    "\n",
    "# students \n",
    "\n",
    "query='''\n",
    "CREATE TABLE IF NOT EXISTS students(\n",
    "    id INTEGER PRIMARY KEY AUTOINCREMENT,\n",
    "    name TEXT NOT NULL,\n",
    "    age INTEGER,\n",
    "    grade TEXT\n",
    ")\n",
    "'''\n",
    "\n",
    "cursor.execute(query)\n",
    "print(\"Table Created Successfully\")"
   ]
  },
  {
   "cell_type": "markdown",
   "id": "3ee4f2e9-f58d-4ccb-b409-c1f08bdced7c",
   "metadata": {},
   "source": [
    "#### Insert into the Table"
   ]
  },
  {
   "cell_type": "code",
   "execution_count": 9,
   "id": "0c9ca172-3fe5-4831-ae36-2296d5243793",
   "metadata": {},
   "outputs": [],
   "source": [
    "query=\"INSERT INTO students (name,age,grade) values ('Tom',25,'A')\"\n",
    "cursor.execute(query)\n",
    "connection.commit()"
   ]
  },
  {
   "cell_type": "code",
   "execution_count": 11,
   "id": "9bc4057f-7166-4ee8-b713-f85173832638",
   "metadata": {},
   "outputs": [],
   "source": [
    "query=\"INSERT INTO students (name,age,grade) values ('Elizabeth',24,'B')\"\n",
    "cursor.execute(query)\n",
    "connection.commit()"
   ]
  },
  {
   "cell_type": "code",
   "execution_count": 13,
   "id": "31d84651-1a93-4499-b7bf-f9a171afb0b7",
   "metadata": {},
   "outputs": [],
   "source": [
    "query=\"INSERT INTO students (name,age,grade) values ('Mike',26,'C')\"\n",
    "cursor.execute(query)\n",
    "connection.commit()"
   ]
  },
  {
   "cell_type": "markdown",
   "id": "8c45d29f-747c-43d2-ac76-deb71be415ee",
   "metadata": {},
   "source": [
    "#### Query the data from database"
   ]
  },
  {
   "cell_type": "code",
   "execution_count": 68,
   "id": "f8523d4a-a9bb-45af-98a4-6dbf111f62fc",
   "metadata": {},
   "outputs": [
    {
     "name": "stdout",
     "output_type": "stream",
     "text": [
      "<class 'list'>\n",
      "<class 'tuple'>\n",
      "(1, 'Tom', 25, 'A')\n",
      "<class 'tuple'>\n",
      "(3, 'Elizabeth', 24, 'A+')\n",
      "<class 'tuple'>\n",
      "(4, 'Mike', 26, 'C')\n"
     ]
    }
   ],
   "source": [
    "query=\"Select * from students\"\n",
    "cursor.execute(query)\n",
    "rows=cursor.fetchall()\n",
    "\n",
    "print(type(rows))\n",
    "\n",
    "for row in rows:\n",
    "    print(type(row))\n",
    "    print(row)"
   ]
  },
  {
   "cell_type": "markdown",
   "id": "6a773d94-cb8d-451a-92db-7621991b8227",
   "metadata": {},
   "source": [
    "#### Update and Delete the records from Database"
   ]
  },
  {
   "cell_type": "markdown",
   "id": "c38fa697-b09c-4261-95ef-08c1a1027c62",
   "metadata": {},
   "source": [
    "#### Update"
   ]
  },
  {
   "cell_type": "code",
   "execution_count": 27,
   "id": "d3902b14-aa71-46a1-8a8a-becb9db5574d",
   "metadata": {},
   "outputs": [],
   "source": [
    "query=\"Update students set grade='A+' WHERE name='Elizabeth'\"\n",
    "cursor.execute(query)\n",
    "connection.commit()"
   ]
  },
  {
   "cell_type": "markdown",
   "id": "bba7807f-feed-46c3-8033-9fa446db55b2",
   "metadata": {},
   "source": [
    "#### Delete"
   ]
  },
  {
   "cell_type": "code",
   "execution_count": 32,
   "id": "e6b9dbb1-d94f-4b5b-b322-a0def47b4e23",
   "metadata": {},
   "outputs": [],
   "source": [
    "query =\"Delete from students where id=2\"\n",
    "cursor.execute(query)\n",
    "connection.commit()"
   ]
  },
  {
   "cell_type": "markdown",
   "id": "4d265fdd-e52d-4454-a3c3-dba3fb6c24c4",
   "metadata": {},
   "source": [
    "## INSTALLING SQLALCHEMY"
   ]
  },
  {
   "cell_type": "code",
   "execution_count": 39,
   "id": "6015eee8-353c-43ac-b7c2-09f37606d1f7",
   "metadata": {},
   "outputs": [
    {
     "name": "stdout",
     "output_type": "stream",
     "text": [
      "Requirement already satisfied: sqlalchemy in c:\\users\\victus\\anaconda36\\lib\\site-packages (2.0.30)\n",
      "Requirement already satisfied: typing-extensions>=4.6.0 in c:\\users\\victus\\anaconda36\\lib\\site-packages (from sqlalchemy) (4.11.0)\n",
      "Requirement already satisfied: greenlet!=0.4.17 in c:\\users\\victus\\anaconda36\\lib\\site-packages (from sqlalchemy) (3.0.1)\n"
     ]
    }
   ],
   "source": [
    "!pip install sqlalchemy"
   ]
  },
  {
   "cell_type": "code",
   "execution_count": 43,
   "id": "a7f6431c-3b3f-42e9-82aa-b56858646a6c",
   "metadata": {},
   "outputs": [
    {
     "name": "stdout",
     "output_type": "stream",
     "text": [
      "Engine generated successfully\n"
     ]
    }
   ],
   "source": [
    "from sqlalchemy import create_engine\n",
    "\n",
    "database_url=\"sqlite:///vodacom_test.db\"\n",
    "engine=create_engine(database_url,echo=True)\n",
    "\n",
    "print(\"Engine generated successfully\")"
   ]
  },
  {
   "cell_type": "markdown",
   "id": "f8eb6d17-0e99-493a-9004-4a00648c2fc2",
   "metadata": {},
   "source": [
    "### Define the Table using ORM[Object Relational Mapping]"
   ]
  },
  {
   "cell_type": "code",
   "execution_count": 46,
   "id": "4c075bea-d4c3-44bc-8bba-38121f0b5b79",
   "metadata": {},
   "outputs": [],
   "source": [
    "from sqlalchemy.orm import declarative_base\n",
    "from sqlalchemy import Column,Integer,String\n",
    "\n",
    "Base=declarative_base()\n",
    "\n",
    "class Customer(Base):\n",
    "    __tablename__=\"customers\"\n",
    "\n",
    "    id=Column(Integer,primary_key=True,autoincrement=True)\n",
    "    name=Column(String(100),nullable=False)\n",
    "    email=Column(String(100),nullable=False,unique=True)\n",
    "    age=Column(Integer,nullable=True)\n",
    "\n",
    "    def __repr__(self):\n",
    "        return f\"Customer [Id: {self.id} | Name:{self.name} | Email : {self.email} | Age: {self.age}]\""
   ]
  },
  {
   "cell_type": "markdown",
   "id": "4b93b3e8-8793-4c4a-a854-1ae4be77f022",
   "metadata": {},
   "source": [
    "#### CREATE THE DATABASE TABLE \n"
   ]
  },
  {
   "cell_type": "code",
   "execution_count": 49,
   "id": "9d695278-e670-477d-b0c5-9d72f3727595",
   "metadata": {},
   "outputs": [
    {
     "name": "stdout",
     "output_type": "stream",
     "text": [
      "2024-10-17 19:01:47,742 INFO sqlalchemy.engine.Engine BEGIN (implicit)\n",
      "2024-10-17 19:01:47,743 INFO sqlalchemy.engine.Engine PRAGMA main.table_info(\"customers\")\n",
      "2024-10-17 19:01:47,743 INFO sqlalchemy.engine.Engine [raw sql] ()\n",
      "2024-10-17 19:01:47,744 INFO sqlalchemy.engine.Engine PRAGMA temp.table_info(\"customers\")\n",
      "2024-10-17 19:01:47,745 INFO sqlalchemy.engine.Engine [raw sql] ()\n",
      "2024-10-17 19:01:47,746 INFO sqlalchemy.engine.Engine \n",
      "CREATE TABLE customers (\n",
      "\tid INTEGER NOT NULL, \n",
      "\tname VARCHAR(100) NOT NULL, \n",
      "\temail VARCHAR(100) NOT NULL, \n",
      "\tage INTEGER, \n",
      "\tPRIMARY KEY (id), \n",
      "\tUNIQUE (email)\n",
      ")\n",
      "\n",
      "\n",
      "2024-10-17 19:01:47,747 INFO sqlalchemy.engine.Engine [no key 0.00075s] ()\n",
      "2024-10-17 19:01:47,769 INFO sqlalchemy.engine.Engine COMMIT\n",
      "Tables created\n"
     ]
    }
   ],
   "source": [
    "Base.metadata.create_all(engine)\n",
    "print(\"Tables created\")"
   ]
  },
  {
   "cell_type": "markdown",
   "id": "cd69579a-e9db-4150-b36f-23ae9207d3b4",
   "metadata": {},
   "source": [
    "#### Insert record into table"
   ]
  },
  {
   "cell_type": "code",
   "execution_count": 52,
   "id": "0c238029-00a3-430b-af1a-b0bf01786b2e",
   "metadata": {},
   "outputs": [
    {
     "name": "stdout",
     "output_type": "stream",
     "text": [
      "2024-10-17 19:12:01,498 INFO sqlalchemy.engine.Engine BEGIN (implicit)\n",
      "2024-10-17 19:12:01,500 INFO sqlalchemy.engine.Engine INSERT INTO customers (name, email, age) VALUES (?, ?, ?) RETURNING id\n",
      "2024-10-17 19:12:01,501 INFO sqlalchemy.engine.Engine [generated in 0.00015s (insertmanyvalues) 1/2 (ordered; batch not supported)] ('TOm Smith', 'tom.smith@gmail.com', 40)\n",
      "2024-10-17 19:12:01,503 INFO sqlalchemy.engine.Engine INSERT INTO customers (name, email, age) VALUES (?, ?, ?) RETURNING id\n",
      "2024-10-17 19:12:01,503 INFO sqlalchemy.engine.Engine [insertmanyvalues 2/2 (ordered; batch not supported)] ('Penny Colin', 'penny.colin@gmail.com', 34)\n",
      "2024-10-17 19:12:01,505 INFO sqlalchemy.engine.Engine COMMIT\n"
     ]
    }
   ],
   "source": [
    "from sqlalchemy.orm import sessionmaker\n",
    "\n",
    "Session = sessionmaker(bind=engine)\n",
    "session=Session()\n",
    "\n",
    "customer1=Customer(name=\"Tom Smith\",age=40,email=\"tom.smith@gmail.com\")\n",
    "customer2=Customer(name=\"Penny Colin\",age=34,email=\"penny.colin@gmail.com\")\n",
    "\n",
    "session.add(customer1)\n",
    "session.add(customer2)\n",
    "\n",
    "session.commit()"
   ]
  },
  {
   "cell_type": "markdown",
   "id": "f44f8cc2-981c-467d-84d0-6d30cbc432e2",
   "metadata": {},
   "source": [
    "#### Query the data in db"
   ]
  },
  {
   "cell_type": "code",
   "execution_count": 66,
   "id": "86218f10-0694-455f-b9de-fdc04d4a7503",
   "metadata": {},
   "outputs": [
    {
     "name": "stdout",
     "output_type": "stream",
     "text": [
      "2024-10-17 19:26:34,540 INFO sqlalchemy.engine.Engine SELECT customers.id AS customers_id, customers.name AS customers_name, customers.email AS customers_email, customers.age AS customers_age \n",
      "FROM customers\n",
      "2024-10-17 19:26:34,540 INFO sqlalchemy.engine.Engine [cached since 518.9s ago] ()\n",
      "<class 'list'>\n",
      "<class '__main__.Customer'>\n",
      "Customer [Id: 1 | Name:Thomas Smith | Email : tom.smith@gmail.com | Age: 39]\n",
      "<class '__main__.Customer'>\n",
      "Customer [Id: 2 | Name:Penny Colin | Email : penny.colin@gmail.com | Age: 34]\n"
     ]
    }
   ],
   "source": [
    "customers=session.query(Customer).all()\n",
    "print(type(customers))\n",
    "for customer in customers:\n",
    "    print(type(customer))\n",
    "    print(customer)"
   ]
  },
  {
   "cell_type": "code",
   "execution_count": 59,
   "id": "a96537a7-b0b1-4acf-aa49-91ef35655060",
   "metadata": {},
   "outputs": [
    {
     "name": "stdout",
     "output_type": "stream",
     "text": [
      "2024-10-17 19:23:07,148 INFO sqlalchemy.engine.Engine SELECT customers.id AS customers_id, customers.name AS customers_name, customers.email AS customers_email, customers.age AS customers_age \n",
      "FROM customers \n",
      "WHERE customers.id = ?\n",
      " LIMIT ? OFFSET ?\n",
      "2024-10-17 19:23:07,149 INFO sqlalchemy.engine.Engine [generated in 0.00084s] (1, 1, 0)\n",
      "Customer [Id: 1 | Name:TOm Smith | Email : tom.smith@gmail.com | Age: 40]\n"
     ]
    }
   ],
   "source": [
    "tom=session.query(Customer).filter_by(id=1).first()\n",
    "print(tom)"
   ]
  },
  {
   "cell_type": "markdown",
   "id": "d9d32853-e1c7-4b00-a0d0-b120e1046ad9",
   "metadata": {},
   "source": [
    "#### Update record in Alchemy"
   ]
  },
  {
   "cell_type": "code",
   "execution_count": 70,
   "id": "fa0895b4-ea10-4d9f-a2fc-a33441d0df3f",
   "metadata": {},
   "outputs": [
    {
     "name": "stdout",
     "output_type": "stream",
     "text": [
      "2024-10-17 19:27:39,186 INFO sqlalchemy.engine.Engine SELECT customers.id AS customers_id, customers.name AS customers_name, customers.email AS customers_email, customers.age AS customers_age \n",
      "FROM customers \n",
      "WHERE customers.id = ?\n",
      " LIMIT ? OFFSET ?\n",
      "2024-10-17 19:27:39,187 INFO sqlalchemy.engine.Engine [cached since 272s ago] (1, 1, 0)\n",
      "Customer [Id: 1 | Name:Thomas Smith | Email : tom.smith@gmail.com | Age: 39]\n",
      "2024-10-17 19:27:39,188 INFO sqlalchemy.engine.Engine COMMIT\n"
     ]
    }
   ],
   "source": [
    "tom=session.query(Customer).filter_by(id=1).first()\n",
    "print(tom)\n",
    "\n",
    "tom.name=\"Thomas Smith\"\n",
    "tom.age=39\n",
    "\n",
    "session.commit()"
   ]
  },
  {
   "cell_type": "markdown",
   "id": "54af96cc-ddc0-479a-8492-01e46c466f66",
   "metadata": {},
   "source": [
    "#### Delete the record"
   ]
  },
  {
   "cell_type": "code",
   "execution_count": 73,
   "id": "33243d1d-e9c3-430d-b0f3-656a0b80f2b2",
   "metadata": {},
   "outputs": [
    {
     "name": "stdout",
     "output_type": "stream",
     "text": [
      "2024-10-17 19:31:19,700 INFO sqlalchemy.engine.Engine BEGIN (implicit)\n",
      "2024-10-17 19:31:19,701 INFO sqlalchemy.engine.Engine SELECT customers.id AS customers_id, customers.name AS customers_name, customers.email AS customers_email, customers.age AS customers_age \n",
      "FROM customers \n",
      "WHERE customers.id = ?\n",
      " LIMIT ? OFFSET ?\n",
      "2024-10-17 19:31:19,701 INFO sqlalchemy.engine.Engine [cached since 492.6s ago] (2, 1, 0)\n",
      "Customer [Id: 2 | Name:Penny Colin | Email : penny.colin@gmail.com | Age: 34]\n",
      "2024-10-17 19:31:19,703 INFO sqlalchemy.engine.Engine DELETE FROM customers WHERE customers.id = ?\n",
      "2024-10-17 19:31:19,704 INFO sqlalchemy.engine.Engine [generated in 0.00050s] (2,)\n",
      "2024-10-17 19:31:19,705 INFO sqlalchemy.engine.Engine COMMIT\n",
      "Record Deleted\n"
     ]
    }
   ],
   "source": [
    "\n",
    "\n",
    "penny=session.query(Customer).filter_by(id=2).first()\n",
    "print(penny)\n",
    "\n",
    "session.delete(penny)\n",
    "session.commit()\n",
    "\n",
    "print(\"Record Deleted\")"
   ]
  },
  {
   "cell_type": "code",
   "execution_count": null,
   "id": "0b09002d-c55e-4f99-9432-04e9161e672e",
   "metadata": {},
   "outputs": [],
   "source": []
  }
 ],
 "metadata": {
  "kernelspec": {
   "display_name": "Python 3 (ipykernel)",
   "language": "python",
   "name": "python3"
  },
  "language_info": {
   "codemirror_mode": {
    "name": "ipython",
    "version": 3
   },
   "file_extension": ".py",
   "mimetype": "text/x-python",
   "name": "python",
   "nbconvert_exporter": "python",
   "pygments_lexer": "ipython3",
   "version": "3.12.4"
  }
 },
 "nbformat": 4,
 "nbformat_minor": 5
}
