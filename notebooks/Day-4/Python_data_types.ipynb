{
 "cells": [
  {
   "cell_type": "code",
   "execution_count": 14,
   "id": "61f35af1",
   "metadata": {},
   "outputs": [
    {
     "data": {
      "text/plain": [
       "str"
      ]
     },
     "execution_count": 14,
     "metadata": {},
     "output_type": "execute_result"
    }
   ],
   "source": [
    "x=\"Vodacon\"\n",
    "type(x)"
   ]
  },
  {
   "cell_type": "code",
   "execution_count": 2,
   "id": "855fe049",
   "metadata": {},
   "outputs": [
    {
     "name": "stdout",
     "output_type": "stream",
     "text": [
      "Vodacon\n"
     ]
    }
   ],
   "source": [
    "print(x)\n"
   ]
  },
  {
   "cell_type": "code",
   "execution_count": 3,
   "id": "ad5c99ed",
   "metadata": {},
   "outputs": [
    {
     "data": {
      "text/plain": [
       "'Vodacon'"
      ]
     },
     "execution_count": 3,
     "metadata": {},
     "output_type": "execute_result"
    }
   ],
   "source": [
    "x\n"
   ]
  },
  {
   "cell_type": "code",
   "execution_count": 4,
   "id": "d0a66103",
   "metadata": {},
   "outputs": [
    {
     "name": "stdout",
     "output_type": "stream",
     "text": [
      "10\n"
     ]
    }
   ],
   "source": [
    "x=10\n",
    "type(x)\n",
    "print(x)"
   ]
  },
  {
   "cell_type": "code",
   "execution_count": 5,
   "id": "89de1945",
   "metadata": {},
   "outputs": [
    {
     "name": "stdout",
     "output_type": "stream",
     "text": [
      "<class 'int'>\n",
      "10\n"
     ]
    }
   ],
   "source": [
    "x=10\n",
    "print(type(x))\n",
    "print(x)"
   ]
  },
  {
   "cell_type": "code",
   "execution_count": 6,
   "id": "254853cb",
   "metadata": {},
   "outputs": [
    {
     "name": "stdout",
     "output_type": "stream",
     "text": [
      "<class 'int'>\n",
      "9223372036854775809\n"
     ]
    }
   ],
   "source": [
    "x=9223372036854775809\n",
    "print(type(x))\n",
    "print(x)"
   ]
  },
  {
   "cell_type": "code",
   "execution_count": 7,
   "id": "2f8dd95a",
   "metadata": {},
   "outputs": [
    {
     "name": "stdout",
     "output_type": "stream",
     "text": [
      "<class 'float'>\n",
      "15.7\n"
     ]
    }
   ],
   "source": [
    "x=15.7\n",
    "print(type(x))\n",
    "print(x)"
   ]
  },
  {
   "cell_type": "code",
   "execution_count": 8,
   "id": "a597a693",
   "metadata": {},
   "outputs": [],
   "source": [
    "# Complex Number -- real number + imaginary number 'j'"
   ]
  },
  {
   "cell_type": "code",
   "execution_count": 9,
   "id": "aa3a2d3a",
   "metadata": {},
   "outputs": [
    {
     "name": "stdout",
     "output_type": "stream",
     "text": [
      "<class 'complex'>\n",
      "(10+5j)\n"
     ]
    }
   ],
   "source": [
    "x=10+5j\n",
    "print(type(x))\n",
    "print(x)"
   ]
  },
  {
   "cell_type": "code",
   "execution_count": 10,
   "id": "9c007300",
   "metadata": {},
   "outputs": [],
   "source": [
    "# Boolean Values\n",
    "\n",
    "# True\n",
    "# False\n",
    "\n",
    "# true X\n",
    "# false X"
   ]
  },
  {
   "cell_type": "code",
   "execution_count": 11,
   "id": "0a1c0822",
   "metadata": {},
   "outputs": [
    {
     "name": "stdout",
     "output_type": "stream",
     "text": [
      "<class 'bool'>\n",
      "True\n"
     ]
    }
   ],
   "source": [
    "x=True\n",
    "print(type(x))\n",
    "print(x)"
   ]
  },
  {
   "cell_type": "code",
   "execution_count": 12,
   "id": "a1d8e6eb",
   "metadata": {},
   "outputs": [
    {
     "name": "stdout",
     "output_type": "stream",
     "text": [
      "<class 'bool'>\n",
      "False\n"
     ]
    }
   ],
   "source": [
    "x=False\n",
    "print(type(x))\n",
    "print(x)"
   ]
  },
  {
   "cell_type": "code",
   "execution_count": 15,
   "id": "cab5d6a3",
   "metadata": {},
   "outputs": [],
   "source": [
    "# x=false\n",
    "# print(type(x))\n",
    "# print(x)"
   ]
  },
  {
   "cell_type": "code",
   "execution_count": 16,
   "id": "f6da9587",
   "metadata": {},
   "outputs": [],
   "source": [
    "# Sequence\n",
    "# List -- [] -- mutable\n",
    "# Tuple -- () -- immutable --read only list\n",
    "# Range -- range(from,to) -- iterable "
   ]
  },
  {
   "cell_type": "code",
   "execution_count": 17,
   "id": "70de889e",
   "metadata": {},
   "outputs": [
    {
     "name": "stdout",
     "output_type": "stream",
     "text": [
      "<class 'list'>\n",
      "['Hyundai', 'Toyota', 'Kia', 'Ford']\n"
     ]
    }
   ],
   "source": [
    "x= [\"Hyundai\",\"Toyota\",\"Kia\",\"Ford\"]\n",
    "print(type(x))\n",
    "print(x)"
   ]
  },
  {
   "cell_type": "code",
   "execution_count": 18,
   "id": "eed744ff",
   "metadata": {},
   "outputs": [
    {
     "name": "stdout",
     "output_type": "stream",
     "text": [
      "<class 'tuple'>\n",
      "('Hyundai', 'Toyota', 'Kia', 'Ford')\n"
     ]
    }
   ],
   "source": [
    "x=(\"Hyundai\",\"Toyota\",\"Kia\",\"Ford\")\n",
    "print(type(x))\n",
    "print(x)"
   ]
  },
  {
   "cell_type": "code",
   "execution_count": 19,
   "id": "df403c90",
   "metadata": {},
   "outputs": [
    {
     "name": "stdout",
     "output_type": "stream",
     "text": [
      "<class 'range'>\n",
      "range(1, 10)\n"
     ]
    }
   ],
   "source": [
    "x=range(1,10)\n",
    "print(type(x))\n",
    "print(x)"
   ]
  },
  {
   "cell_type": "code",
   "execution_count": 20,
   "id": "1b110560",
   "metadata": {},
   "outputs": [],
   "source": [
    "# Set and Dictionary \n",
    "# Set -- {} -- no duplicates | unordered\n",
    "# Dictionary -- {key:value}  | key cannot be duplicate"
   ]
  },
  {
   "cell_type": "code",
   "execution_count": 21,
   "id": "aa264cc9",
   "metadata": {},
   "outputs": [
    {
     "name": "stdout",
     "output_type": "stream",
     "text": [
      "<class 'set'>\n",
      "{'Ford', 'Tata', 'Toyota', 'Kia', 'Hyundai'}\n"
     ]
    }
   ],
   "source": [
    "x={\"Hyundai\",\"Toyota\",\"Kia\",\"Ford\",\"Kia\",\"Tata\",\"Ford\"}\n",
    "print(type(x))\n",
    "print(x)"
   ]
  },
  {
   "cell_type": "code",
   "execution_count": 23,
   "id": "12d23097",
   "metadata": {},
   "outputs": [
    {
     "name": "stdout",
     "output_type": "stream",
     "text": [
      "<class 'dict'>\n",
      "{'name': 'Zartab Nakhwa', 'city': 'Mumbai', 'blog': 'www.youtube.com/CodeWithZ', 'age': 33, 'married': True, 'language': ['Java', 'Data Engineering', 'Cloud']}\n"
     ]
    }
   ],
   "source": [
    "x={\"name\":\"Zartab Nakhwa\",\n",
    "   \"city\":\"Mumbai\",\n",
    "   \"blog\":\"www.youtube.com/CodeWithZ\",\n",
    "   \"age\":33,\n",
    "   \"married\":True,\n",
    "   \"language\":[\"Java\",\"Data Engineering\",\"Cloud\"]\n",
    "  }\n",
    "\n",
    "print(type(x))\n",
    "print(x)\n"
   ]
  },
  {
   "cell_type": "code",
   "execution_count": null,
   "id": "38710ac2",
   "metadata": {},
   "outputs": [],
   "source": []
  }
 ],
 "metadata": {
  "kernelspec": {
   "display_name": "Python 3 (ipykernel)",
   "language": "python",
   "name": "python3"
  },
  "language_info": {
   "codemirror_mode": {
    "name": "ipython",
    "version": 3
   },
   "file_extension": ".py",
   "mimetype": "text/x-python",
   "name": "python",
   "nbconvert_exporter": "python",
   "pygments_lexer": "ipython3",
   "version": "3.11.5"
  }
 },
 "nbformat": 4,
 "nbformat_minor": 5
}
