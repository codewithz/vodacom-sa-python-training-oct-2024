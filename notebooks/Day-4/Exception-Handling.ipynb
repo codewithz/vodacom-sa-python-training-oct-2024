{
 "cells": [
  {
   "cell_type": "markdown",
   "id": "b7ff7178-ae66-4a09-bedc-78dc12a19eda",
   "metadata": {},
   "source": [
    "## Exception Handling"
   ]
  },
  {
   "cell_type": "code",
   "execution_count": 2,
   "id": "a8ca8c17-29ce-48fa-8c0b-814de03c4aff",
   "metadata": {},
   "outputs": [
    {
     "ename": "IndexError",
     "evalue": "list index out of range",
     "output_type": "error",
     "traceback": [
      "\u001b[1;31m---------------------------------------------------------------------------\u001b[0m",
      "\u001b[1;31mIndexError\u001b[0m                                Traceback (most recent call last)",
      "Cell \u001b[1;32mIn[2], line 2\u001b[0m\n\u001b[0;32m      1\u001b[0m number\u001b[38;5;241m=\u001b[39m[\u001b[38;5;241m1\u001b[39m,\u001b[38;5;241m2\u001b[39m]\n\u001b[1;32m----> 2\u001b[0m \u001b[38;5;28mprint\u001b[39m(number[\u001b[38;5;241m3\u001b[39m])\n",
      "\u001b[1;31mIndexError\u001b[0m: list index out of range"
     ]
    }
   ],
   "source": [
    "number=[1,2]\n",
    "print(number[3])"
   ]
  },
  {
   "cell_type": "code",
   "execution_count": 22,
   "id": "6e03b358-4d51-4649-8dfd-c486b718933e",
   "metadata": {},
   "outputs": [
    {
     "name": "stdin",
     "output_type": "stream",
     "text": [
      "Enter Age: Z\n"
     ]
    },
    {
     "ename": "ValueError",
     "evalue": "invalid literal for int() with base 10: 'Z'",
     "output_type": "error",
     "traceback": [
      "\u001b[1;31m---------------------------------------------------------------------------\u001b[0m",
      "\u001b[1;31mValueError\u001b[0m                                Traceback (most recent call last)",
      "Cell \u001b[1;32mIn[22], line 1\u001b[0m\n\u001b[1;32m----> 1\u001b[0m age\u001b[38;5;241m=\u001b[39m\u001b[38;5;28mint\u001b[39m(\u001b[38;5;28minput\u001b[39m(\u001b[38;5;124m\"\u001b[39m\u001b[38;5;124mEnter Age:\u001b[39m\u001b[38;5;124m\"\u001b[39m))\n\u001b[0;32m      3\u001b[0m \u001b[38;5;28mprint\u001b[39m()\n\u001b[0;32m      4\u001b[0m \u001b[38;5;28mprint\u001b[39m()\n",
      "\u001b[1;31mValueError\u001b[0m: invalid literal for int() with base 10: 'Z'"
     ]
    }
   ],
   "source": [
    "age=int(input(\"Enter Age:\"))\n",
    "\n",
    "print()\n",
    "print()\n",
    "print(\"Execution continues....\")"
   ]
  },
  {
   "cell_type": "markdown",
   "id": "a4947dbb-f0c0-4d37-afa6-a6616803fb87",
   "metadata": {},
   "source": [
    "#### Handling using try-except\n"
   ]
  },
  {
   "cell_type": "code",
   "execution_count": 26,
   "id": "6937b83a-9fe3-4eb7-8727-2a4b2e53184e",
   "metadata": {},
   "outputs": [
    {
     "name": "stdin",
     "output_type": "stream",
     "text": [
      "Enter Age: Z\n"
     ]
    },
    {
     "name": "stdout",
     "output_type": "stream",
     "text": [
      "You have entered an invalid age\n",
      "invalid literal for int() with base 10: 'Z'\n",
      "<class 'ValueError'>\n",
      "\n",
      "\n",
      "Execution continues....\n"
     ]
    }
   ],
   "source": [
    "try:\n",
    "    age=int(input(\"Enter Age:\"))\n",
    "    print(f\"Age is {age}\")\n",
    "except ValueError as ex:\n",
    "    print(\"You have entered an invalid age\")\n",
    "    print(ex)\n",
    "    print(type(ex))\n",
    "else:\n",
    "    print(\"Else after try execute when there is no exception\")\n",
    "\n",
    "\n",
    "print()\n",
    "print()\n",
    "print(\"Execution continues....\")"
   ]
  },
  {
   "cell_type": "markdown",
   "id": "da07f1df-761e-4727-8853-c0211945335e",
   "metadata": {},
   "source": [
    "#### Handling Multiple Exceptions\n"
   ]
  },
  {
   "cell_type": "code",
   "execution_count": 51,
   "id": "29ea61c3-4a89-49d5-b122-3291f030f407",
   "metadata": {},
   "outputs": [
    {
     "name": "stdin",
     "output_type": "stream",
     "text": [
      "Enter Age: 10\n"
     ]
    },
    {
     "name": "stdout",
     "output_type": "stream",
     "text": [
      "Age is 10, XFactor is 1.0\n",
      "Some Other Exception have occurred\n",
      "Reason : list index out of range\n",
      "\n",
      "\n",
      "Execution continues....\n"
     ]
    },
    {
     "name": "stderr",
     "output_type": "stream",
     "text": [
      "Traceback (most recent call last):\n",
      "  File \"C:\\Users\\VICTUS\\AppData\\Local\\Temp\\ipykernel_38624\\2092407388.py\", line 8, in <module>\n",
      "    print(numbers[2])\n",
      "          ~~~~~~~^^^\n",
      "IndexError: list index out of range\n"
     ]
    }
   ],
   "source": [
    "import traceback\n",
    "\n",
    "try:\n",
    "    age=int(input(\"Enter Age:\"))\n",
    "    xfactor=10/age\n",
    "    print(f\"Age is {age}, XFactor is {xfactor}\")\n",
    "    numbers=[123,456]\n",
    "    print(numbers[2])\n",
    "except ValueError as ex:\n",
    "    print(\"VE: Invalid Age entered\")\n",
    "    traceback.print_exc()\n",
    "except ZeroDivisionError as ex:\n",
    "    print(\"ZDE:You seem to have entered zero as age\")\n",
    "    traceback.print_exc()\n",
    "except Exception as ex:\n",
    "    print(\"Some Other Exception have occurred\")\n",
    "    traceback.print_exc()\n",
    "    print(\"Reason :\",ex)\n",
    "\n",
    "\n",
    "print()\n",
    "print()\n",
    "print(\"Execution continues....\")"
   ]
  },
  {
   "cell_type": "markdown",
   "id": "ffa4dd66-a31e-4347-803a-d3b6fda05386",
   "metadata": {},
   "source": [
    "#### Cleaning Up"
   ]
  },
  {
   "cell_type": "code",
   "execution_count": 58,
   "id": "de5b72b3-3d99-47a5-bd13-144dcbcb33e0",
   "metadata": {},
   "outputs": [
    {
     "name": "stdout",
     "output_type": "stream",
     "text": [
      "Is file closed?: False\n"
     ]
    },
    {
     "name": "stdin",
     "output_type": "stream",
     "text": [
      "Enter Age: 10\n"
     ]
    },
    {
     "name": "stdout",
     "output_type": "stream",
     "text": [
      "Age is 10, XFactor is 1.0\n",
      "No exceptions found\n",
      "This block executes in all conditions\n",
      "Exception occurs or not occurs, this will execute\n",
      "\n",
      "\n",
      "Execution continues....\n"
     ]
    }
   ],
   "source": [
    "import warnings\n",
    "\n",
    "try:\n",
    "    file=open(\"test.txt\")\n",
    "    print(\"Is file closed?:\",file.closed)\n",
    "    age=int(input(\"Enter Age:\"))\n",
    "    xfactor=10/age\n",
    "    print(f\"Age is {age}, XFactor is {xfactor}\")\n",
    "\n",
    "except ValueError as ex:\n",
    "    print(\"VE: Invalid Age entered\")\n",
    "    traceback.print_exc()\n",
    "except ZeroDivisionError as ex:\n",
    "    print(\"ZDE:You seem to have entered zero as age\")\n",
    "    traceback.print_exc()\n",
    "except Exception as ex:\n",
    "    print(\"Some Other Exception have occurred\")\n",
    "    traceback.print_exc()\n",
    "    print(\"Reason :\",ex)\n",
    "else:\n",
    "    print(\"No exceptions found\")\n",
    "finally:\n",
    "    print(\"This block executes in all conditions\")\n",
    "    print(\"Exception occurs or not occurs, this will execute\")\n",
    "    # if not file.closed:\n",
    "    #         warnings.warn(\"File was not closed properly\", ResourceWarning)\n",
    "    file.close()\n",
    "    print(\"Is file closed?:\",file.closed)\n",
    "\n",
    "\n",
    "print()\n",
    "print()\n",
    "print(\"Execution continues....\")\n",
    "    "
   ]
  },
  {
   "cell_type": "markdown",
   "id": "c397ee13-3ee3-4873-8298-e66feb647594",
   "metadata": {},
   "source": [
    "#### Exception Handling with with statement"
   ]
  },
  {
   "cell_type": "code",
   "execution_count": 61,
   "id": "1b2fffd5-ac94-4cd2-be2b-d2071705ca82",
   "metadata": {},
   "outputs": [
    {
     "name": "stdout",
     "output_type": "stream",
     "text": [
      "Status of source | is file closed: False\n",
      "Status of target | is file closed: False\n",
      "-------------------- with block ends here --------------------\n",
      "Status of source | is file closed: True\n",
      "Status of target | is file closed: True\n"
     ]
    }
   ],
   "source": [
    "try:\n",
    "    with open(\"test.txt\") as source,open(\"names.txt\") as target:\n",
    "        x=10/1\n",
    "        print(\"Status of source | is file closed:\",source.closed)\n",
    "        print(\"Status of target | is file closed:\",target.closed)\n",
    "        print(20*'-', \"with block ends here\",20*'-')\n",
    "    print(\"Status of source | is file closed:\",source.closed)\n",
    "    print(\"Status of target | is file closed:\",target.closed)\n",
    "except Exception as ex:\n",
    "    print(ex)\n",
    "    "
   ]
  },
  {
   "cell_type": "markdown",
   "id": "22e1e317-d01f-467c-83b7-1ec400ec112a",
   "metadata": {},
   "source": [
    "#### Raise an Exception"
   ]
  },
  {
   "cell_type": "code",
   "execution_count": 72,
   "id": "4ccbfbcc-2d93-476b-b1da-62de03d2f4d4",
   "metadata": {},
   "outputs": [],
   "source": [
    "def calculate_xfactor(number):\n",
    "    if(number<=0):\n",
    "        raise ValueError(\"Number cannot be zero or less\")\n",
    "    else:\n",
    "         return number/10\n"
   ]
  },
  {
   "cell_type": "code",
   "execution_count": 80,
   "id": "8d165068-8af2-4de5-95fa-5c04d943d0a5",
   "metadata": {},
   "outputs": [
    {
     "name": "stdin",
     "output_type": "stream",
     "text": [
      "Enter Number for XFactor: 0\n"
     ]
    },
    {
     "name": "stdout",
     "output_type": "stream",
     "text": [
      "Number cannot be zero or less\n"
     ]
    },
    {
     "name": "stderr",
     "output_type": "stream",
     "text": [
      "Traceback (most recent call last):\n",
      "  File \"C:\\Users\\VICTUS\\AppData\\Local\\Temp\\ipykernel_38624\\963835676.py\", line 4, in <module>\n",
      "    xfactor=calculate_xfactor(number)\n",
      "            ^^^^^^^^^^^^^^^^^^^^^^^^^\n",
      "  File \"C:\\Users\\VICTUS\\AppData\\Local\\Temp\\ipykernel_38624\\1407508276.py\", line 3, in calculate_xfactor\n",
      "    raise ValueError(\"Number cannot be zero or less\")\n",
      "ValueError: Number cannot be zero or less\n"
     ]
    }
   ],
   "source": [
    "import traceback\n",
    "try:\n",
    "    number=int(input(\"Enter Number for XFactor:\"))\n",
    "    xfactor=calculate_xfactor(number)\n",
    "    print(\"XFACTOR:\",xfactor)\n",
    "except ValueError as ex:\n",
    "    print(ex)\n",
    "    traceback.print_exc()"
   ]
  },
  {
   "cell_type": "code",
   "execution_count": null,
   "id": "d943dfd3-17ff-41db-875a-339eb5284f8b",
   "metadata": {},
   "outputs": [],
   "source": []
  }
 ],
 "metadata": {
  "kernelspec": {
   "display_name": "Python 3 (ipykernel)",
   "language": "python",
   "name": "python3"
  },
  "language_info": {
   "codemirror_mode": {
    "name": "ipython",
    "version": 3
   },
   "file_extension": ".py",
   "mimetype": "text/x-python",
   "name": "python",
   "nbconvert_exporter": "python",
   "pygments_lexer": "ipython3",
   "version": "3.12.4"
  }
 },
 "nbformat": 4,
 "nbformat_minor": 5
}
