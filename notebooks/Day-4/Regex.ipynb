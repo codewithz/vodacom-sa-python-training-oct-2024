{
 "cells": [
  {
   "cell_type": "markdown",
   "id": "ac0ba1d8-a18d-4659-b095-aafd2e651c3d",
   "metadata": {},
   "source": [
    "## Regex"
   ]
  },
  {
   "cell_type": "code",
   "execution_count": null,
   "id": "d9e8aad8-d7e7-4f93-9bde-4898890cdf99",
   "metadata": {},
   "outputs": [],
   "source": [
    "#  https://www.youtube.com/watch?v=APvtuNfB5P8&t=1s"
   ]
  },
  {
   "cell_type": "markdown",
   "id": "8ceda332-d7f5-4c1f-a8cc-0af40477cbca",
   "metadata": {},
   "source": [
    "#### Boiler Plate"
   ]
  },
  {
   "cell_type": "code",
   "execution_count": 3,
   "id": "271b457c-105a-48c1-9cf0-ca6d46d78b99",
   "metadata": {},
   "outputs": [
    {
     "name": "stdout",
     "output_type": "stream",
     "text": [
      " MATCHES for \n",
      " MATCHES for \n"
     ]
    }
   ],
   "source": [
    "import re\n",
    "\n",
    "word_list=['','']\n",
    "\n",
    "pattern =''\n",
    "\n",
    "for word in word_list:\n",
    "    result=re.match(pattern,word)\n",
    "    if result:\n",
    "        print(f\"{word} MATCHES for {pattern}\")\n",
    "    else:\n",
    "        print(f\"{word} DOESN'T MATCHES for {pattern}\")"
   ]
  },
  {
   "cell_type": "markdown",
   "id": "209ebdb4-dbc0-4977-9c20-941ef8e3717a",
   "metadata": {},
   "source": [
    "#### Asterix Symbol "
   ]
  },
  {
   "cell_type": "code",
   "execution_count": 14,
   "id": "2c6ec304-8d16-4b00-a653-a4f1b5c60c68",
   "metadata": {},
   "outputs": [
    {
     "name": "stdout",
     "output_type": "stream",
     "text": [
      "Fooaaaabar DOESN'T MATCHES for fooa*bar\n",
      "fooabar MATCHES for fooa*bar\n",
      "fooaxbar DOESN'T MATCHES for fooa*bar\n",
      "foobar MATCHES for fooa*bar\n",
      "fooaabar MATCHES for fooa*bar\n",
      "fooxxxbar DOESN'T MATCHES for fooa*bar\n",
      "fooxbar DOESN'T MATCHES for fooa*bar\n"
     ]
    }
   ],
   "source": [
    "import re\n",
    "\n",
    "word_list = ['Fooaaaabar', 'fooabar','fooaxbar', 'foobar',\n",
    "             'fooaabar', 'fooxxxbar', 'fooxbar']\n",
    "\n",
    "pattern='fooa*bar'\n",
    "\n",
    "for word in word_list:\n",
    "    result=re.match(pattern,word)\n",
    "    # print(type(result))\n",
    "    if result:\n",
    "        print(f\"{word} MATCHES for {pattern}\")\n",
    "    else:\n",
    "        print(f\"{word} DOESN'T MATCHES for {pattern}\")"
   ]
  },
  {
   "cell_type": "markdown",
   "id": "588173dc-59e0-4890-9555-7c00ee2ea5d6",
   "metadata": {},
   "source": [
    "#### Wildcard"
   ]
  },
  {
   "cell_type": "code",
   "execution_count": 22,
   "id": "7a6e6761-a346-4191-ac78-62d307187573",
   "metadata": {},
   "outputs": [
    {
     "name": "stdout",
     "output_type": "stream",
     "text": [
      "fooabar MATCHES for foo.bar\n",
      "fooxbar MATCHES for foo.bar\n",
      "baryfoo DOESN'T MATCHES for foo.bar\n",
      "foobar DOESN'T MATCHES for foo.bar\n",
      "fooxybar DOESN'T MATCHES for foo.bar\n",
      "foocbar MATCHES for foo.bar\n",
      "foo3bar MATCHES for foo.bar\n"
     ]
    }
   ],
   "source": [
    "import re\n",
    "\n",
    "word_list = ['fooabar', 'fooxbar', 'baryfoo',\n",
    "             'foobar', 'fooxybar', 'foocbar','foo3bar']\n",
    "pattern='foo.bar'\n",
    "\n",
    "for word in word_list:\n",
    "    result=re.match(pattern,word)\n",
    "    # print(type(result))\n",
    "    if result:\n",
    "        print(f\"{word} MATCHES for {pattern}\")\n",
    "    else:\n",
    "        print(f\"{word} DOESN'T MATCHES for {pattern}\")"
   ]
  },
  {
   "cell_type": "markdown",
   "id": "3788bfa3-7378-4bbf-bb6b-965b56031e24",
   "metadata": {},
   "source": [
    "#### Wildcard and asterisk"
   ]
  },
  {
   "cell_type": "code",
   "execution_count": 25,
   "id": "6ab322f3-5e81-40c0-8992-72427cd8b5b0",
   "metadata": {},
   "outputs": [
    {
     "name": "stdout",
     "output_type": "stream",
     "text": [
      "foobar MATCHES for foo.*bar\n",
      "barfoo DOESN'T MATCHES for foo.*bar\n",
      "fooabcbar MATCHES for foo.*bar\n",
      "foobxcbar MATCHES for foo.*bar\n",
      "barcbyfoo DOESN'T MATCHES for foo.*bar\n",
      "foozbar MATCHES for foo.*bar\n",
      "barafoo DOESN'T MATCHES for foo.*bar\n",
      "barabfoo DOESN'T MATCHES for foo.*bar\n"
     ]
    }
   ],
   "source": [
    "import re\n",
    "\n",
    "word_list = ['foobar', 'barfoo', 'fooabcbar',\n",
    "             'foobxcbar', 'barcbyfoo', 'foozbar', 'barafoo', 'barabfoo']\n",
    "pattern='foo.*bar'\n",
    "\n",
    "for word in word_list:\n",
    "    result=re.match(pattern,word)\n",
    "    # print(type(result))\n",
    "    if result:\n",
    "        print(f\"{word} MATCHES for {pattern}\")\n",
    "    else:\n",
    "        print(f\"{word} DOESN'T MATCHES for {pattern}\")\n"
   ]
  },
  {
   "cell_type": "markdown",
   "id": "5e743c4c-fd4e-4082-914a-83904680e196",
   "metadata": {},
   "source": [
    "#### Space "
   ]
  },
  {
   "cell_type": "code",
   "execution_count": 33,
   "id": "4ffc98f2-f935-41d6-8294-aeb9a0c9415c",
   "metadata": {},
   "outputs": [
    {
     "name": "stdout",
     "output_type": "stream",
     "text": [
      "fooxxxbar DOESN'T MATCHES for foo\\s*bar\n",
      "foo   bar MATCHES for foo\\s*bar\n",
      "fooxbar DOESN'T MATCHES for foo\\s*bar\n",
      "fooxxbarfoo bar DOESN'T MATCHES for foo\\s*bar\n",
      "foo      bar MATCHES for foo\\s*bar\n",
      "foobar MATCHES for foo\\s*bar\n",
      "fooyyybar DOESN'T MATCHES for foo\\s*bar\n"
     ]
    }
   ],
   "source": [
    "import re\n",
    "\n",
    "word_list = ['fooxxxbar', 'foo   bar', 'fooxbar', 'fooxxbar'\n",
    "                                                  'foo bar', 'foo      bar', 'foobar', 'fooyyybar']\n",
    "pattern='foo\\\\s*bar'\n",
    "\n",
    "for word in word_list:\n",
    "    result=re.match(pattern,word)\n",
    "    # print(type(result))\n",
    "    if result:\n",
    "        print(f\"{word} MATCHES for {pattern}\")\n",
    "    else:\n",
    "        print(f\"{word} DOESN'T MATCHES for {pattern}\")\n"
   ]
  },
  {
   "cell_type": "markdown",
   "id": "344be46e-ceb4-43fc-ad34-c25170dc51e8",
   "metadata": {},
   "source": [
    "#### Character Range"
   ]
  },
  {
   "cell_type": "code",
   "execution_count": 31,
   "id": "c1f1ec3d-8b34-4491-bc35-6646c4aefced",
   "metadata": {},
   "outputs": [
    {
     "name": "stdout",
     "output_type": "stream",
     "text": [
      "foo MATCHES for [fcl]oo\n",
      "moo DOESN'T MATCHES for [fcl]oo\n",
      "coo MATCHES for [fcl]oo\n",
      "doo DOESN'T MATCHES for [fcl]oo\n",
      "poo DOESN'T MATCHES for [fcl]oo\n",
      "loo MATCHES for [fcl]oo\n",
      "boo DOESN'T MATCHES for [fcl]oo\n",
      "hoo DOESN'T MATCHES for [fcl]oo\n"
     ]
    }
   ],
   "source": [
    "import re\n",
    "\n",
    "word_list =['foo', 'moo', 'coo', 'doo',\n",
    "            'poo', 'loo', 'boo', 'hoo']  ;\n",
    "\n",
    "pattern='[fcl]oo'\n",
    "\n",
    "for word in word_list:\n",
    "    result=re.match(pattern,word)\n",
    "    # print(type(result))\n",
    "    if result:\n",
    "        print(f\"{word} MATCHES for {pattern}\")\n",
    "    else:\n",
    "        print(f\"{word} DOESN'T MATCHES for {pattern}\")"
   ]
  },
  {
   "cell_type": "markdown",
   "id": "9c765f95-b123-4efe-b57b-c8332a4dd53f",
   "metadata": {},
   "source": [
    "#### Character Range with Negation"
   ]
  },
  {
   "cell_type": "code",
   "execution_count": 36,
   "id": "50e3951a-71c9-461c-8246-104b2269a9f7",
   "metadata": {},
   "outputs": [
    {
     "name": "stdout",
     "output_type": "stream",
     "text": [
      "foo MATCHES for [^mh]oo\n",
      "moo DOESN'T MATCHES for [^mh]oo\n",
      "coo MATCHES for [^mh]oo\n",
      "doo MATCHES for [^mh]oo\n",
      "poo MATCHES for [^mh]oo\n",
      "loo MATCHES for [^mh]oo\n",
      "boo MATCHES for [^mh]oo\n",
      "hoo DOESN'T MATCHES for [^mh]oo\n"
     ]
    }
   ],
   "source": [
    "import re\n",
    "\n",
    "word_list =['foo', 'moo', 'coo', 'doo',\n",
    "            'poo', 'loo', 'boo', 'hoo']  ;\n",
    "\n",
    "pattern='[^mh]oo'\n",
    "\n",
    "for word in word_list:\n",
    "    result=re.match(pattern,word)\n",
    "    # print(type(result))\n",
    "    if result:\n",
    "        print(f\"{word} MATCHES for {pattern}\")\n",
    "    else:\n",
    "        print(f\"{word} DOESN'T MATCHES for {pattern}\")"
   ]
  },
  {
   "cell_type": "markdown",
   "id": "c857deb0-061f-494a-995d-6c894ad0d1c6",
   "metadata": {},
   "source": [
    "#### Characters with Range"
   ]
  },
  {
   "cell_type": "code",
   "execution_count": 4,
   "id": "4ac91d6b-90fe-42f4-8b6d-373ed3ded145",
   "metadata": {},
   "outputs": [
    {
     "name": "stdout",
     "output_type": "stream",
     "text": [
      "joo MATCHES for [j-m]oo\n",
      "boo DOESN'T MATCHES for [j-m]oo\n",
      "koo MATCHES for [j-m]oo\n",
      "loo MATCHES for [j-m]oo\n",
      "poo DOESN'T MATCHES for [j-m]oo\n",
      "moo MATCHES for [j-m]oo\n",
      "zoo DOESN'T MATCHES for [j-m]oo\n",
      "hoo DOESN'T MATCHES for [j-m]oo\n"
     ]
    }
   ],
   "source": [
    "import re\n",
    "word_list = ['joo', 'boo', 'koo', 'loo', 'poo', 'moo', 'zoo', 'hoo']\n",
    "\n",
    "pattern='[j-m]oo'\n",
    "\n",
    "for word in word_list:\n",
    "    result=re.match(pattern,word)\n",
    "    # print(type(result))\n",
    "    if result:\n",
    "        print(f\"{word} MATCHES for {pattern}\")\n",
    "    else:\n",
    "        print(f\"{word} DOESN'T MATCHES for {pattern}\")"
   ]
  },
  {
   "cell_type": "markdown",
   "id": "53dc849e-f8ee-4e34-9f11-8ec470e3bc26",
   "metadata": {},
   "source": [
    "#### Characters with Range with more characters"
   ]
  },
  {
   "cell_type": "code",
   "execution_count": 7,
   "id": "463ea63d-10fd-4821-b14f-7b8859723136",
   "metadata": {},
   "outputs": [
    {
     "name": "stdout",
     "output_type": "stream",
     "text": [
      "joo MATCHES for [j-mz]oo\n",
      "boo DOESN'T MATCHES for [j-mz]oo\n",
      "koo MATCHES for [j-mz]oo\n",
      "loo MATCHES for [j-mz]oo\n",
      "poo DOESN'T MATCHES for [j-mz]oo\n",
      "moo MATCHES for [j-mz]oo\n",
      "zoo MATCHES for [j-mz]oo\n",
      "hoo DOESN'T MATCHES for [j-mz]oo\n"
     ]
    }
   ],
   "source": [
    "import re\n",
    "word_list = ['joo', 'boo', 'koo', 'loo', 'poo', 'moo', 'zoo', 'hoo']\n",
    "\n",
    "pattern='[j-mz]oo'\n",
    "\n",
    "for word in word_list:\n",
    "    result=re.match(pattern,word)\n",
    "    # print(type(result))\n",
    "    if result:\n",
    "        print(f\"{word} MATCHES for {pattern}\")\n",
    "    else:\n",
    "        print(f\"{word} DOESN'T MATCHES for {pattern}\")"
   ]
  },
  {
   "cell_type": "markdown",
   "id": "b0b6b1a6-575a-48e5-b33f-3009de424ef3",
   "metadata": {},
   "source": [
    "#### Characters with Range with more characters [Case based]"
   ]
  },
  {
   "cell_type": "code",
   "execution_count": 12,
   "id": "400b6e71-77c5-4a0d-8da1-a7462e53a0d8",
   "metadata": {},
   "outputs": [
    {
     "name": "stdout",
     "output_type": "stream",
     "text": [
      "joo MATCHES for [a-cj-mJ-Mz]oo\n",
      "aoo MATCHES for [a-cj-mJ-Mz]oo\n",
      "boo MATCHES for [a-cj-mJ-Mz]oo\n",
      "coo MATCHES for [a-cj-mJ-Mz]oo\n",
      "Koo MATCHES for [a-cj-mJ-Mz]oo\n",
      "Loo MATCHES for [a-cj-mJ-Mz]oo\n",
      "poo DOESN'T MATCHES for [a-cj-mJ-Mz]oo\n",
      "moo MATCHES for [a-cj-mJ-Mz]oo\n",
      "zoo MATCHES for [a-cj-mJ-Mz]oo\n",
      "hoo DOESN'T MATCHES for [a-cj-mJ-Mz]oo\n"
     ]
    }
   ],
   "source": [
    "import re\n",
    "word_list = ['joo', 'aoo','boo','coo', 'Koo', 'Loo', 'poo', 'moo', 'zoo', 'hoo']\n",
    "\n",
    "pattern='[a-cj-mJ-Mz]oo'\n",
    "\n",
    "for word in word_list:\n",
    "    result=re.match(pattern,word)\n",
    "    # print(type(result))\n",
    "    if result:\n",
    "        print(f\"{word} MATCHES for {pattern}\")\n",
    "    else:\n",
    "        print(f\"{word} DOESN'T MATCHES for {pattern}\")"
   ]
  },
  {
   "cell_type": "markdown",
   "id": "3e5cdb4a-5c70-4ae0-b157-f4b85cb46bb5",
   "metadata": {},
   "source": [
    "#### Characters with Range with special characters"
   ]
  },
  {
   "cell_type": "code",
   "execution_count": 16,
   "id": "6a0873f8-8adf-4671-8285-02f42ac425f4",
   "metadata": {},
   "outputs": [
    {
     "name": "stdout",
     "output_type": "stream",
     "text": [
      "x#y MATCHES for x[#:.]y\n",
      "x:y MATCHES for x[#:.]y\n",
      "x.y MATCHES for x[#:.]y\n",
      "x&y DOESN'T MATCHES for x[#:.]y\n",
      "x%y DOESN'T MATCHES for x[#:.]y\n"
     ]
    }
   ],
   "source": [
    "import re\n",
    "word_list = ['x#y', 'x:y', 'x.y', 'x&y', 'x%y']\n",
    "\n",
    "pattern='x[#:.]y'\n",
    "\n",
    "for word in word_list:\n",
    "    result=re.match(pattern,word)\n",
    "    # print(type(result))\n",
    "    if result:\n",
    "        print(f\"{word} MATCHES for {pattern}\")\n",
    "    else:\n",
    "        print(f\"{word} DOESN'T MATCHES for {pattern}\")"
   ]
  },
  {
   "cell_type": "markdown",
   "id": "b7a10dd8-d4ac-46f7-b859-35c48c1f6812",
   "metadata": {},
   "source": [
    "#### Characters with Range with escape characters"
   ]
  },
  {
   "cell_type": "code",
   "execution_count": 27,
   "id": "f9fd6994-3069-4f0c-bff4-be536abc94c0",
   "metadata": {},
   "outputs": [
    {
     "name": "stdout",
     "output_type": "stream",
     "text": [
      "x#y MATCHES for x[#:\\^]y\n",
      "x:y MATCHES for x[#:\\^]y\n",
      "x^y MATCHES for x[#:\\^]y\n",
      "x&y DOESN'T MATCHES for x[#:\\^]y\n",
      "x%y DOESN'T MATCHES for x[#:\\^]y\n"
     ]
    }
   ],
   "source": [
    "import re\n",
    "word_list = ['x#y', 'x:y', 'x^y', 'x&y', 'x%y']\n",
    "\n",
    "pattern='x[#:\\\\^]y'\n",
    "\n",
    "for word in word_list:\n",
    "    result=re.match(pattern,word)\n",
    "    # print(type(result))\n",
    "    if result:\n",
    "        print(f\"{word} MATCHES for {pattern}\")\n",
    "    else:\n",
    "        print(f\"{word} DOESN'T MATCHES for {pattern}\")"
   ]
  },
  {
   "cell_type": "code",
   "execution_count": 31,
   "id": "f67fb48f-1deb-42e5-a666-ba9dae5e8a66",
   "metadata": {},
   "outputs": [],
   "source": [
    "#### Characters with Range with escape characters -2"
   ]
  },
  {
   "cell_type": "code",
   "execution_count": 41,
   "id": "f12b935e-a1c0-4006-9a5e-e46323ec208f",
   "metadata": {},
   "outputs": [
    {
     "name": "stdout",
     "output_type": "stream",
     "text": [
      "x#y MATCHES for x[^&%]y\n",
      "x\\y MATCHES for x[^&%]y\n",
      "x^y MATCHES for x[^&%]y\n",
      "x&y DOESN'T MATCHES for x[^&%]y\n",
      "x%y DOESN'T MATCHES for x[^&%]y\n"
     ]
    },
    {
     "name": "stderr",
     "output_type": "stream",
     "text": [
      "<>:2: SyntaxWarning: invalid escape sequence '\\y'\n",
      "<>:2: SyntaxWarning: invalid escape sequence '\\y'\n",
      "C:\\Users\\VICTUS\\AppData\\Local\\Temp\\ipykernel_73352\\4052010445.py:2: SyntaxWarning: invalid escape sequence '\\y'\n",
      "  word_list = ['x#y', 'x\\y', 'x^y', 'x&y', 'x%y']\n"
     ]
    }
   ],
   "source": [
    "import re\n",
    "word_list = ['x#y', 'x\\y', 'x^y', 'x&y', 'x%y']\n",
    "\n",
    "# pattern='x[#\\\\\\^]y'\n",
    "pattern='x[^&%]y'\n",
    "\n",
    "for word in word_list:\n",
    "    result=re.match(pattern,word)\n",
    "    # print(type(result))\n",
    "    if result:\n",
    "        print(f\"{word} MATCHES for {pattern}\")\n",
    "    else:\n",
    "        print(f\"{word} DOESN'T MATCHES for {pattern}\")"
   ]
  },
  {
   "cell_type": "markdown",
   "id": "cdd98c31-71cb-4d7e-ad71-afb5e83c277c",
   "metadata": {},
   "source": [
    "#### Caret and Anchor [] for beginning and ending checks"
   ]
  },
  {
   "cell_type": "code",
   "execution_count": 44,
   "id": "fcf80d73-9a2f-4673-9654-35349c386c38",
   "metadata": {},
   "outputs": [
    {
     "name": "stdout",
     "output_type": "stream",
     "text": [
      "foo bar baz MATCHES FOR ^foo.*\n",
      "bar foo baz doesn't matches for ^foo.*\n",
      "baz foo bar doesn't matches for ^foo.*\n",
      "bar baz foo doesn't matches for ^foo.*\n",
      "foo baz bar MATCHES FOR ^foo.*\n",
      "baz bar foo doesn't matches for ^foo.*\n"
     ]
    }
   ],
   "source": [
    "import re\n",
    "\n",
    "word_list = ['foo bar baz', 'bar foo baz',\n",
    "             'baz foo bar', 'bar baz foo', 'foo baz bar', 'baz bar foo']\n",
    "\n",
    "pattern='^foo.*'\n",
    "\n",
    "for word in word_list:\n",
    "    result=re.match(pattern,word)\n",
    "    if result:\n",
    "        print(f\"{word} MATCHES FOR {pattern}\")\n",
    "    else:\n",
    "        print(f\"{word} doesn't matches for {pattern}\")"
   ]
  },
  {
   "cell_type": "code",
   "execution_count": 46,
   "id": "1c2b80ca-dcea-4b30-ba48-843fcca2a0b3",
   "metadata": {},
   "outputs": [
    {
     "name": "stdout",
     "output_type": "stream",
     "text": [
      "foo bar baz doesn't matches for .*bar$\n",
      "bar foo baz doesn't matches for .*bar$\n",
      "baz foo bar MATCHES FOR .*bar$\n",
      "bar baz foo doesn't matches for .*bar$\n",
      "foo baz bar MATCHES FOR .*bar$\n",
      "baz bar foo doesn't matches for .*bar$\n"
     ]
    }
   ],
   "source": [
    "import re\n",
    "\n",
    "word_list = ['foo bar baz', 'bar foo baz',\n",
    "             'baz foo bar', 'bar baz foo', 'foo baz bar', 'baz bar foo']\n",
    "\n",
    "pattern='.*bar$'\n",
    "\n",
    "for word in word_list:\n",
    "    result=re.match(pattern,word)\n",
    "    if result:\n",
    "        print(f\"{word} MATCHES FOR {pattern}\")\n",
    "    else:\n",
    "        print(f\"{word} doesn't matches for {pattern}\")"
   ]
  },
  {
   "cell_type": "code",
   "execution_count": 48,
   "id": "ef65aa18-2d41-45d7-a8ac-311741aa4845",
   "metadata": {},
   "outputs": [
    {
     "name": "stdout",
     "output_type": "stream",
     "text": [
      "foo bar baz doesn't matches for ^foo$\n",
      "bar foo baz doesn't matches for ^foo$\n",
      "foo MATCHES FOR ^foo$\n",
      "baz foo bar doesn't matches for ^foo$\n",
      "bar baz foo doesn't matches for ^foo$\n",
      "foo baz bar doesn't matches for ^foo$\n",
      "baz bar foo doesn't matches for ^foo$\n"
     ]
    }
   ],
   "source": [
    "import re\n",
    "\n",
    "word_list = ['foo bar baz', 'bar foo baz','foo',\n",
    "             'baz foo bar', 'bar baz foo', 'foo baz bar', 'baz bar foo']\n",
    "\n",
    "pattern='^foo$'\n",
    "for word in word_list:\n",
    "    result=re.match(pattern,word)\n",
    "    if result:\n",
    "        print(f\"{word} MATCHES FOR {pattern}\")\n",
    "    else:\n",
    "        print(f\"{word} doesn't matches for {pattern}\")"
   ]
  },
  {
   "cell_type": "markdown",
   "id": "77547c23-8d02-4709-9fe1-97a74df9f214",
   "metadata": {},
   "source": [
    "#### Repeating with {}"
   ]
  },
  {
   "cell_type": "code",
   "execution_count": 53,
   "id": "1a83e2fe-d3c7-4763-a5cb-c178f9a4f63c",
   "metadata": {},
   "outputs": [
    {
     "name": "stdout",
     "output_type": "stream",
     "text": [
      "834 MATCHES FOR ^\\d{3}$\n",
      "519 MATCHES FOR ^\\d{3}$\n",
      "4874 doesn't matches for ^\\d{3}$\n",
      "5 doesn't matches for ^\\d{3}$\n",
      "89 doesn't matches for ^\\d{3}$\n",
      "45687 doesn't matches for ^\\d{3}$\n",
      "25 doesn't matches for ^\\d{3}$\n",
      "645 MATCHES FOR ^\\d{3}$\n"
     ]
    }
   ],
   "source": [
    "import re\n",
    "\n",
    "word_list = [834, 519, 4874, 5, 89, 45687, 25, 645]\n",
    "\n",
    "pattern='^\\\\d{3}$'\n",
    "\n",
    "\n",
    "for word in word_list:\n",
    "    result=re.match(pattern,str(word))\n",
    "    if result:\n",
    "        print(f\"{word} MATCHES FOR {pattern}\")\n",
    "    else:\n",
    "        print(f\"{word} doesn't matches for {pattern}\")"
   ]
  },
  {
   "cell_type": "code",
   "execution_count": 55,
   "id": "9f8def0a-63fc-4fed-a9de-5f33bdb3c623",
   "metadata": {},
   "outputs": [
    {
     "name": "stdout",
     "output_type": "stream",
     "text": [
      "lion MATCHES FOR ^[a-z]{4,6}$\n",
      "tiger MATCHES FOR ^[a-z]{4,6}$\n",
      "leopard doesn't matches for ^[a-z]{4,6}$\n",
      "fox doesn't matches for ^[a-z]{4,6}$\n",
      "kangaroo doesn't matches for ^[a-z]{4,6}$\n",
      "cat doesn't matches for ^[a-z]{4,6}$\n",
      "mouse MATCHES FOR ^[a-z]{4,6}$\n",
      "cuckoo MATCHES FOR ^[a-z]{4,6}$\n",
      "deer MATCHES FOR ^[a-z]{4,6}$\n"
     ]
    }
   ],
   "source": [
    "import re\n",
    "\n",
    "word_list = ['lion', 'tiger', 'leopard', 'fox',\n",
    "             'kangaroo', 'cat', 'mouse', 'cuckoo', 'deer']\n",
    "\n",
    "pattern='^[a-z]{4,6}$'\n",
    "\n",
    "\n",
    "for word in word_list:\n",
    "    result=re.match(pattern,str(word))\n",
    "    if result:\n",
    "        print(f\"{word} MATCHES FOR {pattern}\")\n",
    "    else:\n",
    "        print(f\"{word} doesn't matches for {pattern}\")"
   ]
  },
  {
   "cell_type": "markdown",
   "id": "b52c06ef-da0d-440a-86ae-51a87284c952",
   "metadata": {},
   "source": [
    "#### Repeater with a pattern"
   ]
  },
  {
   "cell_type": "code",
   "execution_count": 60,
   "id": "1cbc98ac-b300-4801-a685-f07c02e79070",
   "metadata": {},
   "outputs": [
    {
     "name": "stdout",
     "output_type": "stream",
     "text": [
      "haaaa doesn't matches for (ha){4,9}\n",
      "ha doesn't matches for (ha){4,9}\n",
      "hahahahaha MATCHES FOR (ha){4,9}\n",
      "hahaha doesn't matches for (ha){4,9}\n",
      "hahahaha MATCHES FOR (ha){4,9}\n",
      "haha doesn't matches for (ha){4,9}\n",
      "hahahahahaha MATCHES FOR (ha){4,9}\n",
      "hahahahahahahaha MATCHES FOR (ha){4,9}\n",
      "hahahahahahahahaha MATCHES FOR (ha){4,9}\n"
     ]
    }
   ],
   "source": [
    "import re\n",
    "\n",
    "word_list = ['haaaa','ha', 'hahahahaha', 'hahaha', 'hahahaha', 'haha',\n",
    "             'hahahahahaha', 'hahahahahahahaha', 'hahahahahahahahaha']\n",
    "\n",
    "pattern='(ha){4,9}'\n",
    "\n",
    "\n",
    "for word in word_list:\n",
    "    result=re.match(pattern,str(word))\n",
    "    if result:\n",
    "        print(f\"{word} MATCHES FOR {pattern}\")\n",
    "    else:\n",
    "        print(f\"{word} doesn't matches for {pattern}\")"
   ]
  },
  {
   "cell_type": "markdown",
   "id": "a4ae5c6c-53a9-4fb5-a71d-289a6edacf54",
   "metadata": {},
   "source": [
    "#### Plus Symbol [One or More]"
   ]
  },
  {
   "cell_type": "code",
   "execution_count": 63,
   "id": "4b567cd9-c1c6-4c6c-921d-154f8905e50f",
   "metadata": {},
   "outputs": [
    {
     "name": "stdout",
     "output_type": "stream",
     "text": [
      "fooaaaabar MATCHES FOR fooa+bar\n",
      "fooabar MATCHES FOR fooa+bar\n",
      "foobar doesn't matches for fooa+bar\n",
      "fooaabar MATCHES FOR fooa+bar\n",
      "fooxxxbar doesn't matches for fooa+bar\n",
      "fooxar doesn't matches for fooa+bar\n"
     ]
    }
   ],
   "source": [
    "import re\n",
    "\n",
    "word_list = ['fooaaaabar', 'fooabar', 'foobar',\n",
    "             'fooaabar', 'fooxxxbar', 'fooxar']\n",
    "\n",
    "pattern='fooa+bar'\n",
    "\n",
    "\n",
    "for word in word_list:\n",
    "    result=re.match(pattern,str(word))\n",
    "    if result:\n",
    "        print(f\"{word} MATCHES FOR {pattern}\")\n",
    "    else:\n",
    "        print(f\"{word} doesn't matches for {pattern}\")"
   ]
  },
  {
   "cell_type": "markdown",
   "id": "4effd89c-58d2-4ca3-892c-5d8c0aa7e533",
   "metadata": {},
   "source": [
    "#### Question Symbol (Zero or One occurrence)"
   ]
  },
  {
   "cell_type": "code",
   "execution_count": 66,
   "id": "97a89989-0cc9-47b5-a92d-31e3928fee2b",
   "metadata": {},
   "outputs": [
    {
     "name": "stdout",
     "output_type": "stream",
     "text": [
      "https://website MATCHES FOR https?://website\n",
      "http://website MATCHES FOR https?://website\n",
      "httpss://website doesn't matches for https?://website\n",
      "httpx://website doesn't matches for https?://website\n",
      "httpxx://website doesn't matches for https?://website\n"
     ]
    }
   ],
   "source": [
    "import re\n",
    "\n",
    "word_list = ['https://website', 'http://website',\n",
    "             'httpss://website', 'httpx://website', 'httpxx://website']\n",
    "\n",
    "pattern='https?://website'\n",
    "\n",
    "\n",
    "for word in word_list:\n",
    "    result=re.match(pattern,str(word))\n",
    "    if result:\n",
    "        print(f\"{word} MATCHES FOR {pattern}\")\n",
    "    else:\n",
    "        print(f\"{word} doesn't matches for {pattern}\")\n"
   ]
  },
  {
   "cell_type": "markdown",
   "id": "d605bf26-c0c9-4f1f-8221-63683ad4f72c",
   "metadata": {},
   "source": [
    "#### Pipe Symbol"
   ]
  },
  {
   "cell_type": "code",
   "execution_count": 69,
   "id": "3698d8ed-9e5f-425c-a36e-936b90657ceb",
   "metadata": {},
   "outputs": [
    {
     "name": "stdout",
     "output_type": "stream",
     "text": [
      "sapwood doesn't matches for (ply|log)wood\n",
      "rosewood doesn't matches for (ply|log)wood\n",
      "logwood MATCHES FOR (ply|log)wood\n",
      "teakwood doesn't matches for (ply|log)wood\n",
      "plywood MATCHES FOR (ply|log)wood\n",
      "redwood doesn't matches for (ply|log)wood\n"
     ]
    }
   ],
   "source": [
    "\n",
    "import re\n",
    "\n",
    "word_list = ['sapwood', 'rosewood', 'logwood',\n",
    "             'teakwood', 'plywood', 'redwood']\n",
    "\n",
    "pattern='(ply|log)wood'\n",
    "\n",
    "\n",
    "for word in word_list:\n",
    "    result=re.match(pattern,str(word))\n",
    "    if result:\n",
    "        print(f\"{word} MATCHES FOR {pattern}\")\n",
    "    else:\n",
    "        print(f\"{word} doesn't matches for {pattern}\")"
   ]
  },
  {
   "cell_type": "markdown",
   "id": "06972742-ad25-469a-a6db-bd6aae255801",
   "metadata": {},
   "source": [
    "#### Email Pattern"
   ]
  },
  {
   "cell_type": "code",
   "execution_count": 74,
   "id": "2722420c-c916-4fdb-bb68-18c629a01a8c",
   "metadata": {},
   "outputs": [
    {
     "name": "stdout",
     "output_type": "stream",
     "text": [
      "zartab@codewithz.com MATCHES FOR ^[a-zA-Z][A-Za-z0-9_.-]*@[a-zA-Z][a-zA-Z0-9-.]*\\.(com|edu|net|org)\n",
      "zartab.n@uni.edu MATCHES FOR ^[a-zA-Z][A-Za-z0-9_.-]*@[a-zA-Z][a-zA-Z0-9-.]*\\.(com|edu|net|org)\n",
      "zartab-n-1312@my-company.net MATCHES FOR ^[a-zA-Z][A-Za-z0-9_.-]*@[a-zA-Z][a-zA-Z0-9-.]*\\.(com|edu|net|org)\n",
      "zartab#n#1312@my-company.net doesn't matches for ^[a-zA-Z][A-Za-z0-9_.-]*@[a-zA-Z][a-zA-Z0-9-.]*\\.(com|edu|net|org)\n"
     ]
    }
   ],
   "source": [
    "import re\n",
    "\n",
    "word_list = ['zartab@codewithz.com',\n",
    "             'zartab.n@uni.edu',\n",
    "             'zartab-n-1312@my-company.net',\n",
    "             'zartab#n#1312@my-company.net']\n",
    "\n",
    "\n",
    "\n",
    "pattern=\"^[a-zA-Z][A-Za-z0-9_.-]*@[a-zA-Z][a-zA-Z0-9-.]*\\\\.(com|edu|net|org)\"\n",
    "\n",
    "\n",
    "for word in word_list:\n",
    "    result=re.match(pattern,str(word))\n",
    "    if result:\n",
    "        print(f\"{word} MATCHES FOR {pattern}\")\n",
    "    else:\n",
    "        print(f\"{word} doesn't matches for {pattern}\")"
   ]
  },
  {
   "cell_type": "code",
   "execution_count": null,
   "id": "2746cbbd-fb0a-4937-add0-bb9adab3fe05",
   "metadata": {},
   "outputs": [],
   "source": []
  }
 ],
 "metadata": {
  "kernelspec": {
   "display_name": "Python 3 (ipykernel)",
   "language": "python",
   "name": "python3"
  },
  "language_info": {
   "codemirror_mode": {
    "name": "ipython",
    "version": 3
   },
   "file_extension": ".py",
   "mimetype": "text/x-python",
   "name": "python",
   "nbconvert_exporter": "python",
   "pygments_lexer": "ipython3",
   "version": "3.12.4"
  }
 },
 "nbformat": 4,
 "nbformat_minor": 5
}
