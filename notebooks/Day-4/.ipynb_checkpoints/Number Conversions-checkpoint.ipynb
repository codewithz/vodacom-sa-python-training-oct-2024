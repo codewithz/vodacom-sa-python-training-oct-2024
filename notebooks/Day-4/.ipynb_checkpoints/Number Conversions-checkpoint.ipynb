{
 "cells": [
  {
   "cell_type": "code",
   "execution_count": 1,
   "id": "1be3b918",
   "metadata": {},
   "outputs": [
    {
     "name": "stdout",
     "output_type": "stream",
     "text": [
      "10 -- 10.0\n"
     ]
    }
   ],
   "source": [
    "x=10\n",
    "y=float(x)\n",
    "print(x,\"--\",y)"
   ]
  },
  {
   "cell_type": "code",
   "execution_count": 2,
   "id": "7bc45095",
   "metadata": {},
   "outputs": [
    {
     "name": "stdout",
     "output_type": "stream",
     "text": [
      "10.7 -- 10\n"
     ]
    }
   ],
   "source": [
    "x=10.7\n",
    "y=int(x)\n",
    "print(x,\"--\",y)"
   ]
  },
  {
   "cell_type": "code",
   "execution_count": 3,
   "id": "83983266",
   "metadata": {},
   "outputs": [
    {
     "name": "stdout",
     "output_type": "stream",
     "text": [
      "10 -- 5.5 -- (10+5.5j)\n"
     ]
    }
   ],
   "source": [
    "x=10\n",
    "y=5.5\n",
    "z=complex(x,y)\n",
    "print(x,'--',y,'--',z)"
   ]
  },
  {
   "cell_type": "code",
   "execution_count": 4,
   "id": "69a72529",
   "metadata": {},
   "outputs": [
    {
     "ename": "ValueError",
     "evalue": "invalid literal for int() with base 10: '123.45'",
     "output_type": "error",
     "traceback": [
      "\u001b[1;31m---------------------------------------------------------------------------\u001b[0m",
      "\u001b[1;31mValueError\u001b[0m                                Traceback (most recent call last)",
      "Cell \u001b[1;32mIn[4], line 3\u001b[0m\n\u001b[0;32m      1\u001b[0m x\u001b[38;5;241m=\u001b[39m\u001b[38;5;124m\"\u001b[39m\u001b[38;5;124m123.45\u001b[39m\u001b[38;5;124m\"\u001b[39m\n\u001b[0;32m      2\u001b[0m y\u001b[38;5;241m=\u001b[39m\u001b[38;5;28mfloat\u001b[39m(x)\n\u001b[1;32m----> 3\u001b[0m z\u001b[38;5;241m=\u001b[39m\u001b[38;5;28mint\u001b[39m(x)\n\u001b[0;32m      5\u001b[0m \u001b[38;5;28mprint\u001b[39m(x,\u001b[38;5;124m'\u001b[39m\u001b[38;5;124m--\u001b[39m\u001b[38;5;124m'\u001b[39m,y,\u001b[38;5;124m'\u001b[39m\u001b[38;5;124m--\u001b[39m\u001b[38;5;124m'\u001b[39m,z)\n",
      "\u001b[1;31mValueError\u001b[0m: invalid literal for int() with base 10: '123.45'"
     ]
    }
   ],
   "source": [
    "x=\"123\"\n",
    "y=float(x)\n",
    "z=int(x)\n",
    "\n",
    "print(x,'--',y,'--',z)"
   ]
  },
  {
   "cell_type": "code",
   "execution_count": null,
   "id": "ea521a4c",
   "metadata": {},
   "outputs": [],
   "source": []
  }
 ],
 "metadata": {
  "kernelspec": {
   "display_name": "Python 3 (ipykernel)",
   "language": "python",
   "name": "python3"
  },
  "language_info": {
   "codemirror_mode": {
    "name": "ipython",
    "version": 3
   },
   "file_extension": ".py",
   "mimetype": "text/x-python",
   "name": "python",
   "nbconvert_exporter": "python",
   "pygments_lexer": "ipython3",
   "version": "3.11.5"
  }
 },
 "nbformat": 4,
 "nbformat_minor": 5
}
