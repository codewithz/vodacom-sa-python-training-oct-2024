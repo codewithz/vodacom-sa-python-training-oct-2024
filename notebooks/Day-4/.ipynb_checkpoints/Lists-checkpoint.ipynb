{
 "cells": [
  {
   "cell_type": "markdown",
   "id": "a7a2d36e-9de6-4801-8804-97ebc8d2f601",
   "metadata": {},
   "source": [
    "## Lists"
   ]
  },
  {
   "cell_type": "code",
   "execution_count": 2,
   "id": "23b7516c-ffb4-4a10-96f4-c1d802465ed9",
   "metadata": {},
   "outputs": [],
   "source": [
    "# Lists are indexed and mutable collection"
   ]
  },
  {
   "cell_type": "code",
   "execution_count": 18,
   "id": "8748f977-5b85-4776-bdaa-fece1c77821e",
   "metadata": {},
   "outputs": [],
   "source": [
    "#  []\n"
   ]
  },
  {
   "cell_type": "markdown",
   "id": "01f88232-cea0-4c68-af72-3e3c341b5625",
   "metadata": {},
   "source": [
    "#### Multiple Ways of making a List"
   ]
  },
  {
   "cell_type": "code",
   "execution_count": 6,
   "id": "e0dd0eda-d18e-482e-93b1-8cc972ce6a66",
   "metadata": {},
   "outputs": [
    {
     "name": "stdout",
     "output_type": "stream",
     "text": [
      "<class 'list'>\n",
      "['a', 'b', 'c', 'd', 'e']\n"
     ]
    }
   ],
   "source": [
    "letters=['a','b','c','d','e']\n",
    "print(type(letters))\n",
    "print(letters)"
   ]
  },
  {
   "cell_type": "code",
   "execution_count": 8,
   "id": "1d948449-1c52-4e19-8f3e-e4777245d068",
   "metadata": {},
   "outputs": [
    {
     "name": "stdout",
     "output_type": "stream",
     "text": [
      "[[0, 1], [2, 3]]\n"
     ]
    }
   ],
   "source": [
    "matrix=[[0,1],[2,3]]\n",
    "print(matrix)"
   ]
  },
  {
   "cell_type": "markdown",
   "id": "d0b2e06d-aec3-454a-9da6-e742d8937c4e",
   "metadata": {},
   "source": [
    "zeros=[0]*10\n",
    "print(zeros)"
   ]
  },
  {
   "cell_type": "code",
   "execution_count": 12,
   "id": "9dabd233-87da-48ab-915b-c47d7fa52529",
   "metadata": {},
   "outputs": [
    {
     "name": "stdout",
     "output_type": "stream",
     "text": [
      "[1, 2, 3, 4, 5, 6, 7, 8, 9, 10]\n"
     ]
    }
   ],
   "source": [
    "numbers=list(range(1,11))\n",
    "print(numbers)"
   ]
  },
  {
   "cell_type": "code",
   "execution_count": 14,
   "id": "e87802f2-6b64-4364-9650-e77e6a9b9889",
   "metadata": {},
   "outputs": [
    {
     "name": "stdout",
     "output_type": "stream",
     "text": [
      "['a', 'b', 'c', 'd', 'e', 0, 0, 0, 0, 0, 0, 0, 0, 0, 0]\n"
     ]
    }
   ],
   "source": [
    "combined=letters+zeros\n",
    "print(combined)"
   ]
  },
  {
   "cell_type": "code",
   "execution_count": 16,
   "id": "a2c9d4a0-aae4-48d3-9f1d-acfd8808d6ee",
   "metadata": {},
   "outputs": [
    {
     "name": "stdout",
     "output_type": "stream",
     "text": [
      "['V', 'o', 'd', 'a', 'c', 'o', 'm']\n"
     ]
    }
   ],
   "source": [
    "chars=list(\"Vodacom\")\n",
    "print(chars)"
   ]
  },
  {
   "cell_type": "markdown",
   "id": "b8ca4f3b-190c-43a9-b8cf-dc0b5c0fd7b9",
   "metadata": {},
   "source": [
    "#### Access the elements in the List"
   ]
  },
  {
   "cell_type": "code",
   "execution_count": 22,
   "id": "5be0968e-3650-4e57-aeee-c0b87f262f6b",
   "metadata": {},
   "outputs": [
    {
     "name": "stdout",
     "output_type": "stream",
     "text": [
      "List: ['a', 'b', 'c', 'd', 'e']\n",
      "First element: a\n",
      "Last Element: e\n"
     ]
    }
   ],
   "source": [
    "letters=['a','b','c','d','e']\n",
    "print(\"List:\",letters)\n",
    "# Access the first element\n",
    "print(\"First element:\",letters[0])\n",
    "\n",
    "# Access the last element\n",
    "\n",
    "print(\"Last Element:\",letters[-1])"
   ]
  },
  {
   "cell_type": "code",
   "execution_count": 30,
   "id": "be82efd4-04cf-4914-b7eb-985f88fd3f60",
   "metadata": {},
   "outputs": [
    {
     "name": "stdout",
     "output_type": "stream",
     "text": [
      "['a', 'b']\n",
      "['a', 'b', 'c']\n",
      "['c', 'd', 'e']\n",
      "['a', 'b', 'c', 'd', 'e']\n"
     ]
    }
   ],
   "source": [
    "# Access in Ranges  [:]\n",
    "\n",
    "print(letters[0:2])\n",
    "print(letters[:3])\n",
    "print(letters[2:])\n",
    "\n",
    "# Clone \n",
    "print(letters[:])"
   ]
  },
  {
   "cell_type": "markdown",
   "id": "95209fb7-15e5-4181-a1cb-c55b71ab0cbd",
   "metadata": {},
   "source": [
    "#### Stepper"
   ]
  },
  {
   "cell_type": "code",
   "execution_count": 86,
   "id": "1a579891-f100-46a6-af86-74bc8408b310",
   "metadata": {},
   "outputs": [
    {
     "name": "stdout",
     "output_type": "stream",
     "text": [
      "[1, 2, 3, 4, 5, 6, 7, 8, 9, 10, 11, 12, 13, 14, 15, 16, 17, 18, 19, 20]\n"
     ]
    }
   ],
   "source": [
    "numbers=list(range(1,21))\n",
    "\n",
    "print(numbers[::1])"
   ]
  },
  {
   "cell_type": "code",
   "execution_count": 88,
   "id": "97f5f52a-e2e9-4e42-9ed6-04d644ea7947",
   "metadata": {},
   "outputs": [
    {
     "name": "stdout",
     "output_type": "stream",
     "text": [
      "[1, 3, 5, 7, 9, 11, 13, 15, 17, 19]\n"
     ]
    }
   ],
   "source": [
    "print(numbers[::2])"
   ]
  },
  {
   "cell_type": "code",
   "execution_count": 92,
   "id": "67464b07-17e5-4a0a-9d79-88acab554c7e",
   "metadata": {},
   "outputs": [
    {
     "name": "stdout",
     "output_type": "stream",
     "text": [
      "[1, 4, 7, 10]\n"
     ]
    }
   ],
   "source": [
    "print(numbers[0:12:3])"
   ]
  },
  {
   "cell_type": "code",
   "execution_count": 39,
   "id": "a282a536-b883-4a01-8944-cd9f2fb2ea1d",
   "metadata": {},
   "outputs": [
    {
     "name": "stdout",
     "output_type": "stream",
     "text": [
      "[20, 19, 18, 17, 16, 15, 14, 13, 12, 11, 10, 9, 8, 7, 6, 5, 4, 3, 2, 1]\n"
     ]
    }
   ],
   "source": [
    "print(numbers[::-1])"
   ]
  },
  {
   "cell_type": "markdown",
   "id": "c3a0408e-1690-4f1e-85c0-537698f8ff7b",
   "metadata": {},
   "source": [
    "#### List Unpacking"
   ]
  },
  {
   "cell_type": "code",
   "execution_count": 48,
   "id": "8e6038cc-ec0d-4568-a206-94aad0bf4d08",
   "metadata": {},
   "outputs": [],
   "source": [
    "numbers=[1,2,3,4,4,4,4,4,4,4,4,5,6]\n",
    "\n"
   ]
  },
  {
   "cell_type": "code",
   "execution_count": 70,
   "id": "c572dd09-04e4-48f3-8cac-56082b2d40a0",
   "metadata": {},
   "outputs": [],
   "source": [
    "# Traditional Way\n",
    "first=numbers[0]\n",
    "second=numbers[1]\n",
    "third=numbers[2]\n",
    "fourth=numbers[3]\n",
    "second_last=numbers[-2]\n",
    "last=numbers[-1]"
   ]
  },
  {
   "cell_type": "code",
   "execution_count": 54,
   "id": "19d888b8-593b-4629-9c8d-051056544d8a",
   "metadata": {},
   "outputs": [
    {
     "name": "stdout",
     "output_type": "stream",
     "text": [
      "List: [1, 2, 3, 4, 4, 4, 4, 4, 4, 4, 4, 5, 6]\n",
      "First: 1\n",
      "Second: 2\n",
      "Third: 3\n",
      "Fourth: 4\n",
      "Second Last: 5\n",
      "Last: 6\n"
     ]
    }
   ],
   "source": [
    "print(\"List:\",numbers)\n",
    "print(\"First:\",first)\n",
    "print(\"Second:\",second)\n",
    "print(\"Third:\",third)\n",
    "print(\"Fourth:\",fourth)\n",
    "print(\"Second Last:\",second_last)\n",
    "print(\"Last:\",last)"
   ]
  },
  {
   "cell_type": "code",
   "execution_count": 56,
   "id": "d824ecd6-db1b-430b-bc13-6121ae5b2723",
   "metadata": {},
   "outputs": [],
   "source": [
    "numbers=[1,2,3,4,5,6]\n",
    "first,second,third,fourth,second_last,last=numbers"
   ]
  },
  {
   "cell_type": "code",
   "execution_count": 58,
   "id": "c7eadddd-ffa8-44a5-9e2d-d98bd40cd36c",
   "metadata": {},
   "outputs": [
    {
     "name": "stdout",
     "output_type": "stream",
     "text": [
      "List: [1, 2, 3, 4, 5, 6]\n",
      "First: 1\n",
      "Second: 2\n",
      "Third: 3\n",
      "Fourth: 4\n",
      "Second Last: 5\n",
      "Last: 6\n"
     ]
    }
   ],
   "source": [
    "print(\"List:\",numbers)\n",
    "print(\"First:\",first)\n",
    "print(\"Second:\",second)\n",
    "print(\"Third:\",third)\n",
    "print(\"Fourth:\",fourth)\n",
    "print(\"Second Last:\",second_last)\n",
    "print(\"Last:\",last)"
   ]
  },
  {
   "cell_type": "code",
   "execution_count": 72,
   "id": "58fda88a-4e5c-444e-9f52-0158db18ea4c",
   "metadata": {},
   "outputs": [
    {
     "name": "stdout",
     "output_type": "stream",
     "text": [
      "List: [1, 2, 3, 4, 5, 6]\n",
      "First: 1\n",
      "Second: 2\n",
      "Third: 3\n",
      "Fourth: 4\n",
      "Second Last: 5\n",
      "Last: 6\n"
     ]
    }
   ],
   "source": [
    "numbers=[1,2,3,4,5,6]\n",
    "f,s,t,fr,sl,l=numbers\n",
    "\n",
    "print(\"List:\",numbers)\n",
    "print(\"First:\",f)\n",
    "print(\"Second:\",s)\n",
    "print(\"Third:\",t)\n",
    "print(\"Fourth:\",fr)\n",
    "print(\"Second Last:\",sl)\n",
    "print(\"Last:\",l)"
   ]
  },
  {
   "cell_type": "code",
   "execution_count": 68,
   "id": "82e6d6ef-1531-4e34-ac5a-5372821a8ff3",
   "metadata": {},
   "outputs": [
    {
     "name": "stdout",
     "output_type": "stream",
     "text": [
      "List: [1, 2, 3, 4, 4, 4, 4, 4, 4, 4, 4, 5, 6]\n",
      "First: 1\n",
      "Second: 2\n",
      "Third: 3\n",
      "Others: [4, 4, 4, 4, 4, 4, 4, 4]\n",
      "Type of Others: <class 'list'>\n",
      "Second Last: 5\n",
      "Last: 6\n"
     ]
    }
   ],
   "source": [
    "numbers=[1,2,3,4,4,4,4,4,4,4,4,5,6]\n",
    "\n",
    "first,second,third,*others,second_last,last=numbers\n",
    "\n",
    "print(\"List:\",numbers)\n",
    "print(\"First:\",first)\n",
    "print(\"Second:\",second)\n",
    "print(\"Third:\",third)\n",
    "print(\"Others:\",others)\n",
    "print(\"Type of Others:\",type(others))\n",
    "print(\"Second Last:\",second_last)\n",
    "print(\"Last:\",last)"
   ]
  },
  {
   "cell_type": "markdown",
   "id": "d48ccecb-2535-4302-a996-30778c9ee13e",
   "metadata": {},
   "source": [
    "#### Iterations In List"
   ]
  },
  {
   "cell_type": "code",
   "execution_count": 95,
   "id": "35d21f45-fae4-440b-bc34-6e319315104e",
   "metadata": {},
   "outputs": [
    {
     "name": "stdout",
     "output_type": "stream",
     "text": [
      "a\n",
      "b\n",
      "c\n",
      "d\n",
      "e\n",
      "f\n"
     ]
    }
   ],
   "source": [
    "letters=[\"a\",\"b\",\"c\",\"d\",\"e\",\"f\"]\n",
    "\n",
    "for letter in letters:\n",
    "    print(letter)"
   ]
  },
  {
   "cell_type": "code",
   "execution_count": 97,
   "id": "1a971131-c35c-4f28-b355-70105eca941d",
   "metadata": {},
   "outputs": [
    {
     "name": "stdout",
     "output_type": "stream",
     "text": [
      "(0, 'a')\n",
      "(1, 'b')\n",
      "(2, 'c')\n",
      "(3, 'd')\n",
      "(4, 'e')\n",
      "(5, 'f')\n"
     ]
    }
   ],
   "source": [
    "for letter in enumerate(letters):\n",
    "    print(letter)"
   ]
  },
  {
   "cell_type": "code",
   "execution_count": 99,
   "id": "d68d0529-2228-4039-8b58-13de13fc1261",
   "metadata": {},
   "outputs": [
    {
     "name": "stdout",
     "output_type": "stream",
     "text": [
      "0 -- a\n"
     ]
    }
   ],
   "source": [
    "index,value=(0, 'a')\n",
    "print(index,\"--\",value)"
   ]
  },
  {
   "cell_type": "code",
   "execution_count": 101,
   "id": "e1ce88e3-7fd5-47f5-98c2-245e57a59a07",
   "metadata": {},
   "outputs": [
    {
     "name": "stdout",
     "output_type": "stream",
     "text": [
      "0 --> a\n",
      "1 --> b\n",
      "2 --> c\n",
      "3 --> d\n",
      "4 --> e\n",
      "5 --> f\n"
     ]
    }
   ],
   "source": [
    "for index,value in enumerate(letters):\n",
    "    print(index,\"-->\",value)"
   ]
  },
  {
   "cell_type": "markdown",
   "id": "677f752e-3818-4f24-a238-049c243d5d15",
   "metadata": {},
   "source": [
    "#### Add and Remove the elements from a List"
   ]
  },
  {
   "cell_type": "code",
   "execution_count": 114,
   "id": "ac7e8788-b941-4b2a-b3bf-5d9be206c155",
   "metadata": {},
   "outputs": [
    {
     "name": "stdout",
     "output_type": "stream",
     "text": [
      "Original: ['a', 'b', 'c', 'e']\n",
      "Append: ['a', 'b', 'c', 'e', 'f']\n",
      "Insert: ['a', 'b', 'c', 'd', 'e', 'f']\n",
      "Value removed from the list: a\n",
      "After Removing: ['b', 'c', 'd', 'e', 'f']\n",
      "Removed e: ['b', 'c', 'd', 'f']\n",
      "After Removing: ['b', 'c', 'd', 'f']\n",
      "After Removing: ['b', 'd', 'f']\n",
      "N: [100, 101, 102, 103, 104, 105, 106, 107, 108, 109, 110]\n",
      "After Del: [100, 101, 102, 103, 108, 109, 110]\n"
     ]
    }
   ],
   "source": [
    "letters=[\"a\",\"b\",\"c\",\"e\"]\n",
    "\n",
    "print(\"Original:\",letters)\n",
    "\n",
    "# Add an element \n",
    "\n",
    "letters.append(\"f\")\n",
    "print(\"Append:\",letters)\n",
    "\n",
    "# Insert at specific index \n",
    "\n",
    "# letters.insert(index,value)\n",
    "letters.insert(3,\"d\")\n",
    "print(\"Insert:\",letters)\n",
    "\n",
    "# Removing the elements \n",
    "\n",
    "removed=letters.pop(0)\n",
    "print(\"Value removed from the list:\",removed)\n",
    "print(\"After Removing:\",letters)\n",
    "\n",
    "letters.remove(\"e\")\n",
    "print(\"Removed e:\",letters)\n",
    "print(\"After Removing:\",letters)\n",
    "\n",
    "del letters[1]\n",
    "print(\"After Removing:\",letters)\n",
    "\n",
    "numbers=list(range(100,111))\n",
    "print(\"N:\",numbers)\n",
    "\n",
    "del numbers[4:8]\n",
    "print(\"After Del:\",numbers)"
   ]
  },
  {
   "cell_type": "markdown",
   "id": "c1abd3d7-4fc7-4306-b2de-c8f7deb23e53",
   "metadata": {},
   "source": [
    "#### Find elements in list"
   ]
  },
  {
   "cell_type": "code",
   "execution_count": 117,
   "id": "6c93236c-cd14-4f30-b92a-10c618b68d10",
   "metadata": {},
   "outputs": [
    {
     "name": "stdout",
     "output_type": "stream",
     "text": [
      "Letters: ['d', 'a', 'b', 'c', 'e']\n"
     ]
    }
   ],
   "source": [
    "letters=[\"d\",\"a\",\"b\",\"c\",\"e\"]\n",
    "print(\"Letters:\",letters)"
   ]
  },
  {
   "cell_type": "code",
   "execution_count": 119,
   "id": "11e42870-a57b-4154-a638-35e67fe3747a",
   "metadata": {},
   "outputs": [
    {
     "name": "stdout",
     "output_type": "stream",
     "text": [
      "Index of a: 1\n"
     ]
    }
   ],
   "source": [
    "print(\"Index of a:\",letters.index(\"a\"))"
   ]
  },
  {
   "cell_type": "code",
   "execution_count": 125,
   "id": "54dfbee2-ad7e-4eec-9aca-ad57ea601ac8",
   "metadata": {},
   "outputs": [],
   "source": [
    "# print(\"Index of f:\",letters.index(\"f\"))\n",
    "# ValueError: 'f' is not in list"
   ]
  },
  {
   "cell_type": "code",
   "execution_count": 123,
   "id": "cc75a1b0-cd74-4449-baee-0390dfefc997",
   "metadata": {},
   "outputs": [
    {
     "name": "stdout",
     "output_type": "stream",
     "text": [
      "f is not in letters list\n"
     ]
    }
   ],
   "source": [
    "if \"f\" in letters:\n",
    "    print(\"Index of f:\",letters.index(\"f\"))\n",
    "else:\n",
    "    print(\"f is not in letters list\")"
   ]
  },
  {
   "cell_type": "code",
   "execution_count": 127,
   "id": "61167b2f-391b-4d0a-b9b5-457b81402742",
   "metadata": {},
   "outputs": [
    {
     "name": "stdout",
     "output_type": "stream",
     "text": [
      "Index of d: 0\n"
     ]
    }
   ],
   "source": [
    "count=letters.count(\"d\")\n",
    "\n",
    "if count>0:\n",
    "    print(\"Index of d:\",letters.index(\"d\"))"
   ]
  },
  {
   "cell_type": "markdown",
   "id": "8e36b2d0-7105-4c4a-a424-bdd5e59227c0",
   "metadata": {},
   "source": [
    "### Sorting in List"
   ]
  },
  {
   "cell_type": "code",
   "execution_count": 130,
   "id": "b5be8279-32c5-47f5-bfda-dfd838b16ce4",
   "metadata": {},
   "outputs": [
    {
     "name": "stdout",
     "output_type": "stream",
     "text": [
      "O: [3, 51, 2, 45, 8, 67]\n"
     ]
    }
   ],
   "source": [
    "numbers=[3,51,2,45,8,67]\n",
    "print(\"O:\",numbers)"
   ]
  },
  {
   "cell_type": "code",
   "execution_count": 132,
   "id": "4b8bcb02-cfd5-4baf-8406-f67f94f0cd71",
   "metadata": {},
   "outputs": [
    {
     "name": "stdout",
     "output_type": "stream",
     "text": [
      "S: [2, 3, 8, 45, 51, 67]\n",
      "O: [2, 3, 8, 45, 51, 67]\n"
     ]
    }
   ],
   "source": [
    "numbers.sort()\n",
    "print(\"S:\",numbers)\n",
    "print(\"O:\",numbers)"
   ]
  },
  {
   "cell_type": "code",
   "execution_count": 134,
   "id": "cb2e7b47-4606-4027-b3d4-6b6d9cac8b72",
   "metadata": {},
   "outputs": [
    {
     "name": "stdout",
     "output_type": "stream",
     "text": [
      "RS: [67, 51, 45, 8, 3, 2]\n"
     ]
    }
   ],
   "source": [
    "numbers.sort(reverse=True)\n",
    "print(\"RS:\",numbers)"
   ]
  },
  {
   "cell_type": "code",
   "execution_count": 140,
   "id": "63dea2da-cfb9-4b9e-872e-60d3cc21bcb5",
   "metadata": {},
   "outputs": [
    {
     "name": "stdout",
     "output_type": "stream",
     "text": [
      "O: [43, 65, 34, 0, 23, 89]\n",
      "S: [0, 23, 34, 43, 65, 89]\n",
      "O: [43, 65, 34, 0, 23, 89]\n",
      "RS: [89, 65, 43, 34, 23, 0]\n",
      "O: [43, 65, 34, 0, 23, 89]\n"
     ]
    }
   ],
   "source": [
    "other_numbers=[43,65,34,0,23,89]\n",
    "print(\"O:\",other_numbers)\n",
    "\n",
    "sorted_list=sorted(other_numbers)\n",
    "print(\"S:\",sorted_list)\n",
    "print(\"O:\",other_numbers)\n",
    "\n",
    "rsorted_list=sorted(other_numbers,reverse=True)\n",
    "print(\"RS:\",rsorted_list)\n",
    "print(\"O:\",other_numbers)"
   ]
  },
  {
   "cell_type": "markdown",
   "id": "4f2be572-5e17-44cf-8e35-8fa63321f364",
   "metadata": {},
   "source": [
    "#### Sorting a complex list"
   ]
  },
  {
   "cell_type": "code",
   "execution_count": 167,
   "id": "badf329c-1a01-4c68-a3f8-7f14253628d8",
   "metadata": {},
   "outputs": [
    {
     "name": "stdout",
     "output_type": "stream",
     "text": [
      "Cart: [('Bread', 15, 2), ('Butter', 7, 3), ('Eggs', 3, 1)]\n",
      "Cart: <class 'list'>\n"
     ]
    }
   ],
   "source": [
    "# cart=[(\"Name\",\"Price\",\"Qty\")]\n",
    "\n",
    "cart=[(\"Bread\",15,2),(\"Butter\",7,3),(\"Eggs\",3,1)]\n",
    "\n",
    "print(\"Cart:\",cart)\n",
    "print(\"Cart:\",type(cart))"
   ]
  },
  {
   "cell_type": "code",
   "execution_count": 169,
   "id": "64ee4941-b8d4-42a1-a125-cf2fde0bf814",
   "metadata": {},
   "outputs": [
    {
     "name": "stdout",
     "output_type": "stream",
     "text": [
      "Sorted: [('Bread', 15, 2), ('Butter', 7, 3), ('Eggs', 3, 1)]\n"
     ]
    }
   ],
   "source": [
    "cart.sort()\n",
    "print(\"Sorted:\",cart)"
   ]
  },
  {
   "cell_type": "code",
   "execution_count": 171,
   "id": "ae284ac2-0c1a-4e46-a0ba-9c0fe84ef048",
   "metadata": {},
   "outputs": [
    {
     "name": "stdout",
     "output_type": "stream",
     "text": [
      "Sorted Cart: [('Bread', 15, 2), ('Butter', 7, 3), ('Eggs', 3, 1)]\n"
     ]
    }
   ],
   "source": [
    "sorted_cart=sorted(cart)\n",
    "print(\"Sorted Cart:\",sorted_cart)"
   ]
  },
  {
   "cell_type": "code",
   "execution_count": 177,
   "id": "1deeff1d-f595-4c48-9004-109451c841d1",
   "metadata": {},
   "outputs": [],
   "source": [
    "def key_for_sorting(item):\n",
    "    print(\"Item:\",type(item))\n",
    "    print(\"Item:\",item)\n",
    "    return item[1]\n"
   ]
  },
  {
   "cell_type": "code",
   "execution_count": 179,
   "id": "24474dce-f281-4f98-8658-f98f5d1f60f2",
   "metadata": {},
   "outputs": [
    {
     "name": "stdout",
     "output_type": "stream",
     "text": [
      "Item: <class 'tuple'>\n",
      "Item: ('Eggs', 3, 1)\n",
      "Item: <class 'tuple'>\n",
      "Item: ('Butter', 7, 3)\n",
      "Item: <class 'tuple'>\n",
      "Item: ('Bread', 15, 2)\n",
      "Sorted: [('Eggs', 3, 1), ('Butter', 7, 3), ('Bread', 15, 2)]\n"
     ]
    }
   ],
   "source": [
    "cart.sort(key=key_for_sorting)\n",
    "print(\"Sorted:\",cart)"
   ]
  },
  {
   "cell_type": "code",
   "execution_count": 181,
   "id": "42ff74b3-ab2e-4a34-8d44-ad54bf33ff40",
   "metadata": {},
   "outputs": [
    {
     "name": "stdout",
     "output_type": "stream",
     "text": [
      "Item: <class 'tuple'>\n",
      "Item: ('Eggs', 3, 1)\n",
      "Item: <class 'tuple'>\n",
      "Item: ('Butter', 7, 3)\n",
      "Item: <class 'tuple'>\n",
      "Item: ('Bread', 15, 2)\n",
      "Sorted: [('Bread', 15, 2), ('Butter', 7, 3), ('Eggs', 3, 1)]\n"
     ]
    }
   ],
   "source": [
    "cart.sort(key=key_for_sorting,reverse=True)\n",
    "print(\"Sorted:\",cart)"
   ]
  },
  {
   "cell_type": "code",
   "execution_count": 187,
   "id": "6f8869c1-f1ee-459c-9c2c-50da3ef209a5",
   "metadata": {},
   "outputs": [
    {
     "name": "stdout",
     "output_type": "stream",
     "text": [
      "Sorted: [('Eggs', 3, 1), ('Butter', 7, 3), ('Bread', 15, 2)]\n",
      "Sorted by Price: [('Eggs', 3, 1), ('Bread', 15, 2), ('Butter', 7, 3)]\n"
     ]
    }
   ],
   "source": [
    "# def key_for_sorting(item):\n",
    "#     print(\"Item:\",type(item))\n",
    "#     print(\"Item:\",item)\n",
    "#     return item[1]\n",
    "\n",
    "def key_for_sorting(item):\n",
    "    return item[1]\n",
    "\n",
    "\n",
    "lambda item : item[1]\n",
    "\n",
    "cart.sort(key=lambda item:item[1],reverse=False)\n",
    "print(\"Sorted:\",cart)\n",
    "\n",
    "cart.sort(key=lambda item:item[2])\n",
    "print(\"Sorted by Price:\",cart)"
   ]
  },
  {
   "cell_type": "markdown",
   "id": "3ff19e74-720c-4153-bbf4-0fe926c75f0a",
   "metadata": {},
   "source": [
    "#### Lambda Functions"
   ]
  },
  {
   "cell_type": "code",
   "execution_count": 2,
   "id": "8ec5fa9e-04e3-4fd9-8979-09d10c372f88",
   "metadata": {},
   "outputs": [],
   "source": [
    "# Anonymous Functions\n",
    "\n",
    "# lambda parameters: expression \n",
    "\n",
    "# should be used when we have to use the function for one time \n",
    "\n"
   ]
  },
  {
   "cell_type": "code",
   "execution_count": 4,
   "id": "2f5712ce-a2ed-43d7-af9b-cd1dc65fb3a2",
   "metadata": {},
   "outputs": [
    {
     "name": "stdout",
     "output_type": "stream",
     "text": [
      "O: [1, 2, 3, 4, 5, 6, 7, 8, 9]\n",
      "F: [3, 6, 9]\n"
     ]
    }
   ],
   "source": [
    "numbers=[1,2,3,4,5,6,7,8,9]\n",
    "\n",
    "def is_divisible_by_3(number):\n",
    "    return number%3==0\n",
    "\n",
    "# filter(function_where_filter_logic_is_written,source_collection)\n",
    "\n",
    "filtered_list=list(filter(is_divisible_by_3,numbers))\n",
    "print(\"O:\",numbers)\n",
    "print(\"F:\",filtered_list)"
   ]
  },
  {
   "cell_type": "code",
   "execution_count": 10,
   "id": "6b9edd4d-e2ea-4ffd-8d23-d60aae766390",
   "metadata": {},
   "outputs": [
    {
     "name": "stdout",
     "output_type": "stream",
     "text": [
      "O: [1, 2, 3, 4, 5, 6, 7, 8, 9]\n",
      "F: [2, 4, 6, 8]\n"
     ]
    }
   ],
   "source": [
    "numbers=[1,2,3,4,5,6,7,8,9]\n",
    "\n",
    "# def is_divisible_by_3(number):\n",
    "#     return number%3==0\n",
    "\n",
    "# lambda number:number%3==0\n",
    "# filter(function_where_filter_logic_is_written,source_collection)\n",
    "\n",
    "filtered_list_lambda=list(filter(lambda number:number%2==0,numbers))\n",
    "\n",
    "print(\"O:\",numbers)\n",
    "print(\"F:\",filtered_list_lambda)"
   ]
  },
  {
   "cell_type": "code",
   "execution_count": 14,
   "id": "d46a5b27-cfea-4c6f-ab97-56d22fb8e349",
   "metadata": {},
   "outputs": [
    {
     "name": "stdout",
     "output_type": "stream",
     "text": [
      "Cart: [('Bread', 15, 2), ('Butter', 7, 3), ('Eggs', 3, 1)]\n",
      "Filtered Cart: [('Bread', 15, 2), ('Butter', 7, 3)]\n"
     ]
    }
   ],
   "source": [
    "cart=[(\"Bread\",15,2),(\"Butter\",7,3),(\"Eggs\",3,1)]\n",
    "# (\"Name\",\"Price\",\"Qty\")\n",
    "\n",
    "\n",
    "# Filter those products whose price is greater then $5\n",
    "\n",
    "# def filter_price_above_5(cart_item):\n",
    "#     return cart_item[1]>5\n",
    "\n",
    "filtered_cart=list(filter(lambda cart_item:cart_item[1]>5,cart))\n",
    "\n",
    "print(\"Cart:\",cart)\n",
    "print(\"Filtered Cart:\",filtered_cart)\n",
    "\n"
   ]
  },
  {
   "cell_type": "markdown",
   "id": "56b00587-b9f4-498e-a69d-edde287e2e1f",
   "metadata": {},
   "source": [
    "#### map function"
   ]
  },
  {
   "cell_type": "code",
   "execution_count": 17,
   "id": "dbf33edd-f451-44a5-a492-337c50d1a4bf",
   "metadata": {},
   "outputs": [
    {
     "name": "stdout",
     "output_type": "stream",
     "text": [
      "O: [1, 2, 3, 4, 5]\n",
      "Mapped Numbers: [1, 4, 9, 16, 25]\n"
     ]
    }
   ],
   "source": [
    "numbers=[1,2,3,4,5]\n",
    "\n",
    "def square_number(number):\n",
    "    return pow(number,2);\n",
    "\n",
    "# map(function_where_transformation_logic_is_written,source_collection)\n",
    "\n",
    "squared_numbers=list(map(square_number,numbers))\n",
    "\n",
    "print(\"O:\",numbers)\n",
    "print(\"Mapped Numbers:\",squared_numbers)"
   ]
  },
  {
   "cell_type": "code",
   "execution_count": null,
   "id": "be65152e-519b-458b-b095-358ae6133832",
   "metadata": {},
   "outputs": [],
   "source": [
    "numbers=[1,2,3,4,5]\n",
    "\n",
    "def square_number(number):\n",
    "    return pow(number,2);\n",
    "\n",
    "# map(function_where_transformation_logic_is_written,source_collection)\n",
    "\n",
    "squared_numbers=list(map(lambda number: pow(number,2),numbers))\n",
    "\n",
    "print(\"O:\",numbers)\n",
    "print(\"Mapped Numbers:\",squared_numbers)"
   ]
  }
 ],
 "metadata": {
  "kernelspec": {
   "display_name": "Python 3 (ipykernel)",
   "language": "python",
   "name": "python3"
  },
  "language_info": {
   "codemirror_mode": {
    "name": "ipython",
    "version": 3
   },
   "file_extension": ".py",
   "mimetype": "text/x-python",
   "name": "python",
   "nbconvert_exporter": "python",
   "pygments_lexer": "ipython3",
   "version": "3.12.4"
  }
 },
 "nbformat": 4,
 "nbformat_minor": 5
}
