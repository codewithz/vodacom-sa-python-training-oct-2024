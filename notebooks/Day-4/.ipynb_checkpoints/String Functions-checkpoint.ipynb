{
 "cells": [
  {
   "cell_type": "code",
   "execution_count": 1,
   "id": "c3e5e795",
   "metadata": {},
   "outputs": [
    {
     "name": "stdout",
     "output_type": "stream",
     "text": [
      "Code With Z\n"
     ]
    }
   ],
   "source": [
    "name=\"Code With Z\"\n",
    "print(name)"
   ]
  },
  {
   "cell_type": "code",
   "execution_count": 2,
   "id": "76237bbd",
   "metadata": {},
   "outputs": [
    {
     "name": "stdout",
     "output_type": "stream",
     "text": [
      "<class 'str'>\n"
     ]
    }
   ],
   "source": [
    "print(type(name))"
   ]
  },
  {
   "cell_type": "code",
   "execution_count": 5,
   "id": "b5db206b",
   "metadata": {},
   "outputs": [
    {
     "name": "stdout",
     "output_type": "stream",
     "text": [
      "['__add__', '__class__', '__contains__', '__delattr__', '__dir__', '__doc__', '__eq__', '__format__', '__ge__', '__getattribute__', '__getitem__', '__getnewargs__', '__getstate__', '__gt__', '__hash__', '__init__', '__init_subclass__', '__iter__', '__le__', '__len__', '__lt__', '__mod__', '__mul__', '__ne__', '__new__', '__reduce__', '__reduce_ex__', '__repr__', '__rmod__', '__rmul__', '__setattr__', '__sizeof__', '__str__', '__subclasshook__', 'capitalize', 'casefold', 'center', 'count', 'encode', 'endswith', 'expandtabs', 'find', 'format', 'format_map', 'index', 'isalnum', 'isalpha', 'isascii', 'isdecimal', 'isdigit', 'isidentifier', 'islower', 'isnumeric', 'isprintable', 'isspace', 'istitle', 'isupper', 'join', 'ljust', 'lower', 'lstrip', 'maketrans', 'partition', 'removeprefix', 'removesuffix', 'replace', 'rfind', 'rindex', 'rjust', 'rpartition', 'rsplit', 'rstrip', 'split', 'splitlines', 'startswith', 'strip', 'swapcase', 'title', 'translate', 'upper', 'zfill']\n",
      "--------------------\n",
      "['__abs__', '__add__', '__and__', '__bool__', '__ceil__', '__class__', '__delattr__', '__dir__', '__divmod__', '__doc__', '__eq__', '__float__', '__floor__', '__floordiv__', '__format__', '__ge__', '__getattribute__', '__getnewargs__', '__getstate__', '__gt__', '__hash__', '__index__', '__init__', '__init_subclass__', '__int__', '__invert__', '__le__', '__lshift__', '__lt__', '__mod__', '__mul__', '__ne__', '__neg__', '__new__', '__or__', '__pos__', '__pow__', '__radd__', '__rand__', '__rdivmod__', '__reduce__', '__reduce_ex__', '__repr__', '__rfloordiv__', '__rlshift__', '__rmod__', '__rmul__', '__ror__', '__round__', '__rpow__', '__rrshift__', '__rshift__', '__rsub__', '__rtruediv__', '__rxor__', '__setattr__', '__sizeof__', '__str__', '__sub__', '__subclasshook__', '__truediv__', '__trunc__', '__xor__', 'as_integer_ratio', 'bit_count', 'bit_length', 'conjugate', 'denominator', 'from_bytes', 'imag', 'numerator', 'real', 'to_bytes']\n"
     ]
    }
   ],
   "source": [
    "print(dir(name))\n",
    "x=10\n",
    "print(\"--------------------\")\n",
    "print(dir(x))"
   ]
  },
  {
   "cell_type": "code",
   "execution_count": 6,
   "id": "a83b878d",
   "metadata": {},
   "outputs": [],
   "source": [
    "# String in Python can be enclossed \n",
    "# \" \"\n",
    "# ''\n",
    "# '''multi line '''"
   ]
  },
  {
   "cell_type": "code",
   "execution_count": 7,
   "id": "ab1cf041",
   "metadata": {},
   "outputs": [
    {
     "name": "stdout",
     "output_type": "stream",
     "text": [
      "I don't know where they are!\n"
     ]
    }
   ],
   "source": [
    "# \"\" ''\n",
    "sentence=\"I don't know where they are!\"\n",
    "print(sentence)"
   ]
  },
  {
   "cell_type": "code",
   "execution_count": 8,
   "id": "39009798",
   "metadata": {},
   "outputs": [
    {
     "name": "stdout",
     "output_type": "stream",
     "text": [
      "I know where they are\n"
     ]
    }
   ],
   "source": [
    "sentence ='I know where they are'\n",
    "print(sentence)"
   ]
  },
  {
   "cell_type": "code",
   "execution_count": 9,
   "id": "95f65ca3",
   "metadata": {},
   "outputs": [
    {
     "name": "stdout",
     "output_type": "stream",
     "text": [
      "\n",
      "Vodacom Group Limited is a South African mobile communications company,\n",
      "providing voice, messaging, data and converged services to over 130 million customers across Africa.\n",
      "From its roots in South Africa, Vodacom has grown its operations to include networks in Tanzania, \n",
      "the Democratic Republic of the Congo, Mozambique, and Lesotho, and provides business services to customers \n",
      "in over 32 African countries, including Nigeria, Zambia, Angola, Kenya, Ghana, Côte d'Ivoire, and Cameroon.\n",
      "\n",
      "\n"
     ]
    }
   ],
   "source": [
    "paragraph='''\n",
    "Vodacom Group Limited is a South African mobile communications company,\n",
    "providing voice, messaging, data and converged services to over 130 million customers across Africa.\n",
    "From its roots in South Africa, Vodacom has grown its operations to include networks in Tanzania, \n",
    "the Democratic Republic of the Congo, Mozambique, and Lesotho, and provides business services to customers \n",
    "in over 32 African countries, including Nigeria, Zambia, Angola, Kenya, Ghana, Côte d'Ivoire, and Cameroon.\n",
    "\n",
    "'''\n",
    "\n",
    "print(paragraph)"
   ]
  },
  {
   "cell_type": "code",
   "execution_count": 17,
   "id": "649159e6",
   "metadata": {},
   "outputs": [
    {
     "name": "stdout",
     "output_type": "stream",
     "text": [
      "Kitkat\n",
      "i\n",
      "t\n",
      "Word[1:3]-- it\n",
      "t\n",
      "a\n",
      "K\n"
     ]
    }
   ],
   "source": [
    "word=\"Kitkat\"\n",
    "print(word)\n",
    "print(word[1])\n",
    "print(word[2])\n",
    "print(\"Word[1:3]--\",word[1:3])\n",
    "print(word[-1])\n",
    "print(word[-2])\n",
    "print(word[-6])"
   ]
  },
  {
   "cell_type": "code",
   "execution_count": 19,
   "id": "b01f6f59",
   "metadata": {},
   "outputs": [],
   "source": [
    "# print(word[8])\n",
    "# IndexError: string index out of range"
   ]
  },
  {
   "cell_type": "code",
   "execution_count": 20,
   "id": "b51b59a4",
   "metadata": {},
   "outputs": [
    {
     "name": "stdout",
     "output_type": "stream",
     "text": [
      "Kitkat\n"
     ]
    }
   ],
   "source": [
    "print(word[0:20])"
   ]
  },
  {
   "cell_type": "code",
   "execution_count": 21,
   "id": "dc240c89",
   "metadata": {},
   "outputs": [
    {
     "name": "stdout",
     "output_type": "stream",
     "text": [
      "itkat\n"
     ]
    }
   ],
   "source": [
    "print(word[1:])"
   ]
  },
  {
   "cell_type": "code",
   "execution_count": 22,
   "id": "8026401a",
   "metadata": {},
   "outputs": [
    {
     "name": "stdout",
     "output_type": "stream",
     "text": [
      "Kitka\n"
     ]
    }
   ],
   "source": [
    "print(word[:5])"
   ]
  },
  {
   "cell_type": "code",
   "execution_count": 23,
   "id": "c5cfe60b",
   "metadata": {},
   "outputs": [
    {
     "name": "stdout",
     "output_type": "stream",
     "text": [
      "Kitkat\n"
     ]
    }
   ],
   "source": [
    "# Cloning\n",
    "print(word[:])"
   ]
  },
  {
   "cell_type": "code",
   "execution_count": 24,
   "id": "2d87f9a3",
   "metadata": {},
   "outputs": [
    {
     "name": "stdout",
     "output_type": "stream",
     "text": [
      "Length: 6\n"
     ]
    }
   ],
   "source": [
    "# Length\n",
    "\n",
    "print(\"Length:\",len(word))"
   ]
  },
  {
   "cell_type": "code",
   "execution_count": 26,
   "id": "918577d3",
   "metadata": {},
   "outputs": [
    {
     "name": "stdout",
     "output_type": "stream",
     "text": [
      "   Hello World   \n",
      "Length before strip: 17\n"
     ]
    }
   ],
   "source": [
    "# Trimming -- strip()\n",
    "\n",
    "word_with_spaces=\"   Hello World   \"\n",
    "print(word_with_spaces)\n",
    "print(\"Length before strip:\",len(word_with_spaces))"
   ]
  },
  {
   "cell_type": "code",
   "execution_count": 27,
   "id": "7e86666c",
   "metadata": {},
   "outputs": [
    {
     "name": "stdout",
     "output_type": "stream",
     "text": [
      "   Hello World   \n",
      "Hello World\n",
      "Length after strip: 11\n"
     ]
    }
   ],
   "source": [
    "print(word_with_spaces)\n",
    "word_with_spaces=word_with_spaces.strip()\n",
    "print(word_with_spaces)\n",
    "print(\"Length after strip:\",len(word_with_spaces))"
   ]
  },
  {
   "cell_type": "code",
   "execution_count": 28,
   "id": "5fa28354",
   "metadata": {},
   "outputs": [
    {
     "data": {
      "text/plain": [
       "['__add__',\n",
       " '__class__',\n",
       " '__contains__',\n",
       " '__delattr__',\n",
       " '__dir__',\n",
       " '__doc__',\n",
       " '__eq__',\n",
       " '__format__',\n",
       " '__ge__',\n",
       " '__getattribute__',\n",
       " '__getitem__',\n",
       " '__getnewargs__',\n",
       " '__getstate__',\n",
       " '__gt__',\n",
       " '__hash__',\n",
       " '__init__',\n",
       " '__init_subclass__',\n",
       " '__iter__',\n",
       " '__le__',\n",
       " '__len__',\n",
       " '__lt__',\n",
       " '__mod__',\n",
       " '__mul__',\n",
       " '__ne__',\n",
       " '__new__',\n",
       " '__reduce__',\n",
       " '__reduce_ex__',\n",
       " '__repr__',\n",
       " '__rmod__',\n",
       " '__rmul__',\n",
       " '__setattr__',\n",
       " '__sizeof__',\n",
       " '__str__',\n",
       " '__subclasshook__',\n",
       " 'capitalize',\n",
       " 'casefold',\n",
       " 'center',\n",
       " 'count',\n",
       " 'encode',\n",
       " 'endswith',\n",
       " 'expandtabs',\n",
       " 'find',\n",
       " 'format',\n",
       " 'format_map',\n",
       " 'index',\n",
       " 'isalnum',\n",
       " 'isalpha',\n",
       " 'isascii',\n",
       " 'isdecimal',\n",
       " 'isdigit',\n",
       " 'isidentifier',\n",
       " 'islower',\n",
       " 'isnumeric',\n",
       " 'isprintable',\n",
       " 'isspace',\n",
       " 'istitle',\n",
       " 'isupper',\n",
       " 'join',\n",
       " 'ljust',\n",
       " 'lower',\n",
       " 'lstrip',\n",
       " 'maketrans',\n",
       " 'partition',\n",
       " 'removeprefix',\n",
       " 'removesuffix',\n",
       " 'replace',\n",
       " 'rfind',\n",
       " 'rindex',\n",
       " 'rjust',\n",
       " 'rpartition',\n",
       " 'rsplit',\n",
       " 'rstrip',\n",
       " 'split',\n",
       " 'splitlines',\n",
       " 'startswith',\n",
       " 'strip',\n",
       " 'swapcase',\n",
       " 'title',\n",
       " 'translate',\n",
       " 'upper',\n",
       " 'zfill']"
      ]
     },
     "execution_count": 28,
     "metadata": {},
     "output_type": "execute_result"
    }
   ],
   "source": [
    "dir(word)"
   ]
  },
  {
   "cell_type": "code",
   "execution_count": 29,
   "id": "d14772b2",
   "metadata": {},
   "outputs": [
    {
     "name": "stdout",
     "output_type": "stream",
     "text": [
      "Company: vodacom inc\n",
      "Company: VODACOM INC\n"
     ]
    }
   ],
   "source": [
    "# Cases -- Lower and Upper Case \n",
    "\n",
    "company=\"vodacom inc\"\n",
    "print(\"Company:\",company)\n",
    "company=company.upper()\n",
    "print(\"Company:\",company)\n"
   ]
  },
  {
   "cell_type": "code",
   "execution_count": 30,
   "id": "7cf21069",
   "metadata": {},
   "outputs": [
    {
     "name": "stdout",
     "output_type": "stream",
     "text": [
      "Sentence: I AM HAPPY\n",
      "Sentence: i am happy\n"
     ]
    }
   ],
   "source": [
    "sentence=\"I AM HAPPY\"\n",
    "print(\"Sentence:\",sentence)\n",
    "sentence=sentence.lower()\n",
    "print(\"Sentence:\",sentence)"
   ]
  },
  {
   "cell_type": "code",
   "execution_count": 31,
   "id": "85098929",
   "metadata": {},
   "outputs": [
    {
     "name": "stdout",
     "output_type": "stream",
     "text": [
      "Sentence: I am happy\n"
     ]
    }
   ],
   "source": [
    "sentence=sentence.capitalize()\n",
    "print(\"Sentence:\",sentence)"
   ]
  },
  {
   "cell_type": "code",
   "execution_count": 32,
   "id": "0cc00924",
   "metadata": {},
   "outputs": [
    {
     "name": "stdout",
     "output_type": "stream",
     "text": [
      "Sentence: I Am Happy\n"
     ]
    }
   ],
   "source": [
    "sentence=sentence.title()\n",
    "print(\"Sentence:\",sentence)"
   ]
  },
  {
   "cell_type": "code",
   "execution_count": 39,
   "id": "175263df",
   "metadata": {},
   "outputs": [
    {
     "name": "stdout",
     "output_type": "stream",
     "text": [
      "O1: 1,Tom,IT,Developer,20000\n",
      "O2: Hello How are you\n",
      "[' ']\n",
      "<class 'list'>\n",
      "<class 'str'>\n",
      "------------------------------------------------------------\n",
      "['Hello', 'How', 'are', 'you']\n",
      "<class 'list'>\n"
     ]
    }
   ],
   "source": [
    "# Split a String \n",
    "\n",
    "line1=\"1,Tom,IT,Developer,20000\"\n",
    "line2=\"Hello How are you\"\n",
    "line3=\" \"\n",
    "print(\"O1:\",line1)\n",
    "print(\"O2:\",line2)\n",
    "\n",
    "data1=line3.split(\",\")\n",
    "print(data1)\n",
    "print(type(data1))\n",
    "print(type(line3))\n",
    "      \n",
    "      \n",
    "print(\"-\"*60)\n",
    "      \n",
    "data2=line2.split(\" \")\n",
    "print(data2)\n",
    "print(type(data2))"
   ]
  },
  {
   "cell_type": "code",
   "execution_count": 42,
   "id": "c20d1baa",
   "metadata": {},
   "outputs": [
    {
     "name": "stdout",
     "output_type": "stream",
     "text": [
      "O: My name is {}, I am {} years old\n",
      "F My name is Zartab, I am 33 years old\n"
     ]
    }
   ],
   "source": [
    "# format ()\n",
    "\n",
    "line=\"My name is {}, I am {} years old\"\n",
    "name=\"Zartab\"\n",
    "age=33\n",
    "\n",
    "fline=line.format(name,age)\n",
    "print(\"O:\",line)\n",
    "print(\"F\",fline)"
   ]
  },
  {
   "cell_type": "code",
   "execution_count": 44,
   "id": "0d37c015",
   "metadata": {},
   "outputs": [
    {
     "name": "stdout",
     "output_type": "stream",
     "text": [
      "O: My name is Zartab, I am 33 years old\n"
     ]
    }
   ],
   "source": [
    "# Formatted Strings\n",
    "\n",
    "name=\"Zartab\"\n",
    "age=33\n",
    "line= f\"My name is {name}, I am {age} years old\"\n",
    "\n",
    "\n",
    "\n",
    "print(\"O:\",line)\n"
   ]
  },
  {
   "cell_type": "code",
   "execution_count": 45,
   "id": "3c7105d2",
   "metadata": {},
   "outputs": [
    {
     "name": "stdout",
     "output_type": "stream",
     "text": [
      "O: {0} {1} sat on a wall, {0} {1} had a great fall\n",
      "F Humpty Dumpty sat on a wall, Humpty Dumpty had a great fall\n"
     ]
    }
   ],
   "source": [
    "# Numbered and Named Formating\n",
    "line= \"{0} {1} sat on a wall, {0} {1} had a great fall\"\n",
    "fline=line.format(\"Humpty\",\"Dumpty\")\n",
    "print(\"O:\",line)\n",
    "print(\"F\",fline)"
   ]
  },
  {
   "cell_type": "code",
   "execution_count": 47,
   "id": "d951f4a9",
   "metadata": {},
   "outputs": [
    {
     "name": "stdout",
     "output_type": "stream",
     "text": [
      "O: {person1} {person2} sat on a wall, {person1} {person1} had a great fall\n",
      "F Humpty Dumpty sat on a wall, Humpty Humpty had a great fall\n"
     ]
    }
   ],
   "source": [
    "line= \"{person1} {person2} sat on a wall, {person1} {person1} had a great fall\"\n",
    "fline=line.format(person1=\"Humpty\",person2=\"Dumpty\")\n",
    "print(\"O:\",line)\n",
    "print(\"F\",fline)"
   ]
  },
  {
   "cell_type": "code",
   "execution_count": 48,
   "id": "13d96976",
   "metadata": {},
   "outputs": [
    {
     "name": "stdout",
     "output_type": "stream",
     "text": [
      "Starts with z False\n",
      "Starts with Z True\n",
      "Starts with a False\n",
      "Starts with Zar True\n",
      "Ends with b True\n",
      "Ends with B False\n",
      "Ends with x False\n",
      "Ends with tab True\n"
     ]
    }
   ],
   "source": [
    "name=\"Zartab\"\n",
    "\n",
    "\n",
    "# Starts and Ends with\n",
    "\n",
    "print(\"Starts with z\",name.startswith(\"z\"))\n",
    "print(\"Starts with Z\",name.startswith(\"Z\"))\n",
    "print(\"Starts with a\",name.startswith(\"a\"))\n",
    "print(\"Starts with Zar\",name.startswith(\"Zar\"))\n",
    "print(\"Ends with b\",name.endswith(\"b\"))\n",
    "print(\"Ends with B\",name.endswith(\"B\"))\n",
    "print(\"Ends with x\",name.endswith(\"x\"))\n",
    "print(\"Ends with tab\",name.endswith(\"tab\"))\n"
   ]
  },
  {
   "cell_type": "code",
   "execution_count": 49,
   "id": "588357c4",
   "metadata": {},
   "outputs": [
    {
     "name": "stdout",
     "output_type": "stream",
     "text": [
      "O: My name is Zartab, I am 33 years old\n"
     ]
    }
   ],
   "source": [
    "# format ()\n",
    "name=\"Zartab\"\n",
    "age=33\n",
    "line=\"My name is %s, I am %s years old\"%(\"Test\",name)\n",
    "\n",
    "\n",
    "print(\"O:\",line)\n"
   ]
  },
  {
   "cell_type": "code",
   "execution_count": 51,
   "id": "ad21fa2c",
   "metadata": {},
   "outputs": [
    {
     "name": "stdout",
     "output_type": "stream",
     "text": [
      "Value of pi is 3.14\n"
     ]
    }
   ],
   "source": [
    "pi=3.14159\n",
    "\n",
    "line=f\"Value of pi is {pi:.2f}\" # limit it to two decimal places \n",
    "print(line)"
   ]
  },
  {
   "cell_type": "code",
   "execution_count": null,
   "id": "4e3a5aaa",
   "metadata": {},
   "outputs": [],
   "source": []
  }
 ],
 "metadata": {
  "kernelspec": {
   "display_name": "Python 3 (ipykernel)",
   "language": "python",
   "name": "python3"
  },
  "language_info": {
   "codemirror_mode": {
    "name": "ipython",
    "version": 3
   },
   "file_extension": ".py",
   "mimetype": "text/x-python",
   "name": "python",
   "nbconvert_exporter": "python",
   "pygments_lexer": "ipython3",
   "version": "3.11.5"
  }
 },
 "nbformat": 4,
 "nbformat_minor": 5
}
