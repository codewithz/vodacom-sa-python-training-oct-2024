{
 "cells": [
  {
   "cell_type": "code",
   "execution_count": null,
   "id": "0d1e7457-6709-4385-afe4-ec8563ee2e32",
   "metadata": {},
   "outputs": [],
   "source": [
    "# If - Else - Elif"
   ]
  },
  {
   "cell_type": "code",
   "execution_count": 3,
   "id": "1af4e5a7",
   "metadata": {},
   "outputs": [
    {
     "name": "stdout",
     "output_type": "stream",
     "text": [
      "Hello\n",
      "These statements are under if block\n",
      "This are out of if Block\n"
     ]
    }
   ],
   "source": [
    "if True:\n",
    "    print(\"Hello\")\n",
    "    print(\"These statements are under if block\")\n",
    "\n",
    "print(\"This are out of if Block\")"
   ]
  },
  {
   "cell_type": "code",
   "execution_count": 2,
   "id": "7622d3e0",
   "metadata": {},
   "outputs": [
    {
     "name": "stdout",
     "output_type": "stream",
     "text": [
      "This are out of if Block\n"
     ]
    }
   ],
   "source": [
    "if False:\n",
    "    print(\"Hello\")\n",
    "    print(\"These statements are under if block\")\n",
    "\n",
    "print(\"This are out of if Block\")"
   ]
  },
  {
   "cell_type": "code",
   "execution_count": 5,
   "id": "afe75dad",
   "metadata": {},
   "outputs": [
    {
     "name": "stdout",
     "output_type": "stream",
     "text": [
      "Number is lesser than 3\n"
     ]
    }
   ],
   "source": [
    "x=2\n",
    "\n",
    "if (x>3):\n",
    "    print(\"Number is greater than 3\")\n",
    "else:\n",
    "    print(\"Number is lesser than 3\")"
   ]
  },
  {
   "cell_type": "code",
   "execution_count": 6,
   "id": "7e80c0a5",
   "metadata": {},
   "outputs": [
    {
     "name": "stdout",
     "output_type": "stream",
     "text": [
      "Enter First Number:10\n",
      "Enter Second Number:30\n",
      "Enter Third Number:20\n",
      "30 is greater than 10 and 20\n"
     ]
    }
   ],
   "source": [
    "#  && -- and\n",
    "# ||  -- or \n",
    "\n",
    "\n",
    "a=int(input(\"Enter First Number:\"))\n",
    "\n",
    "b=int(input(\"Enter Second Number:\"))\n",
    "\n",
    "\n",
    "c=int(input(\"Enter Third Number:\"))\n",
    "\n",
    "\n",
    "if (a>b and a>c):\n",
    "    print(f\"{a} is greater than {b} and {c}\")\n",
    "elif (b>a and b>c):\n",
    "    print(f\"{b} is greater than {a} and {c}\")\n",
    "else:\n",
    "    print(f\"{c} is greater than {b} and {a}\")"
   ]
  },
  {
   "cell_type": "markdown",
   "id": "aec0680b-1234-4de5-a450-4bfa05b461a4",
   "metadata": {},
   "source": [
    "## Operators"
   ]
  },
  {
   "cell_type": "code",
   "execution_count": 7,
   "id": "29abbbcd-4e7a-4df6-ba1b-e08630fe9c0d",
   "metadata": {},
   "outputs": [],
   "source": [
    "# and\n",
    "# or\n",
    "# not\n",
    "\n"
   ]
  },
  {
   "cell_type": "code",
   "execution_count": null,
   "id": "4e997eb7-dcb1-4dfa-838d-173a667a5c06",
   "metadata": {},
   "outputs": [],
   "source": [
    "# Loan Processing System"
   ]
  },
  {
   "cell_type": "code",
   "execution_count": 15,
   "id": "c95520a8-fb8a-4607-b86a-41020924a509",
   "metadata": {},
   "outputs": [],
   "source": [
    "high_income=False\n",
    "good_credit=True\n",
    "is_student=True\n"
   ]
  },
  {
   "cell_type": "code",
   "execution_count": 11,
   "id": "64e6379c-b6e0-4f59-b841-7daac44a2cbc",
   "metadata": {},
   "outputs": [
    {
     "name": "stdout",
     "output_type": "stream",
     "text": [
      "Not Eligible\n"
     ]
    }
   ],
   "source": [
    "if high_income and good_credit:\n",
    "    print(\"Eligible\")\n",
    "else:\n",
    "    print(\"Not Eligible\")\n",
    "    "
   ]
  },
  {
   "cell_type": "code",
   "execution_count": 13,
   "id": "7cbe7524-0278-4572-9a7e-110974c207d0",
   "metadata": {},
   "outputs": [
    {
     "name": "stdout",
     "output_type": "stream",
     "text": [
      "Eligible\n"
     ]
    }
   ],
   "source": [
    "if (high_income or good_credit) and is_student:\n",
    "        print(\"Eligible\")\n",
    "else:\n",
    "    print(\"Not Eligible\")\n",
    "    "
   ]
  },
  {
   "cell_type": "markdown",
   "id": "8d7724d2-0b77-496d-ad3e-2d1c2bec6e07",
   "metadata": {},
   "source": [
    "## Ternary Operator"
   ]
  },
  {
   "cell_type": "code",
   "execution_count": 18,
   "id": "cbde64ca-b237-4503-aea9-31d760abc1b7",
   "metadata": {},
   "outputs": [
    {
     "name": "stdout",
     "output_type": "stream",
     "text": [
      "Eligible Age\n"
     ]
    }
   ],
   "source": [
    "age=19\n",
    "\n",
    "message=\"\"\n",
    "\n",
    "if age>=18:\n",
    "    message=\"Eligible Age\"\n",
    "else:\n",
    "    message=\"Non Eligible Age\"\n",
    "\n",
    "print(message)"
   ]
  },
  {
   "cell_type": "code",
   "execution_count": 22,
   "id": "e71b1a4c-4508-4556-86bd-b3ebf112b29d",
   "metadata": {},
   "outputs": [
    {
     "name": "stdout",
     "output_type": "stream",
     "text": [
      "Non Eligble Age\n"
     ]
    }
   ],
   "source": [
    "age=7\n",
    "\n",
    "message=\"Eligible Age\" if age>=18 else \"Non Eligble Age\"\n",
    "\n",
    "print(message)"
   ]
  },
  {
   "cell_type": "code",
   "execution_count": 25,
   "id": "cf2ebbf9-338b-49a8-a909-55f1723ce6ce",
   "metadata": {},
   "outputs": [],
   "source": [
    "# we want to assign grades based on a score:\n",
    "\n",
    "#  If the score is 90 or above: Grade A\n",
    "# If the score is 80 to 89: Grade B\n",
    "# If the score is 70 to 79: Grade C\n",
    "# Otherwise: Grade F"
   ]
  },
  {
   "cell_type": "code",
   "execution_count": 31,
   "id": "a86e731d-5686-4bd5-9f1b-428de3c6dfc4",
   "metadata": {},
   "outputs": [
    {
     "name": "stdout",
     "output_type": "stream",
     "text": [
      "68 -- F\n"
     ]
    }
   ],
   "source": [
    "score=68\n",
    "\n",
    "grade= \"A\" if score>=90 else \"B\" if score>=80 else \"C\" if score>=70 else \"F\"\n",
    "\n",
    "print(score,\"--\",grade)"
   ]
  },
  {
   "cell_type": "markdown",
   "id": "6e99f56e-b09d-41a5-a922-e8909b8f30e2",
   "metadata": {},
   "source": [
    "## While Loop\n"
   ]
  },
  {
   "cell_type": "code",
   "execution_count": 34,
   "id": "61c6ffa3-58b3-4408-a12b-d5a7747eff71",
   "metadata": {},
   "outputs": [],
   "source": [
    "# Initialization\n",
    "# Condition\n",
    "# Increment/Decrement\n",
    "\n"
   ]
  },
  {
   "cell_type": "code",
   "execution_count": 36,
   "id": "4173188f-56bd-495c-a8b7-7885146bf926",
   "metadata": {},
   "outputs": [
    {
     "ename": "SyntaxError",
     "evalue": "invalid syntax (233601123.py, line 5)",
     "output_type": "error",
     "traceback": [
      "\u001b[1;36m  Cell \u001b[1;32mIn[36], line 5\u001b[1;36m\u001b[0m\n\u001b[1;33m    number++\u001b[0m\n\u001b[1;37m            ^\u001b[0m\n\u001b[1;31mSyntaxError\u001b[0m\u001b[1;31m:\u001b[0m invalid syntax\n"
     ]
    }
   ],
   "source": [
    "number=1\n",
    "\n",
    "while (number<=10):\n",
    "    print(number)\n",
    "    number+=1\n"
   ]
  },
  {
   "cell_type": "code",
   "execution_count": null,
   "id": "b2e96001-fae4-4af8-9cd2-78bea3dd4ad5",
   "metadata": {},
   "outputs": [],
   "source": []
  }
 ],
 "metadata": {
  "kernelspec": {
   "display_name": "Python 3 (ipykernel)",
   "language": "python",
   "name": "python3"
  },
  "language_info": {
   "codemirror_mode": {
    "name": "ipython",
    "version": 3
   },
   "file_extension": ".py",
   "mimetype": "text/x-python",
   "name": "python",
   "nbconvert_exporter": "python",
   "pygments_lexer": "ipython3",
   "version": "3.12.4"
  }
 },
 "nbformat": 4,
 "nbformat_minor": 5
}
