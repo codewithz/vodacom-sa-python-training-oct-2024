{
 "cells": [
  {
   "cell_type": "markdown",
   "id": "ac0ba1d8-a18d-4659-b095-aafd2e651c3d",
   "metadata": {},
   "source": [
    "## Regex"
   ]
  },
  {
   "cell_type": "code",
   "execution_count": null,
   "id": "d9e8aad8-d7e7-4f93-9bde-4898890cdf99",
   "metadata": {},
   "outputs": [],
   "source": [
    "#  https://www.youtube.com/watch?v=APvtuNfB5P8&t=1s"
   ]
  },
  {
   "cell_type": "markdown",
   "id": "8ceda332-d7f5-4c1f-a8cc-0af40477cbca",
   "metadata": {},
   "source": [
    "#### Boiler Plate"
   ]
  },
  {
   "cell_type": "code",
   "execution_count": 3,
   "id": "271b457c-105a-48c1-9cf0-ca6d46d78b99",
   "metadata": {},
   "outputs": [
    {
     "name": "stdout",
     "output_type": "stream",
     "text": [
      " MATCHES for \n",
      " MATCHES for \n"
     ]
    }
   ],
   "source": [
    "import re\n",
    "\n",
    "word_list=['','']\n",
    "\n",
    "pattern =''\n",
    "\n",
    "for word in word_list:\n",
    "    result=re.match(pattern,word)\n",
    "    if result:\n",
    "        print(f\"{word} MATCHES for {pattern}\")\n",
    "    else:\n",
    "        print(f\"{word} DOESN'T MATCHES for {pattern}\")"
   ]
  },
  {
   "cell_type": "markdown",
   "id": "209ebdb4-dbc0-4977-9c20-941ef8e3717a",
   "metadata": {},
   "source": [
    "#### Asterix Symbol "
   ]
  },
  {
   "cell_type": "code",
   "execution_count": 14,
   "id": "2c6ec304-8d16-4b00-a653-a4f1b5c60c68",
   "metadata": {},
   "outputs": [
    {
     "name": "stdout",
     "output_type": "stream",
     "text": [
      "Fooaaaabar DOESN'T MATCHES for fooa*bar\n",
      "fooabar MATCHES for fooa*bar\n",
      "fooaxbar DOESN'T MATCHES for fooa*bar\n",
      "foobar MATCHES for fooa*bar\n",
      "fooaabar MATCHES for fooa*bar\n",
      "fooxxxbar DOESN'T MATCHES for fooa*bar\n",
      "fooxbar DOESN'T MATCHES for fooa*bar\n"
     ]
    }
   ],
   "source": [
    "import re\n",
    "\n",
    "word_list = ['Fooaaaabar', 'fooabar','fooaxbar', 'foobar',\n",
    "             'fooaabar', 'fooxxxbar', 'fooxbar']\n",
    "\n",
    "pattern='fooa*bar'\n",
    "\n",
    "for word in word_list:\n",
    "    result=re.match(pattern,word)\n",
    "    # print(type(result))\n",
    "    if result:\n",
    "        print(f\"{word} MATCHES for {pattern}\")\n",
    "    else:\n",
    "        print(f\"{word} DOESN'T MATCHES for {pattern}\")"
   ]
  },
  {
   "cell_type": "markdown",
   "id": "588173dc-59e0-4890-9555-7c00ee2ea5d6",
   "metadata": {},
   "source": [
    "#### Wildcard"
   ]
  },
  {
   "cell_type": "code",
   "execution_count": 22,
   "id": "7a6e6761-a346-4191-ac78-62d307187573",
   "metadata": {},
   "outputs": [
    {
     "name": "stdout",
     "output_type": "stream",
     "text": [
      "fooabar MATCHES for foo.bar\n",
      "fooxbar MATCHES for foo.bar\n",
      "baryfoo DOESN'T MATCHES for foo.bar\n",
      "foobar DOESN'T MATCHES for foo.bar\n",
      "fooxybar DOESN'T MATCHES for foo.bar\n",
      "foocbar MATCHES for foo.bar\n",
      "foo3bar MATCHES for foo.bar\n"
     ]
    }
   ],
   "source": [
    "import re\n",
    "\n",
    "word_list = ['fooabar', 'fooxbar', 'baryfoo',\n",
    "             'foobar', 'fooxybar', 'foocbar','foo3bar']\n",
    "pattern='foo.bar'\n",
    "\n",
    "for word in word_list:\n",
    "    result=re.match(pattern,word)\n",
    "    # print(type(result))\n",
    "    if result:\n",
    "        print(f\"{word} MATCHES for {pattern}\")\n",
    "    else:\n",
    "        print(f\"{word} DOESN'T MATCHES for {pattern}\")"
   ]
  },
  {
   "cell_type": "markdown",
   "id": "3788bfa3-7378-4bbf-bb6b-965b56031e24",
   "metadata": {},
   "source": [
    "#### Wildcard and asterisk"
   ]
  },
  {
   "cell_type": "code",
   "execution_count": 25,
   "id": "6ab322f3-5e81-40c0-8992-72427cd8b5b0",
   "metadata": {},
   "outputs": [
    {
     "name": "stdout",
     "output_type": "stream",
     "text": [
      "foobar MATCHES for foo.*bar\n",
      "barfoo DOESN'T MATCHES for foo.*bar\n",
      "fooabcbar MATCHES for foo.*bar\n",
      "foobxcbar MATCHES for foo.*bar\n",
      "barcbyfoo DOESN'T MATCHES for foo.*bar\n",
      "foozbar MATCHES for foo.*bar\n",
      "barafoo DOESN'T MATCHES for foo.*bar\n",
      "barabfoo DOESN'T MATCHES for foo.*bar\n"
     ]
    }
   ],
   "source": [
    "import re\n",
    "\n",
    "word_list = ['foobar', 'barfoo', 'fooabcbar',\n",
    "             'foobxcbar', 'barcbyfoo', 'foozbar', 'barafoo', 'barabfoo']\n",
    "pattern='foo.*bar'\n",
    "\n",
    "for word in word_list:\n",
    "    result=re.match(pattern,word)\n",
    "    # print(type(result))\n",
    "    if result:\n",
    "        print(f\"{word} MATCHES for {pattern}\")\n",
    "    else:\n",
    "        print(f\"{word} DOESN'T MATCHES for {pattern}\")\n"
   ]
  },
  {
   "cell_type": "markdown",
   "id": "5e743c4c-fd4e-4082-914a-83904680e196",
   "metadata": {},
   "source": [
    "#### Space "
   ]
  },
  {
   "cell_type": "code",
   "execution_count": 33,
   "id": "4ffc98f2-f935-41d6-8294-aeb9a0c9415c",
   "metadata": {},
   "outputs": [
    {
     "name": "stdout",
     "output_type": "stream",
     "text": [
      "fooxxxbar DOESN'T MATCHES for foo\\s*bar\n",
      "foo   bar MATCHES for foo\\s*bar\n",
      "fooxbar DOESN'T MATCHES for foo\\s*bar\n",
      "fooxxbarfoo bar DOESN'T MATCHES for foo\\s*bar\n",
      "foo      bar MATCHES for foo\\s*bar\n",
      "foobar MATCHES for foo\\s*bar\n",
      "fooyyybar DOESN'T MATCHES for foo\\s*bar\n"
     ]
    }
   ],
   "source": [
    "import re\n",
    "\n",
    "word_list = ['fooxxxbar', 'foo   bar', 'fooxbar', 'fooxxbar'\n",
    "                                                  'foo bar', 'foo      bar', 'foobar', 'fooyyybar']\n",
    "pattern='foo\\\\s*bar'\n",
    "\n",
    "for word in word_list:\n",
    "    result=re.match(pattern,word)\n",
    "    # print(type(result))\n",
    "    if result:\n",
    "        print(f\"{word} MATCHES for {pattern}\")\n",
    "    else:\n",
    "        print(f\"{word} DOESN'T MATCHES for {pattern}\")\n"
   ]
  },
  {
   "cell_type": "markdown",
   "id": "344be46e-ceb4-43fc-ad34-c25170dc51e8",
   "metadata": {},
   "source": [
    "#### Character Range"
   ]
  },
  {
   "cell_type": "code",
   "execution_count": 31,
   "id": "c1f1ec3d-8b34-4491-bc35-6646c4aefced",
   "metadata": {},
   "outputs": [
    {
     "name": "stdout",
     "output_type": "stream",
     "text": [
      "foo MATCHES for [fcl]oo\n",
      "moo DOESN'T MATCHES for [fcl]oo\n",
      "coo MATCHES for [fcl]oo\n",
      "doo DOESN'T MATCHES for [fcl]oo\n",
      "poo DOESN'T MATCHES for [fcl]oo\n",
      "loo MATCHES for [fcl]oo\n",
      "boo DOESN'T MATCHES for [fcl]oo\n",
      "hoo DOESN'T MATCHES for [fcl]oo\n"
     ]
    }
   ],
   "source": [
    "import re\n",
    "\n",
    "word_list =['foo', 'moo', 'coo', 'doo',\n",
    "            'poo', 'loo', 'boo', 'hoo']  ;\n",
    "\n",
    "pattern='[fcl]oo'\n",
    "\n",
    "for word in word_list:\n",
    "    result=re.match(pattern,word)\n",
    "    # print(type(result))\n",
    "    if result:\n",
    "        print(f\"{word} MATCHES for {pattern}\")\n",
    "    else:\n",
    "        print(f\"{word} DOESN'T MATCHES for {pattern}\")"
   ]
  },
  {
   "cell_type": "markdown",
   "id": "9c765f95-b123-4efe-b57b-c8332a4dd53f",
   "metadata": {},
   "source": [
    "#### Character Range with Negation"
   ]
  },
  {
   "cell_type": "code",
   "execution_count": 36,
   "id": "50e3951a-71c9-461c-8246-104b2269a9f7",
   "metadata": {},
   "outputs": [
    {
     "name": "stdout",
     "output_type": "stream",
     "text": [
      "foo MATCHES for [^mh]oo\n",
      "moo DOESN'T MATCHES for [^mh]oo\n",
      "coo MATCHES for [^mh]oo\n",
      "doo MATCHES for [^mh]oo\n",
      "poo MATCHES for [^mh]oo\n",
      "loo MATCHES for [^mh]oo\n",
      "boo MATCHES for [^mh]oo\n",
      "hoo DOESN'T MATCHES for [^mh]oo\n"
     ]
    }
   ],
   "source": [
    "import re\n",
    "\n",
    "word_list =['foo', 'moo', 'coo', 'doo',\n",
    "            'poo', 'loo', 'boo', 'hoo']  ;\n",
    "\n",
    "pattern='[^mh]oo'\n",
    "\n",
    "for word in word_list:\n",
    "    result=re.match(pattern,word)\n",
    "    # print(type(result))\n",
    "    if result:\n",
    "        print(f\"{word} MATCHES for {pattern}\")\n",
    "    else:\n",
    "        print(f\"{word} DOESN'T MATCHES for {pattern}\")"
   ]
  },
  {
   "cell_type": "markdown",
   "id": "c857deb0-061f-494a-995d-6c894ad0d1c6",
   "metadata": {},
   "source": [
    "#### Characters with Range"
   ]
  },
  {
   "cell_type": "code",
   "execution_count": 4,
   "id": "4ac91d6b-90fe-42f4-8b6d-373ed3ded145",
   "metadata": {},
   "outputs": [
    {
     "name": "stdout",
     "output_type": "stream",
     "text": [
      "joo MATCHES for [j-m]oo\n",
      "boo DOESN'T MATCHES for [j-m]oo\n",
      "koo MATCHES for [j-m]oo\n",
      "loo MATCHES for [j-m]oo\n",
      "poo DOESN'T MATCHES for [j-m]oo\n",
      "moo MATCHES for [j-m]oo\n",
      "zoo DOESN'T MATCHES for [j-m]oo\n",
      "hoo DOESN'T MATCHES for [j-m]oo\n"
     ]
    }
   ],
   "source": [
    "import re\n",
    "word_list = ['joo', 'boo', 'koo', 'loo', 'poo', 'moo', 'zoo', 'hoo']\n",
    "\n",
    "pattern='[j-m]oo'\n",
    "\n",
    "for word in word_list:\n",
    "    result=re.match(pattern,word)\n",
    "    # print(type(result))\n",
    "    if result:\n",
    "        print(f\"{word} MATCHES for {pattern}\")\n",
    "    else:\n",
    "        print(f\"{word} DOESN'T MATCHES for {pattern}\")"
   ]
  },
  {
   "cell_type": "markdown",
   "id": "53dc849e-f8ee-4e34-9f11-8ec470e3bc26",
   "metadata": {},
   "source": [
    "#### Characters with Range with more characters"
   ]
  },
  {
   "cell_type": "code",
   "execution_count": 7,
   "id": "463ea63d-10fd-4821-b14f-7b8859723136",
   "metadata": {},
   "outputs": [
    {
     "name": "stdout",
     "output_type": "stream",
     "text": [
      "joo MATCHES for [j-mz]oo\n",
      "boo DOESN'T MATCHES for [j-mz]oo\n",
      "koo MATCHES for [j-mz]oo\n",
      "loo MATCHES for [j-mz]oo\n",
      "poo DOESN'T MATCHES for [j-mz]oo\n",
      "moo MATCHES for [j-mz]oo\n",
      "zoo MATCHES for [j-mz]oo\n",
      "hoo DOESN'T MATCHES for [j-mz]oo\n"
     ]
    }
   ],
   "source": [
    "import re\n",
    "word_list = ['joo', 'boo', 'koo', 'loo', 'poo', 'moo', 'zoo', 'hoo']\n",
    "\n",
    "pattern='[j-mz]oo'\n",
    "\n",
    "for word in word_list:\n",
    "    result=re.match(pattern,word)\n",
    "    # print(type(result))\n",
    "    if result:\n",
    "        print(f\"{word} MATCHES for {pattern}\")\n",
    "    else:\n",
    "        print(f\"{word} DOESN'T MATCHES for {pattern}\")"
   ]
  },
  {
   "cell_type": "markdown",
   "id": "b0b6b1a6-575a-48e5-b33f-3009de424ef3",
   "metadata": {},
   "source": [
    "#### Characters with Range with more characters [Case based]"
   ]
  },
  {
   "cell_type": "code",
   "execution_count": 12,
   "id": "400b6e71-77c5-4a0d-8da1-a7462e53a0d8",
   "metadata": {},
   "outputs": [
    {
     "name": "stdout",
     "output_type": "stream",
     "text": [
      "joo MATCHES for [a-cj-mJ-Mz]oo\n",
      "aoo MATCHES for [a-cj-mJ-Mz]oo\n",
      "boo MATCHES for [a-cj-mJ-Mz]oo\n",
      "coo MATCHES for [a-cj-mJ-Mz]oo\n",
      "Koo MATCHES for [a-cj-mJ-Mz]oo\n",
      "Loo MATCHES for [a-cj-mJ-Mz]oo\n",
      "poo DOESN'T MATCHES for [a-cj-mJ-Mz]oo\n",
      "moo MATCHES for [a-cj-mJ-Mz]oo\n",
      "zoo MATCHES for [a-cj-mJ-Mz]oo\n",
      "hoo DOESN'T MATCHES for [a-cj-mJ-Mz]oo\n"
     ]
    }
   ],
   "source": [
    "import re\n",
    "word_list = ['joo', 'aoo','boo','coo', 'Koo', 'Loo', 'poo', 'moo', 'zoo', 'hoo']\n",
    "\n",
    "pattern='[a-cj-mJ-Mz]oo'\n",
    "\n",
    "for word in word_list:\n",
    "    result=re.match(pattern,word)\n",
    "    # print(type(result))\n",
    "    if result:\n",
    "        print(f\"{word} MATCHES for {pattern}\")\n",
    "    else:\n",
    "        print(f\"{word} DOESN'T MATCHES for {pattern}\")"
   ]
  },
  {
   "cell_type": "markdown",
   "id": "3e5cdb4a-5c70-4ae0-b157-f4b85cb46bb5",
   "metadata": {},
   "source": [
    "#### Characters with Range with special characters"
   ]
  },
  {
   "cell_type": "code",
   "execution_count": 16,
   "id": "6a0873f8-8adf-4671-8285-02f42ac425f4",
   "metadata": {},
   "outputs": [
    {
     "name": "stdout",
     "output_type": "stream",
     "text": [
      "x#y MATCHES for x[#:.]y\n",
      "x:y MATCHES for x[#:.]y\n",
      "x.y MATCHES for x[#:.]y\n",
      "x&y DOESN'T MATCHES for x[#:.]y\n",
      "x%y DOESN'T MATCHES for x[#:.]y\n"
     ]
    }
   ],
   "source": [
    "import re\n",
    "word_list = ['x#y', 'x:y', 'x.y', 'x&y', 'x%y']\n",
    "\n",
    "pattern='x[#:.]y'\n",
    "\n",
    "for word in word_list:\n",
    "    result=re.match(pattern,word)\n",
    "    # print(type(result))\n",
    "    if result:\n",
    "        print(f\"{word} MATCHES for {pattern}\")\n",
    "    else:\n",
    "        print(f\"{word} DOESN'T MATCHES for {pattern}\")"
   ]
  },
  {
   "cell_type": "markdown",
   "id": "b7a10dd8-d4ac-46f7-b859-35c48c1f6812",
   "metadata": {},
   "source": [
    "#### Characters with Range with escape characters"
   ]
  },
  {
   "cell_type": "code",
   "execution_count": null,
   "id": "f9fd6994-3069-4f0c-bff4-be536abc94c0",
   "metadata": {},
   "outputs": [],
   "source": [
    "import re\n",
    "word_list = ['x#y', 'x:y', 'x^y', 'x&y', 'x%y']\n",
    "\n",
    "pattern='x[#:\\^]y'\n",
    "\n",
    "for word in word_list:\n",
    "    result=re.match(pattern,word)\n",
    "    # print(type(result))\n",
    "    if result:\n",
    "        print(f\"{word} MATCHES for {pattern}\")\n",
    "    else:\n",
    "        print(f\"{word} DOESN'T MATCHES for {pattern}\")"
   ]
  }
 ],
 "metadata": {
  "kernelspec": {
   "display_name": "Python 3 (ipykernel)",
   "language": "python",
   "name": "python3"
  },
  "language_info": {
   "codemirror_mode": {
    "name": "ipython",
    "version": 3
   },
   "file_extension": ".py",
   "mimetype": "text/x-python",
   "name": "python",
   "nbconvert_exporter": "python",
   "pygments_lexer": "ipython3",
   "version": "3.12.4"
  }
 },
 "nbformat": 4,
 "nbformat_minor": 5
}
