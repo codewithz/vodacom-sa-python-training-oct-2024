{
 "cells": [
  {
   "cell_type": "markdown",
   "id": "db255504",
   "metadata": {},
   "source": [
    "# If - Else - Elif"
   ]
  },
  {
   "cell_type": "code",
   "execution_count": 3,
   "id": "1af4e5a7",
   "metadata": {},
   "outputs": [
    {
     "name": "stdout",
     "output_type": "stream",
     "text": [
      "Hello\n",
      "These statements are under if block\n",
      "This are out of if Block\n"
     ]
    }
   ],
   "source": [
    "if True:\n",
    "    print(\"Hello\")\n",
    "    print(\"These statements are under if block\")\n",
    "\n",
    "print(\"This are out of if Block\")"
   ]
  },
  {
   "cell_type": "code",
   "execution_count": 2,
   "id": "7622d3e0",
   "metadata": {},
   "outputs": [
    {
     "name": "stdout",
     "output_type": "stream",
     "text": [
      "This are out of if Block\n"
     ]
    }
   ],
   "source": [
    "if False:\n",
    "    print(\"Hello\")\n",
    "    print(\"These statements are under if block\")\n",
    "\n",
    "print(\"This are out of if Block\")"
   ]
  },
  {
   "cell_type": "code",
   "execution_count": 5,
   "id": "afe75dad",
   "metadata": {},
   "outputs": [
    {
     "name": "stdout",
     "output_type": "stream",
     "text": [
      "Number is lesser than 3\n"
     ]
    }
   ],
   "source": [
    "x=2\n",
    "\n",
    "if (x>3):\n",
    "    print(\"Number is greater than 3\")\n",
    "else:\n",
    "    print(\"Number is lesser than 3\")"
   ]
  },
  {
   "cell_type": "code",
   "execution_count": 6,
   "id": "7e80c0a5",
   "metadata": {},
   "outputs": [
    {
     "name": "stdout",
     "output_type": "stream",
     "text": [
      "Enter First Number:10\n",
      "Enter Second Number:30\n",
      "Enter Third Number:20\n",
      "30 is greater than 10 and 20\n"
     ]
    }
   ],
   "source": [
    "#  && -- and\n",
    "# ||  -- or \n",
    "\n",
    "\n",
    "a=int(input(\"Enter First Number:\"))\n",
    "\n",
    "b=int(input(\"Enter Second Number:\"))\n",
    "\n",
    "\n",
    "c=int(input(\"Enter Third Number:\"))\n",
    "\n",
    "\n",
    "if (a>b and a>c):\n",
    "    print(f\"{a} is greater than {b} and {c}\")\n",
    "elif (b>a and b>c):\n",
    "    print(f\"{b} is greater than {a} and {c}\")\n",
    "else:\n",
    "    print(f\"{c} is greater than {b} and {a}\")"
   ]
  },
  {
   "cell_type": "code",
   "execution_count": null,
   "id": "636a1977",
   "metadata": {},
   "outputs": [],
   "source": []
  }
 ],
 "metadata": {
  "kernelspec": {
   "display_name": "Python 3 (ipykernel)",
   "language": "python",
   "name": "python3"
  },
  "language_info": {
   "codemirror_mode": {
    "name": "ipython",
    "version": 3
   },
   "file_extension": ".py",
   "mimetype": "text/x-python",
   "name": "python",
   "nbconvert_exporter": "python",
   "pygments_lexer": "ipython3",
   "version": "3.11.5"
  }
 },
 "nbformat": 4,
 "nbformat_minor": 5
}
