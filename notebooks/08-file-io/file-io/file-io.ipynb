{
 "cells": [
  {
   "cell_type": "markdown",
   "id": "e323be2a-8b1a-427c-bb89-8d31a0a52a3c",
   "metadata": {},
   "source": [
    "## File I/O"
   ]
  },
  {
   "cell_type": "code",
   "execution_count": 2,
   "id": "8bff268f-d42b-4154-96c8-2c3271002ab0",
   "metadata": {},
   "outputs": [],
   "source": [
    "import os"
   ]
  },
  {
   "cell_type": "code",
   "execution_count": 8,
   "id": "0dee2cfa-19d9-439b-bca7-9ad225e6225a",
   "metadata": {},
   "outputs": [],
   "source": [
    "# print(dir(os))"
   ]
  },
  {
   "cell_type": "markdown",
   "id": "33804ad1-c102-4b58-81e0-6b6f10cdb49b",
   "metadata": {},
   "source": [
    "#### Creating a Directory"
   ]
  },
  {
   "cell_type": "code",
   "execution_count": 6,
   "id": "ca312414-6958-4594-b347-c44890c40aa2",
   "metadata": {},
   "outputs": [
    {
     "name": "stdout",
     "output_type": "stream",
     "text": [
      "Directory my_dir created successfully\n"
     ]
    }
   ],
   "source": [
    "os.mkdir(\"my_dir\")\n",
    "print(\"Directory my_dir created successfully\")"
   ]
  },
  {
   "cell_type": "code",
   "execution_count": 23,
   "id": "5b723da2-9de6-4b22-9a09-528f18518350",
   "metadata": {},
   "outputs": [
    {
     "name": "stdout",
     "output_type": "stream",
     "text": [
      "Directory my_dir created successfully\n"
     ]
    }
   ],
   "source": [
    "os.mkdir(\"my_dir_test\")\n",
    "print(\"Directory my_dir created successfully\")"
   ]
  },
  {
   "cell_type": "markdown",
   "id": "561d8654-1f60-4645-ab3a-994f8539ffa0",
   "metadata": {},
   "source": [
    "#### Remove the Directory"
   ]
  },
  {
   "cell_type": "code",
   "execution_count": 54,
   "id": "08a10ccc-5500-459f-b420-6f8974bb7aa0",
   "metadata": {},
   "outputs": [
    {
     "ename": "FileNotFoundError",
     "evalue": "[WinError 2] The system cannot find the file specified: 'my_dir_test'",
     "output_type": "error",
     "traceback": [
      "\u001b[1;31m---------------------------------------------------------------------------\u001b[0m",
      "\u001b[1;31mFileNotFoundError\u001b[0m                         Traceback (most recent call last)",
      "Cell \u001b[1;32mIn[54], line 1\u001b[0m\n\u001b[1;32m----> 1\u001b[0m os\u001b[38;5;241m.\u001b[39mrmdir(\u001b[38;5;124m\"\u001b[39m\u001b[38;5;124mmy_dir_test\u001b[39m\u001b[38;5;124m\"\u001b[39m)\n\u001b[0;32m      2\u001b[0m \u001b[38;5;28mprint\u001b[39m(\u001b[38;5;124m\"\u001b[39m\u001b[38;5;124mmy_dir_test removed successfully\u001b[39m\u001b[38;5;124m\"\u001b[39m)\n",
      "\u001b[1;31mFileNotFoundError\u001b[0m: [WinError 2] The system cannot find the file specified: 'my_dir_test'"
     ]
    }
   ],
   "source": [
    "os.rmdir(\"my_dir_test\")\n",
    "print(\"my_dir_test removed successfully\")"
   ]
  },
  {
   "cell_type": "markdown",
   "id": "cdac0d41-f679-4290-a745-8c310e131862",
   "metadata": {},
   "source": [
    "#### Creating and Writing to a File"
   ]
  },
  {
   "cell_type": "code",
   "execution_count": 33,
   "id": "0714112f-58fc-45d5-b092-e6bd991c6049",
   "metadata": {},
   "outputs": [
    {
     "name": "stdout",
     "output_type": "stream",
     "text": [
      "example.txt created and written \n"
     ]
    }
   ],
   "source": [
    "\n",
    "\n",
    "with open(path,\"w\") as file:\n",
    "    file.write(\"Hello, this is a sample file. \\n Welcome to Python File IO\")\n",
    "\n",
    "print(\"example.txt created and written \")"
   ]
  },
  {
   "cell_type": "markdown",
   "id": "1f91cfda-9644-451f-88f5-20900086c6e4",
   "metadata": {},
   "source": [
    "#### Read from a text file"
   ]
  },
  {
   "cell_type": "markdown",
   "id": "1c27e222-c76f-4494-b5f7-eda5a392e148",
   "metadata": {},
   "source": [
    "path=\"my_dir//example.txt\"\n",
    "with open(path,\"r\") as file:\n",
    "    content=file.read()\n",
    "\n",
    "\n",
    "print(\"Content of example.txt\")\n",
    "print(content)\n",
    "print(type(content))"
   ]
  },
  {
   "cell_type": "markdown",
   "id": "3b510a61-b86a-4763-8b50-48f92574ad3d",
   "metadata": {},
   "source": [
    "#### Create and Write to CSV \n"
   ]
  },
  {
   "cell_type": "code",
   "execution_count": 45,
   "id": "6a197c1a-02b0-41ce-82a7-1abf3df92cdb",
   "metadata": {},
   "outputs": [
    {
     "name": "stdout",
     "output_type": "stream",
     "text": [
      "CSV File created and written\n"
     ]
    }
   ],
   "source": [
    "import csv\n",
    "path=\"my_dir//data.csv\"\n",
    "with open(path,\"w\",newline=\"\") as csvfile:\n",
    "    writer=csv.writer(csvfile)\n",
    "    writer.writerow([\"Name\",\"Age\",\"City\"])\n",
    "    writer.writerow([\"Tom\",30,\"LA\"])\n",
    "    writer.writerow([\"Alex\",35,\"CT\"])\n",
    "    writer.writerow([\"Mike\",40,\"Delhi\"])\n",
    "\n",
    "print(\"CSV File created and written\")"
   ]
  },
  {
   "cell_type": "code",
   "execution_count": 47,
   "id": "6b2af41b-3756-499a-935f-91d0a4f263cf",
   "metadata": {},
   "outputs": [
    {
     "name": "stdout",
     "output_type": "stream",
     "text": [
      "CSV File created and written\n"
     ]
    }
   ],
   "source": [
    "import csv\n",
    "path=\"my_dir//data.csv\"\n",
    "with open(path,\"a\",newline=\"\") as csvfile:\n",
    "    writer=csv.writer(csvfile)\n",
    "    writer.writerow([\"Name\",\"Age\",\"City\"])\n",
    "    writer.writerow([\"Tom1\",30,\"LA\"])\n",
    "    writer.writerow([\"Alex2\",35,\"CT\"])\n",
    "    writer.writerow([\"Mike3\",40,\"Delhi\"])\n",
    "\n",
    "print(\"CSV File created and written\")"
   ]
  },
  {
   "cell_type": "markdown",
   "id": "c7a16684-009f-4132-bb01-295f641a2198",
   "metadata": {},
   "source": [
    "#### Read from csv file"
   ]
  },
  {
   "cell_type": "code",
   "execution_count": 50,
   "id": "00ead215-784a-4cb7-95f0-7f70e8655952",
   "metadata": {},
   "outputs": [
    {
     "name": "stdout",
     "output_type": "stream",
     "text": [
      "Content of data.csv\n",
      "['Name', 'Age', 'City']\n",
      "['Tom', '30', 'LA']\n",
      "['Alex', '35', 'CT']\n",
      "['Mike', '40', 'Delhi']\n",
      "['Name', 'Age', 'City']\n",
      "['Tom1', '30', 'LA']\n",
      "['Alex2', '35', 'CT']\n",
      "['Mike3', '40', 'Delhi']\n"
     ]
    }
   ],
   "source": [
    "import csv\n",
    "path=\"my_dir//data.csv\"\n",
    "\n",
    "with open(path,\"r\") as csvfile:\n",
    "    reader=csv.reader(csvfile)\n",
    "    print(\"Content of data.csv\")\n",
    "    for row in reader:\n",
    "        print(row)"
   ]
  },
  {
   "cell_type": "code",
   "execution_count": null,
   "id": "99f80004-be29-4f6f-b85e-0b2a44d29ed9",
   "metadata": {},
   "outputs": [],
   "source": []
  }
 ],
 "metadata": {
  "kernelspec": {
   "display_name": "Python 3 (ipykernel)",
   "language": "python",
   "name": "python3"
  },
  "language_info": {
   "codemirror_mode": {
    "name": "ipython",
    "version": 3
   },
   "file_extension": ".py",
   "mimetype": "text/x-python",
   "name": "python",
   "nbconvert_exporter": "python",
   "pygments_lexer": "ipython3",
   "version": "3.12.4"
  }
 },
 "nbformat": 4,
 "nbformat_minor": 5
}
