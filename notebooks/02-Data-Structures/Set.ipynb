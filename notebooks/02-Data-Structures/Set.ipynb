{
 "cells": [
  {
   "cell_type": "markdown",
   "id": "e7b55b1b-8d1c-42a0-be81-8b71f83e5ffc",
   "metadata": {},
   "source": [
    "## Set"
   ]
  },
  {
   "cell_type": "code",
   "execution_count": 2,
   "id": "5c04c494-010e-468a-9e77-ceb6d45508ca",
   "metadata": {},
   "outputs": [],
   "source": [
    "#  Set --> No Duplicates | Unordered \n",
    "# Mutable \n",
    "\n",
    "#  {}"
   ]
  },
  {
   "cell_type": "markdown",
   "id": "4b61e914-1bcd-4491-bb86-10f65e6c4752",
   "metadata": {},
   "source": [
    "#### Multiple Ways of Creating Set"
   ]
  },
  {
   "cell_type": "code",
   "execution_count": 5,
   "id": "9e90fbf5-10c2-4bc0-998d-5090be7d386c",
   "metadata": {},
   "outputs": [
    {
     "name": "stdout",
     "output_type": "stream",
     "text": [
      "<class 'set'>\n",
      "{1, 4, 5, 6, 7}\n"
     ]
    }
   ],
   "source": [
    "first = {1,4,5,6,7,4,5}\n",
    "print(type(first))\n",
    "print(first)"
   ]
  },
  {
   "cell_type": "code",
   "execution_count": 7,
   "id": "51db97dd-2fe9-43ed-9230-33ed6f3250e9",
   "metadata": {},
   "outputs": [
    {
     "name": "stdout",
     "output_type": "stream",
     "text": [
      "List: [1, 4, 5, 6, 3, 5, 2, 6, 1, 4, 9, 2, 2, 5, 5, 7, 8, 3, 6]\n",
      "Set: {1, 2, 3, 4, 5, 6, 7, 8, 9}\n"
     ]
    }
   ],
   "source": [
    "numbers=[1,4,5,6,3,5,2,6,1,4,9,2,2,5,5,7,8,3,6]\n",
    "\n",
    "print(\"List:\",numbers)\n",
    "\n",
    "second=set(numbers)\n",
    "\n",
    "print(\"Set:\",second)"
   ]
  },
  {
   "cell_type": "code",
   "execution_count": 9,
   "id": "9177e4e5-10b0-4f36-b12a-f739f1d6b6cd",
   "metadata": {},
   "outputs": [
    {
     "name": "stdout",
     "output_type": "stream",
     "text": [
      "Set: {1, 2, 3, 4, 5, 6, 7, 8, 9}\n"
     ]
    }
   ],
   "source": [
    "third={*numbers}\n",
    "print(\"Set:\",third)"
   ]
  },
  {
   "cell_type": "markdown",
   "id": "27ed4840-bb8f-4f21-a47b-34c1b74049c7",
   "metadata": {},
   "source": [
    "#### Add and Remove elements from Set \n"
   ]
  },
  {
   "cell_type": "code",
   "execution_count": 13,
   "id": "4ad4ac26-f082-476f-921a-99fcf255e405",
   "metadata": {},
   "outputs": [
    {
     "name": "stdout",
     "output_type": "stream",
     "text": [
      "Add: {1, 2, 3, 4, 5, 6, 7, 8, 9, 10}\n"
     ]
    }
   ],
   "source": [
    "third.add(10)\n",
    "print(\"Add:\",third)"
   ]
  },
  {
   "cell_type": "code",
   "execution_count": 15,
   "id": "be96d038-f07e-42c6-b139-33d9d8f00550",
   "metadata": {},
   "outputs": [
    {
     "name": "stdout",
     "output_type": "stream",
     "text": [
      "Add: {1, 2, 3, 4, 5, 6, 7, 8, 9, 10}\n"
     ]
    }
   ],
   "source": [
    "third.add(10)\n",
    "print(\"Add:\",third)"
   ]
  },
  {
   "cell_type": "code",
   "execution_count": 17,
   "id": "3eaf0e71-abeb-466d-b474-3045628552ed",
   "metadata": {},
   "outputs": [
    {
     "name": "stdout",
     "output_type": "stream",
     "text": [
      "Remove: {1, 2, 3, 5, 6, 7, 8, 9, 10}\n"
     ]
    }
   ],
   "source": [
    "third.remove(4)\n",
    "print(\"Remove:\",third)"
   ]
  },
  {
   "cell_type": "code",
   "execution_count": 19,
   "id": "fcd7554c-bdaa-4f34-a2ec-9d591fb9811c",
   "metadata": {},
   "outputs": [
    {
     "ename": "KeyError",
     "evalue": "4",
     "output_type": "error",
     "traceback": [
      "\u001b[1;31m---------------------------------------------------------------------------\u001b[0m",
      "\u001b[1;31mKeyError\u001b[0m                                  Traceback (most recent call last)",
      "Cell \u001b[1;32mIn[19], line 1\u001b[0m\n\u001b[1;32m----> 1\u001b[0m third\u001b[38;5;241m.\u001b[39mremove(\u001b[38;5;241m4\u001b[39m)\n\u001b[0;32m      2\u001b[0m \u001b[38;5;28mprint\u001b[39m(\u001b[38;5;124m\"\u001b[39m\u001b[38;5;124mRemove:\u001b[39m\u001b[38;5;124m\"\u001b[39m,third)\n",
      "\u001b[1;31mKeyError\u001b[0m: 4"
     ]
    }
   ],
   "source": [
    "third.remove(4)\n",
    "print(\"Remove:\",third)"
   ]
  },
  {
   "cell_type": "code",
   "execution_count": 25,
   "id": "23a86ef5-eeed-44c4-a6d8-114e617e02cd",
   "metadata": {},
   "outputs": [
    {
     "name": "stdout",
     "output_type": "stream",
     "text": [
      "Discard: {1, 2, 3, 6, 7, 8, 9, 10}\n"
     ]
    }
   ],
   "source": [
    "third.discard(5)\n",
    "print(\"Discard:\",third)"
   ]
  },
  {
   "cell_type": "code",
   "execution_count": 27,
   "id": "37e06d13-0acf-4c5a-8dea-1a05e3a92a5a",
   "metadata": {},
   "outputs": [
    {
     "name": "stdout",
     "output_type": "stream",
     "text": [
      "Discard: {1, 2, 3, 6, 7, 8, 9, 10}\n"
     ]
    }
   ],
   "source": [
    "third.discard(5)\n",
    "print(\"Discard:\",third)"
   ]
  },
  {
   "cell_type": "markdown",
   "id": "2aaaa6e1-9ebd-44a2-9a1e-a16d038555b1",
   "metadata": {},
   "source": [
    "#### Set operations"
   ]
  },
  {
   "cell_type": "code",
   "execution_count": 38,
   "id": "de3c0cd4-e668-4754-81d2-fcf41888c3e7",
   "metadata": {},
   "outputs": [],
   "source": [
    "# Union   |\n",
    "# Intersection   &\n",
    "# Difference   -\n",
    "# Symmetric Difference   ^\n",
    "\n",
    "\n",
    "first={1,2,3,4,5}\n",
    "second={4,5,6,7,8}\n"
   ]
  },
  {
   "cell_type": "code",
   "execution_count": 36,
   "id": "e16ff201-3fcf-4350-9ba5-e271d4820dc3",
   "metadata": {},
   "outputs": [
    {
     "name": "stdout",
     "output_type": "stream",
     "text": [
      "{1, 2, 3, 4, 5, 6, 7, 8}\n",
      "{1, 2, 3, 4, 5, 6, 7, 8}\n"
     ]
    }
   ],
   "source": [
    "union=first.union(second)\n",
    "print(union)\n",
    "\n",
    "union_notation=first | second\n",
    "print(union_notation)"
   ]
  },
  {
   "cell_type": "code",
   "execution_count": 42,
   "id": "3701e06d-896b-484c-8620-9fae860a3ef4",
   "metadata": {},
   "outputs": [
    {
     "name": "stdout",
     "output_type": "stream",
     "text": [
      "{4, 5}\n",
      "{4, 5}\n"
     ]
    }
   ],
   "source": [
    "intersection=first.intersection(second)\n",
    "print(intersection)\n",
    "\n",
    "intersection_notation=first & second\n",
    "print(intersection_notation)"
   ]
  },
  {
   "cell_type": "code",
   "execution_count": 46,
   "id": "6d8a37b1-a77d-47a3-88f7-4b99b856f404",
   "metadata": {},
   "outputs": [
    {
     "name": "stdout",
     "output_type": "stream",
     "text": [
      "{1, 2, 3}\n",
      "{8, 6, 7}\n"
     ]
    }
   ],
   "source": [
    "difference=first.difference(second)\n",
    "print(difference)\n",
    "\n",
    "difference_notation=second - first\n",
    "print(difference_notation)"
   ]
  },
  {
   "cell_type": "code",
   "execution_count": 50,
   "id": "dbea369c-e4a7-486a-a1de-4c6c31de1aa7",
   "metadata": {},
   "outputs": [
    {
     "name": "stdout",
     "output_type": "stream",
     "text": [
      "{1, 2, 3, 6, 7, 8}\n",
      "{1, 2, 3, 6, 7, 8}\n"
     ]
    }
   ],
   "source": [
    "symmetric=first.symmetric_difference(second)\n",
    "print(symmetric)\n",
    "\n",
    "symmetric_notation=first^second\n",
    "print(symmetric_notation)"
   ]
  },
  {
   "cell_type": "code",
   "execution_count": null,
   "id": "e465e59e-b4d1-4821-b3d4-79fee66eeec0",
   "metadata": {},
   "outputs": [],
   "source": []
  }
 ],
 "metadata": {
  "kernelspec": {
   "display_name": "Python 3 (ipykernel)",
   "language": "python",
   "name": "python3"
  },
  "language_info": {
   "codemirror_mode": {
    "name": "ipython",
    "version": 3
   },
   "file_extension": ".py",
   "mimetype": "text/x-python",
   "name": "python",
   "nbconvert_exporter": "python",
   "pygments_lexer": "ipython3",
   "version": "3.12.4"
  }
 },
 "nbformat": 4,
 "nbformat_minor": 5
}
