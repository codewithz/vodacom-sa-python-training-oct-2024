{
 "cells": [
  {
   "cell_type": "markdown",
   "id": "724709c0-4e0f-40d5-ae8e-029867f69892",
   "metadata": {},
   "source": [
    "## Dictionary"
   ]
  },
  {
   "cell_type": "code",
   "execution_count": 2,
   "id": "17e69358-c738-4225-a274-cf37544708b6",
   "metadata": {},
   "outputs": [],
   "source": [
    "# Key-Value Pairs\n",
    "#  {key:value,key:value,.......}\n",
    "# Contact Book Name --> number\n",
    "# Name should be unique [Key should be unique]\n",
    "\n"
   ]
  },
  {
   "cell_type": "markdown",
   "id": "7c8d5804-ae2f-4026-97fe-592756764ffe",
   "metadata": {},
   "source": [
    "#### Multiple Ways of creating a dictionary \n"
   ]
  },
  {
   "cell_type": "code",
   "execution_count": 5,
   "id": "53e2b0b2-279c-4df3-b2b2-4c54f5b20c35",
   "metadata": {},
   "outputs": [
    {
     "name": "stdout",
     "output_type": "stream",
     "text": [
      "{'x': 1, 'y': 2}\n",
      "<class 'dict'>\n"
     ]
    }
   ],
   "source": [
    "point= {\"x\":1,\"y\":2}\n",
    "print(point)\n",
    "print(type(point))"
   ]
  },
  {
   "cell_type": "code",
   "execution_count": 7,
   "id": "d3232fe9-6a6f-498f-8d1f-cf662037efd3",
   "metadata": {},
   "outputs": [
    {
     "name": "stdout",
     "output_type": "stream",
     "text": [
      "{'x': 1, 'y': 2}\n",
      "<class 'dict'>\n"
     ]
    }
   ],
   "source": [
    "point=dict(x=1,y=2)\n",
    "print(point)\n",
    "print(type(point))"
   ]
  },
  {
   "cell_type": "code",
   "execution_count": 43,
   "id": "5e2b69e9-adbd-4851-a20e-b4b4aa5792a3",
   "metadata": {},
   "outputs": [
    {
     "name": "stdout",
     "output_type": "stream",
     "text": [
      "{'name': 'Zartab', 'city': 'Mumbai', 'age': 33, 'married': True, 'program_stack': ['Java', 'Python']}\n",
      "<class 'dict'>\n"
     ]
    }
   ],
   "source": [
    "details=dict(name=\"Zartab\",city=\"Mumbai\",age=33,married=True,program_stack=[\"Java\",\"Python\"])\n",
    "print(details)\n",
    "print(type(details))"
   ]
  },
  {
   "cell_type": "markdown",
   "id": "44f13cf9-8810-4250-99d3-a04a1bd54de6",
   "metadata": {},
   "source": [
    "#### Accessing elements in dictionary"
   ]
  },
  {
   "cell_type": "code",
   "execution_count": 14,
   "id": "a9b5b287-c344-4323-996a-5b526b0d3b5f",
   "metadata": {},
   "outputs": [
    {
     "name": "stdout",
     "output_type": "stream",
     "text": [
      "Name: Zartab\n"
     ]
    }
   ],
   "source": [
    "print(\"Name:\",details.get(\"name\"))"
   ]
  },
  {
   "cell_type": "code",
   "execution_count": 16,
   "id": "d90736ac-3f72-4551-b76a-643258e3b202",
   "metadata": {},
   "outputs": [
    {
     "name": "stdout",
     "output_type": "stream",
     "text": [
      "Age: 33\n"
     ]
    }
   ],
   "source": [
    "print(\"Age:\",details[\"age\"])"
   ]
  },
  {
   "cell_type": "code",
   "execution_count": 18,
   "id": "d7d02125-56b5-4324-b0a1-4b4fb82c5093",
   "metadata": {},
   "outputs": [
    {
     "name": "stdout",
     "output_type": "stream",
     "text": [
      "Country: None\n"
     ]
    }
   ],
   "source": [
    "print(\"Country:\",details.get(\"country\"))"
   ]
  },
  {
   "cell_type": "code",
   "execution_count": 24,
   "id": "1ab3a675-d5c2-4001-a118-790d8157bdc7",
   "metadata": {},
   "outputs": [
    {
     "name": "stdout",
     "output_type": "stream",
     "text": [
      "Country: SA\n"
     ]
    }
   ],
   "source": [
    "print(\"Country:\",details.get(\"country\",\"SA\"))"
   ]
  },
  {
   "cell_type": "code",
   "execution_count": 28,
   "id": "88a11b9b-c2cd-4ae3-9e9f-9b249c992bed",
   "metadata": {},
   "outputs": [
    {
     "name": "stdout",
     "output_type": "stream",
     "text": [
      "{'name': 'Zartab', 'city': 'Mumbai', 'age': 33, 'married': True, 'program_stack': ['Java', 'Python']}\n",
      "<class 'dict'>\n"
     ]
    }
   ],
   "source": [
    "print(details)\n",
    "print(type(details))"
   ]
  },
  {
   "cell_type": "markdown",
   "id": "6430712e-051e-46d1-bddf-87d0f4f791eb",
   "metadata": {},
   "source": [
    "#### Add and Remove elements from dictionary"
   ]
  },
  {
   "cell_type": "code",
   "execution_count": 31,
   "id": "9a129b6f-5c04-4ffd-b9b4-efa3eacacfc6",
   "metadata": {},
   "outputs": [
    {
     "name": "stdout",
     "output_type": "stream",
     "text": [
      "{'name': 'Zartab', 'city': 'Mumbai', 'age': 33, 'married': True, 'program_stack': ['Java', 'Python'], 'country': 'India'}\n"
     ]
    }
   ],
   "source": [
    "details[\"country\"]=\"India\"\n",
    "print(details)"
   ]
  },
  {
   "cell_type": "code",
   "execution_count": 33,
   "id": "fc163bd7-593d-4c33-8b99-b0809c1d5e9f",
   "metadata": {},
   "outputs": [
    {
     "name": "stdout",
     "output_type": "stream",
     "text": [
      "{'name': 'Zartab', 'city': 'Mumbai', 'age': 33, 'married': True, 'program_stack': ['Java', 'Python'], 'country': 'South Africa'}\n"
     ]
    }
   ],
   "source": [
    "details[\"country\"]=\"South Africa\"\n",
    "print(details)"
   ]
  },
  {
   "cell_type": "code",
   "execution_count": 35,
   "id": "65369d1e-a5bd-4a4e-bf17-6b3c3f2064bd",
   "metadata": {},
   "outputs": [
    {
     "name": "stdout",
     "output_type": "stream",
     "text": [
      "{'name': 'Zartab', 'city': 'Mumbai', 'age': 34, 'married': True, 'program_stack': ['Java', 'Python'], 'country': 'South Africa'}\n"
     ]
    }
   ],
   "source": [
    "details[\"age\"]=34\n",
    "print(details)"
   ]
  },
  {
   "cell_type": "code",
   "execution_count": 45,
   "id": "54d66b7e-1186-48a2-b0b4-f1646109386d",
   "metadata": {},
   "outputs": [
    {
     "name": "stdout",
     "output_type": "stream",
     "text": [
      "{'name': 'Zartab', 'city': 'Mumbai', 'age': 33, 'married': True, 'program_stack': ['Java', 'Python', 'JavaScript']}\n",
      "{'name': 'Zartab', 'city': 'Mumbai', 'age': 33, 'married': True}\n"
     ]
    }
   ],
   "source": [
    "details[\"program_stack\"].append(\"JavaScript\")\n",
    "print(details)\n",
    "del details[\"program_stack\"]\n",
    "print(details)"
   ]
  },
  {
   "cell_type": "code",
   "execution_count": 39,
   "id": "2f8eebe0-b5b5-4f6c-bef5-cb0802705250",
   "metadata": {},
   "outputs": [
    {
     "name": "stdout",
     "output_type": "stream",
     "text": [
      "{'name': 'Zartab', 'age': 34, 'married': True, 'country': 'South Africa'}\n",
      "Mumbai\n"
     ]
    }
   ],
   "source": [
    "removed_element=details.pop(\"city\")\n",
    "print(details)\n",
    "print(removed_element)"
   ]
  },
  {
   "cell_type": "markdown",
   "id": "851ea6a8-62d5-4fc7-b83b-61103adf76d6",
   "metadata": {},
   "source": [
    "#### Iterate Through a Dictionary"
   ]
  },
  {
   "cell_type": "code",
   "execution_count": 50,
   "id": "9520a7f3-816d-4fc0-b350-49d429af03be",
   "metadata": {},
   "outputs": [
    {
     "name": "stdout",
     "output_type": "stream",
     "text": [
      "name\n",
      "city\n",
      "age\n",
      "married\n"
     ]
    }
   ],
   "source": [
    "for element in details:\n",
    "    print(element)"
   ]
  },
  {
   "cell_type": "code",
   "execution_count": 52,
   "id": "6e4dfc11-b8ce-4bba-81d5-5343d266ed7f",
   "metadata": {},
   "outputs": [
    {
     "name": "stdout",
     "output_type": "stream",
     "text": [
      "name\n",
      "city\n",
      "age\n",
      "married\n"
     ]
    }
   ],
   "source": [
    "for key in details:\n",
    "    print(key)"
   ]
  },
  {
   "cell_type": "code",
   "execution_count": 54,
   "id": "5255e9df-326b-4b71-8a60-fbeaf4ab396c",
   "metadata": {},
   "outputs": [
    {
     "name": "stdout",
     "output_type": "stream",
     "text": [
      "('name', 'Zartab')\n",
      "('city', 'Mumbai')\n",
      "('age', 33)\n",
      "('married', True)\n"
     ]
    }
   ],
   "source": [
    "for item in details.items():\n",
    "    print(item)"
   ]
  },
  {
   "cell_type": "code",
   "execution_count": 56,
   "id": "31d8da8a-775b-42cc-bb44-297f9b2f52f7",
   "metadata": {},
   "outputs": [
    {
     "name": "stdout",
     "output_type": "stream",
     "text": [
      "name --- Zartab\n",
      "city --- Mumbai\n",
      "age --- 33\n",
      "married --- True\n"
     ]
    }
   ],
   "source": [
    "for key,value in details.items():\n",
    "    print(key,\"---\",value)"
   ]
  },
  {
   "cell_type": "code",
   "execution_count": 60,
   "id": "2c5909b7-e183-4ac0-a2c6-e9df75d5c4d6",
   "metadata": {},
   "outputs": [
    {
     "name": "stdout",
     "output_type": "stream",
     "text": [
      "Keys: dict_keys(['name', 'city', 'age', 'married'])\n",
      "Keys: <class 'dict_keys'>\n",
      "Values: dict_values(['Zartab', 'Mumbai', 33, True])\n",
      "Values: <class 'dict_values'>\n"
     ]
    }
   ],
   "source": [
    "key_list=details.keys()\n",
    "value_list=details.values()\n",
    "\n",
    "print(\"Keys:\",key_list)\n",
    "print(\"Keys:\",type(key_list))\n",
    "print(\"Values:\",value_list)\n",
    "print(\"Values:\",type(value_list))"
   ]
  },
  {
   "cell_type": "code",
   "execution_count": 62,
   "id": "78e9f37c-8af0-4107-b71a-c599f099def9",
   "metadata": {},
   "outputs": [
    {
     "name": "stdout",
     "output_type": "stream",
     "text": [
      "name\n",
      "city\n",
      "age\n",
      "married\n"
     ]
    }
   ],
   "source": [
    "for key in key_list:\n",
    "    print(key)"
   ]
  },
  {
   "cell_type": "code",
   "execution_count": null,
   "id": "562f2bd3-02e6-425e-8e19-247b3ae9609a",
   "metadata": {},
   "outputs": [],
   "source": []
  }
 ],
 "metadata": {
  "kernelspec": {
   "display_name": "Python 3 (ipykernel)",
   "language": "python",
   "name": "python3"
  },
  "language_info": {
   "codemirror_mode": {
    "name": "ipython",
    "version": 3
   },
   "file_extension": ".py",
   "mimetype": "text/x-python",
   "name": "python",
   "nbconvert_exporter": "python",
   "pygments_lexer": "ipython3",
   "version": "3.12.4"
  }
 },
 "nbformat": 4,
 "nbformat_minor": 5
}
