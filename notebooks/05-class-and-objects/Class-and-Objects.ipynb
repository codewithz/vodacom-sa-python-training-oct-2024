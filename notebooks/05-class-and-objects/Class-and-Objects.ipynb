{
 "cells": [
  {
   "cell_type": "markdown",
   "id": "cf11a4e1-6b21-4212-b83f-f49fac3e4a44",
   "metadata": {},
   "source": [
    "## Classes in Python"
   ]
  },
  {
   "cell_type": "markdown",
   "id": "59f376fb-ff7d-4b19-824a-5a031fcb636c",
   "metadata": {},
   "source": [
    "#### Naming Conventions"
   ]
  },
  {
   "cell_type": "code",
   "execution_count": 3,
   "id": "104c4759-a408-4acc-834b-1e92b3aee55e",
   "metadata": {},
   "outputs": [],
   "source": [
    "# function /variable  --> snake_casing --> one_two_three_four\n",
    "# class               --> PascalCasing --> OneTwoThreeFour\n",
    "\n"
   ]
  },
  {
   "cell_type": "code",
   "execution_count": 7,
   "id": "581a342e-4ab2-49fa-9bf8-856270a2eb38",
   "metadata": {},
   "outputs": [],
   "source": [
    "class Point:\n",
    "    def draw(self):\n",
    "        self.x=20\n",
    "        self.y=30\n",
    "        print(\"Draw()\")\n",
    "\n",
    "        "
   ]
  },
  {
   "cell_type": "code",
   "execution_count": 11,
   "id": "41e7efb3-4899-444a-9024-2298631ca372",
   "metadata": {},
   "outputs": [
    {
     "name": "stdout",
     "output_type": "stream",
     "text": [
      "Draw()\n",
      "p.x: 20\n",
      "p.y: 30\n",
      "<class '__main__.Point'>\n"
     ]
    }
   ],
   "source": [
    "p=Point()\n",
    "p.draw()\n",
    "print(\"p.x:\",p.x)\n",
    "print(\"p.y:\",p.y)\n",
    "print(type(p))"
   ]
  },
  {
   "cell_type": "markdown",
   "id": "5526a98e-3d8f-422f-ab3a-f649625c392a",
   "metadata": {},
   "source": [
    "#### __init__()  Constructor "
   ]
  },
  {
   "cell_type": "code",
   "execution_count": 30,
   "id": "b8afd004-a8a7-4383-b5b2-b419a45576b3",
   "metadata": {},
   "outputs": [],
   "source": [
    "class Person:\n",
    "    def __init__(self,name,age):\n",
    "        self.name=name\n",
    "        self.age=age\n",
    "    def details(self):\n",
    "        print(f\"Person <{self.name},{self.age}>\")\n",
    "\n",
    "        "
   ]
  },
  {
   "cell_type": "code",
   "execution_count": 39,
   "id": "d8c08a16-3fb3-45c4-97cb-ed51075b0fa4",
   "metadata": {},
   "outputs": [
    {
     "name": "stdout",
     "output_type": "stream",
     "text": [
      "Person <Tom,25>\n",
      "<__main__.Person object at 0x000002D93DAF7920>\n"
     ]
    }
   ],
   "source": [
    "tom=Person(\"Tom\",25)\n",
    "tom.details()\n",
    "print(tom)"
   ]
  },
  {
   "cell_type": "code",
   "execution_count": 24,
   "id": "5c069bc2-dae8-4171-bd0c-a0dc112e6733",
   "metadata": {},
   "outputs": [],
   "source": [
    "class Person:\n",
    "    def __init__(self,n,a):\n",
    "        self.name=n\n",
    "        self.age=a\n",
    "\n",
    "    def details(self):\n",
    "        print(f\"Person <{self.name},{self.age}>\")"
   ]
  },
  {
   "cell_type": "code",
   "execution_count": 28,
   "id": "5fd98fa4-4ee3-4eae-a529-f8f31926ee77",
   "metadata": {},
   "outputs": [
    {
     "name": "stdout",
     "output_type": "stream",
     "text": [
      "Person <Alex,29>\n"
     ]
    }
   ],
   "source": [
    "alex=Person(\"Alex\",29)\n",
    "alex.details()"
   ]
  },
  {
   "cell_type": "markdown",
   "id": "73eca913-ea4e-4c43-972a-58e0b6ca6750",
   "metadata": {},
   "source": [
    "#### __magic_functions__() "
   ]
  },
  {
   "cell_type": "code",
   "execution_count": 33,
   "id": "494745e8-8bfb-46ee-aa21-52f790903b69",
   "metadata": {},
   "outputs": [],
   "source": [
    "# https://rszalski.github.io/magicmethods/#representations"
   ]
  },
  {
   "cell_type": "code",
   "execution_count": 35,
   "id": "a8ad0861-5422-4cef-845e-2743fbc90c57",
   "metadata": {},
   "outputs": [],
   "source": [
    "class Point:\n",
    "\n",
    "    def __init__(self,x,y):\n",
    "        self.x=x\n",
    "        self.y=y\n",
    "    def __str__(self):\n",
    "        return f\"Point ({self.x},{self.y})\"\n",
    "    "
   ]
  },
  {
   "cell_type": "code",
   "execution_count": 37,
   "id": "4b5edab0-ffd0-4702-839b-d4a45da52dcd",
   "metadata": {},
   "outputs": [
    {
     "name": "stdout",
     "output_type": "stream",
     "text": [
      "Point (10,20)\n"
     ]
    }
   ],
   "source": [
    "p=Point(10,20)\n",
    "print(p)"
   ]
  },
  {
   "cell_type": "markdown",
   "id": "2f626310-3c8a-461a-a4ab-9789c494965f",
   "metadata": {},
   "source": [
    "#### Setters and Getters"
   ]
  },
  {
   "cell_type": "code",
   "execution_count": 42,
   "id": "9b82a480-3c43-48f2-ad60-72306611da80",
   "metadata": {},
   "outputs": [],
   "source": [
    "class Product:\n",
    "    def __init__(self,name,price):\n",
    "        self.name=name\n",
    "        self.price=price\n",
    "\n",
    "    def __str__(self):\n",
    "        return f\"Product Name: {self.name} || Price : {self.price}\"\n",
    "\n"
   ]
  },
  {
   "cell_type": "code",
   "execution_count": 48,
   "id": "4034d395-4b19-4886-9e00-1cfd2b76c6b5",
   "metadata": {},
   "outputs": [
    {
     "name": "stdout",
     "output_type": "stream",
     "text": [
      "Product Name: Earphones || Price : 20\n",
      "Product Name: Earphones || Price : -20\n"
     ]
    }
   ],
   "source": [
    "p1=Product(\"Earphones\",20)\n",
    "print(p1)\n",
    "p1.price=-20\n",
    "print(p1)"
   ]
  },
  {
   "cell_type": "code",
   "execution_count": 52,
   "id": "ace86a90-9d5b-4d8b-8e46-fe8ad4b0544c",
   "metadata": {},
   "outputs": [],
   "source": [
    "class Product:\n",
    "    def __init__(self,name,price):\n",
    "        self.name=name\n",
    "        self.set_price(price)\n",
    "        \n",
    "    def __str__(self):\n",
    "        return f\"Product Name: {self.name} || Price : {self.price}\"\n",
    "        \n",
    "    def set_price(self,price):\n",
    "        if(price<=0):\n",
    "            raise ValueError(\"Price cannot be zero or less\")\n",
    "        else:\n",
    "            self.price=price\n",
    "    def get_price(self):\n",
    "        return self.price"
   ]
  },
  {
   "cell_type": "code",
   "execution_count": 54,
   "id": "409c7b96-8665-43c5-9a9d-39136bce45bd",
   "metadata": {},
   "outputs": [
    {
     "name": "stdout",
     "output_type": "stream",
     "text": [
      "Product Name: Earphones || Price : 20\n"
     ]
    }
   ],
   "source": [
    "p1=Product(\"Earphones\",20)\n",
    "print(p1)\n"
   ]
  },
  {
   "cell_type": "code",
   "execution_count": 56,
   "id": "9d04cd73-8748-4279-a012-ad8ffdb9d7aa",
   "metadata": {},
   "outputs": [
    {
     "ename": "ValueError",
     "evalue": "Price cannot be zero or less",
     "output_type": "error",
     "traceback": [
      "\u001b[1;31m---------------------------------------------------------------------------\u001b[0m",
      "\u001b[1;31mValueError\u001b[0m                                Traceback (most recent call last)",
      "Cell \u001b[1;32mIn[56], line 1\u001b[0m\n\u001b[1;32m----> 1\u001b[0m p2\u001b[38;5;241m=\u001b[39mProduct(\u001b[38;5;124m\"\u001b[39m\u001b[38;5;124mEarphones\u001b[39m\u001b[38;5;124m\"\u001b[39m,\u001b[38;5;241m-\u001b[39m\u001b[38;5;241m20\u001b[39m)\n\u001b[0;32m      2\u001b[0m \u001b[38;5;28mprint\u001b[39m(p2)\n",
      "Cell \u001b[1;32mIn[52], line 4\u001b[0m, in \u001b[0;36mProduct.__init__\u001b[1;34m(self, name, price)\u001b[0m\n\u001b[0;32m      2\u001b[0m \u001b[38;5;28;01mdef\u001b[39;00m \u001b[38;5;21m__init__\u001b[39m(\u001b[38;5;28mself\u001b[39m,name,price):\n\u001b[0;32m      3\u001b[0m     \u001b[38;5;28mself\u001b[39m\u001b[38;5;241m.\u001b[39mname\u001b[38;5;241m=\u001b[39mname\n\u001b[1;32m----> 4\u001b[0m     \u001b[38;5;28mself\u001b[39m\u001b[38;5;241m.\u001b[39mset_price(price)\n",
      "Cell \u001b[1;32mIn[52], line 11\u001b[0m, in \u001b[0;36mProduct.set_price\u001b[1;34m(self, price)\u001b[0m\n\u001b[0;32m      9\u001b[0m \u001b[38;5;28;01mdef\u001b[39;00m \u001b[38;5;21mset_price\u001b[39m(\u001b[38;5;28mself\u001b[39m,price):\n\u001b[0;32m     10\u001b[0m     \u001b[38;5;28;01mif\u001b[39;00m(price\u001b[38;5;241m<\u001b[39m\u001b[38;5;241m=\u001b[39m\u001b[38;5;241m0\u001b[39m):\n\u001b[1;32m---> 11\u001b[0m         \u001b[38;5;28;01mraise\u001b[39;00m \u001b[38;5;167;01mValueError\u001b[39;00m(\u001b[38;5;124m\"\u001b[39m\u001b[38;5;124mPrice cannot be zero or less\u001b[39m\u001b[38;5;124m\"\u001b[39m)\n\u001b[0;32m     12\u001b[0m     \u001b[38;5;28;01melse\u001b[39;00m:\n\u001b[0;32m     13\u001b[0m         \u001b[38;5;28mself\u001b[39m\u001b[38;5;241m.\u001b[39mprice\u001b[38;5;241m=\u001b[39mprice\n",
      "\u001b[1;31mValueError\u001b[0m: Price cannot be zero or less"
     ]
    }
   ],
   "source": [
    "p2=Product(\"Earphones\",-20)\n",
    "print(p2)"
   ]
  },
  {
   "cell_type": "code",
   "execution_count": 58,
   "id": "77ac02e1-40cc-4e6f-ba18-e7d8ab94646e",
   "metadata": {},
   "outputs": [
    {
     "name": "stdout",
     "output_type": "stream",
     "text": [
      "Product Name: Mouse || Price : 10\n"
     ]
    }
   ],
   "source": [
    "p3=Product(\"Mouse\",10)\n",
    "print(p3)"
   ]
  },
  {
   "cell_type": "code",
   "execution_count": 60,
   "id": "eec317dd-a135-400d-ba19-b74927c3e0aa",
   "metadata": {},
   "outputs": [
    {
     "name": "stdout",
     "output_type": "stream",
     "text": [
      "Product Name: Mouse || Price : -10\n"
     ]
    }
   ],
   "source": [
    "p3.price=-10\n",
    "print(p3)"
   ]
  },
  {
   "cell_type": "markdown",
   "id": "15026207-9fc5-4337-bc5d-445c5477b6a2",
   "metadata": {},
   "source": [
    "#### Make price of nature private [No one should access it from outside the class]"
   ]
  },
  {
   "cell_type": "code",
   "execution_count": 67,
   "id": "f1aa2841-0a8b-48f1-9925-16f9778b92c1",
   "metadata": {},
   "outputs": [],
   "source": [
    "class Product:\n",
    "    def __init__(self,name,price):\n",
    "        self.name=name\n",
    "        self.set_price(price)\n",
    "        \n",
    "    def __str__(self):\n",
    "        return f\"Product Name: {self.name} || Price : {self.__price}\"\n",
    "        \n",
    "    def set_price(self,price):\n",
    "        if(price<=0):\n",
    "            raise ValueError(\"Price cannot be zero or less\")\n",
    "        else:\n",
    "            self.__price=price\n",
    "    def get_price(self):\n",
    "        return self.__price"
   ]
  },
  {
   "cell_type": "code",
   "execution_count": 69,
   "id": "809c322d-7289-4bd7-b8ac-019dc80f457d",
   "metadata": {},
   "outputs": [
    {
     "name": "stdout",
     "output_type": "stream",
     "text": [
      "Product Name: Mouse || Price : 10\n",
      "Product Name: Mouse || Price : 10\n"
     ]
    }
   ],
   "source": [
    "p3=Product(\"Mouse\",10)\n",
    "print(p3)\n",
    "p3.price=-10\n",
    "print(p3)"
   ]
  },
  {
   "cell_type": "markdown",
   "id": "0df27e2a-ecdd-4abb-87f8-b4ee0e8b8319",
   "metadata": {},
   "source": [
    "#### Inheritance\n"
   ]
  },
  {
   "cell_type": "code",
   "execution_count": 82,
   "id": "10dab7f7-bbcd-4dd8-9fd3-0a2ab656e0a1",
   "metadata": {},
   "outputs": [],
   "source": [
    "class Animal:\n",
    "    def eat(self):\n",
    "        print(\"Eat -- Animal\")\n",
    "        "
   ]
  },
  {
   "cell_type": "code",
   "execution_count": 76,
   "id": "c15d5df5-18ab-41d4-9f38-317e0a2ee12b",
   "metadata": {},
   "outputs": [],
   "source": [
    "# Animal -- Base,Parent,Super \n",
    "\n",
    "# Mammal, Fish -- Derived,Child,Sub Class\n",
    "\n",
    "#  class Child(Parent):\n"
   ]
  },
  {
   "cell_type": "code",
   "execution_count": 84,
   "id": "2d238c4d-8d35-414a-8e2f-6c4b538e0075",
   "metadata": {},
   "outputs": [],
   "source": [
    "class Mammal(Animal):\n",
    "    def walk(self):\n",
    "        print(\"Walk -- Mammal\")"
   ]
  },
  {
   "cell_type": "code",
   "execution_count": 86,
   "id": "9bb8df51-96ac-4deb-b491-bf3c1e057557",
   "metadata": {},
   "outputs": [
    {
     "name": "stdout",
     "output_type": "stream",
     "text": [
      "Eat -- Animal\n",
      "Walk -- Mammal\n"
     ]
    }
   ],
   "source": [
    "m=Mammal()\n",
    "m.eat()\n",
    "m.walk()"
   ]
  },
  {
   "cell_type": "code",
   "execution_count": 88,
   "id": "6af6867a-a4ab-414d-9f6a-c3ff07271306",
   "metadata": {},
   "outputs": [],
   "source": [
    "class Fish(Animal):\n",
    "    def swim(self):\n",
    "        print(\"Swim -- Fish\")"
   ]
  },
  {
   "cell_type": "code",
   "execution_count": 90,
   "id": "ac169ea3-3dac-44c5-9de4-5e6e0fad98d3",
   "metadata": {},
   "outputs": [
    {
     "name": "stdout",
     "output_type": "stream",
     "text": [
      "Eat -- Animal\n",
      "Swim -- Fish\n"
     ]
    }
   ],
   "source": [
    "f=Fish()\n",
    "f.eat()\n",
    "f.swim()"
   ]
  },
  {
   "cell_type": "markdown",
   "id": "8e7b0574-58d6-4088-9d7e-6839dac42dbd",
   "metadata": {},
   "source": [
    "#### Making a Blank Class or an function  -- pass"
   ]
  },
  {
   "cell_type": "code",
   "execution_count": 97,
   "id": "a8c04267-f0d1-4f8d-b369-4c83ace55fb7",
   "metadata": {},
   "outputs": [],
   "source": [
    "class Test:\n",
    "    pass"
   ]
  },
  {
   "cell_type": "markdown",
   "id": "013ff9a4-a1fa-466b-aeff-0900d05bfb96",
   "metadata": {},
   "source": [
    "#### Making our Own Exceptions"
   ]
  },
  {
   "cell_type": "code",
   "execution_count": 102,
   "id": "b537614d-39ec-4611-b66c-5af6f372ae85",
   "metadata": {},
   "outputs": [],
   "source": [
    "# You will take an input of salary\n",
    "# If salary is between 5000 and 50000 , it is fine\n",
    "# else throw SalaryNotInRangeError"
   ]
  },
  {
   "cell_type": "code",
   "execution_count": 114,
   "id": "50f6ff59-16f3-4e8d-ac2a-979c29951638",
   "metadata": {},
   "outputs": [],
   "source": [
    "class SalaryNotInRangeError(BaseException):\n",
    "    \"\"\"\n",
    "    This is a documentation string\n",
    "    Exceptions ar raised for error in salary range\n",
    "    \"\"\"\n",
    "    def __init__(self,salary,message=\"Salary is not in range of 5000 and 50000\"):\n",
    "        self.salary=salary\n",
    "        self.message=message\n",
    "        super().__init__(self.message)"
   ]
  },
  {
   "cell_type": "code",
   "execution_count": 116,
   "id": "530a5d83-c041-4537-a2b5-710a3cf8a3fe",
   "metadata": {},
   "outputs": [
    {
     "name": "stdin",
     "output_type": "stream",
     "text": [
      "Enter your salary: 2000\n"
     ]
    },
    {
     "ename": "SalaryNotInRangeError",
     "evalue": "Salary is not in range of 5000 and 50000",
     "output_type": "error",
     "traceback": [
      "\u001b[1;31m---------------------------------------------------------------------------\u001b[0m",
      "\u001b[1;31mSalaryNotInRangeError\u001b[0m                     Traceback (most recent call last)",
      "Cell \u001b[1;32mIn[116], line 6\u001b[0m\n\u001b[0;32m      4\u001b[0m     \u001b[38;5;28mprint\u001b[39m(\u001b[38;5;124mf\u001b[39m\u001b[38;5;124m\"\u001b[39m\u001b[38;5;124mSalary is \u001b[39m\u001b[38;5;132;01m{\u001b[39;00msalary\u001b[38;5;132;01m}\u001b[39;00m\u001b[38;5;124m\"\u001b[39m)\n\u001b[0;32m      5\u001b[0m \u001b[38;5;28;01melse\u001b[39;00m:\n\u001b[1;32m----> 6\u001b[0m     \u001b[38;5;28;01mraise\u001b[39;00m SalaryNotInRangeError(salary)\n",
      "\u001b[1;31mSalaryNotInRangeError\u001b[0m: Salary is not in range of 5000 and 50000"
     ]
    }
   ],
   "source": [
    "salary=int(input(\"Enter your salary:\"))\n",
    "\n",
    "if 5000 <= salary <= 50000:\n",
    "    print(f\"Salary is {salary}\")\n",
    "else:\n",
    "    raise SalaryNotInRangeError(salary)"
   ]
  },
  {
   "cell_type": "markdown",
   "id": "5757406b-0835-4357-b881-df9c2739c214",
   "metadata": {},
   "source": [
    "#### Abstract Base Class"
   ]
  },
  {
   "cell_type": "code",
   "execution_count": 121,
   "id": "ea43d279-fa59-48b5-8e26-92b23067ef41",
   "metadata": {},
   "outputs": [],
   "source": [
    "from abc import ABC,abstractmethod\n",
    "\n",
    "class Car(ABC):\n",
    "    @abstractmethod\n",
    "    def start(self):\n",
    "        pass\n",
    "    \n",
    "    @abstractmethod\n",
    "    def stop(self):\n",
    "        pass"
   ]
  },
  {
   "cell_type": "code",
   "execution_count": 127,
   "id": "25b1f5a9-fdae-40f3-a66d-95c6714673d5",
   "metadata": {},
   "outputs": [],
   "source": [
    "class HondaCity(Car):\n",
    "    def start(self):\n",
    "        print(\"Start of Honda City\")\n",
    "    def stop(self):\n",
    "        print(\"Stop of Honda City\")"
   ]
  },
  {
   "cell_type": "code",
   "execution_count": 131,
   "id": "eee5dcf9-097b-4617-af08-f82a75ef978d",
   "metadata": {},
   "outputs": [
    {
     "name": "stdout",
     "output_type": "stream",
     "text": [
      "Start of Honda City\n",
      "Stop of Honda City\n"
     ]
    }
   ],
   "source": [
    "h=HondaCity()\n",
    "h.start()\n",
    "h.stop()"
   ]
  },
  {
   "cell_type": "code",
   "execution_count": null,
   "id": "399dc677-f4c7-4cea-a45d-d9c8c9d5d57a",
   "metadata": {},
   "outputs": [],
   "source": []
  }
 ],
 "metadata": {
  "kernelspec": {
   "display_name": "Python 3 (ipykernel)",
   "language": "python",
   "name": "python3"
  },
  "language_info": {
   "codemirror_mode": {
    "name": "ipython",
    "version": 3
   },
   "file_extension": ".py",
   "mimetype": "text/x-python",
   "name": "python",
   "nbconvert_exporter": "python",
   "pygments_lexer": "ipython3",
   "version": "3.12.4"
  }
 },
 "nbformat": 4,
 "nbformat_minor": 5
}
