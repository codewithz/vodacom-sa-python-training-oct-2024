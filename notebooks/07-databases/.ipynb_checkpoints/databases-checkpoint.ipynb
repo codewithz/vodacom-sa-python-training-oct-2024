{
 "cells": [
  {
   "cell_type": "code",
   "execution_count": 1,
   "id": "f1e3de26-2c0d-4872-aac2-fbc30147ae26",
   "metadata": {},
   "outputs": [
    {
     "name": "stdout",
     "output_type": "stream",
     "text": [
      "Connected to Database\n"
     ]
    }
   ],
   "source": [
    "import sqlite3\n",
    "\n",
    "connection=sqlite3.connect(\"vodacom_demo.db\")\n",
    "\n",
    "print(\"Connected to Database\")"
   ]
  },
  {
   "cell_type": "code",
   "execution_count": 5,
   "id": "af4f6021-60e6-4e2f-99eb-2d2bf4965702",
   "metadata": {},
   "outputs": [
    {
     "name": "stdout",
     "output_type": "stream",
     "text": [
      "Table Created Successfully\n"
     ]
    }
   ],
   "source": [
    "cursor=connection.cursor()\n",
    "\n",
    "# students \n",
    "\n",
    "query='''\n",
    "CREATE TABLE IF NOT EXISTS students(\n",
    "    id INTEGER PRIMARY KEY AUTOINCREMENT,\n",
    "    name TEXT NOT NULL,\n",
    "    age INTEGER,\n",
    "    grade TEXT\n",
    ")\n",
    "'''\n",
    "\n",
    "cursor.execute(query)\n",
    "print(\"Table Created Successfully\")"
   ]
  },
  {
   "cell_type": "markdown",
   "id": "3ee4f2e9-f58d-4ccb-b409-c1f08bdced7c",
   "metadata": {},
   "source": [
    "#### Insert into the Table"
   ]
  },
  {
   "cell_type": "code",
   "execution_count": 9,
   "id": "0c9ca172-3fe5-4831-ae36-2296d5243793",
   "metadata": {},
   "outputs": [],
   "source": [
    "query=\"INSERT INTO students (name,age,grade) values ('Tom',25,'A')\"\n",
    "cursor.execute(query)\n",
    "connection.commit()"
   ]
  },
  {
   "cell_type": "code",
   "execution_count": 11,
   "id": "9bc4057f-7166-4ee8-b713-f85173832638",
   "metadata": {},
   "outputs": [],
   "source": [
    "query=\"INSERT INTO students (name,age,grade) values ('Elizabeth',24,'B')\"\n",
    "cursor.execute(query)\n",
    "connection.commit()"
   ]
  },
  {
   "cell_type": "code",
   "execution_count": 13,
   "id": "31d84651-1a93-4499-b7bf-f9a171afb0b7",
   "metadata": {},
   "outputs": [],
   "source": [
    "query=\"INSERT INTO students (name,age,grade) values ('Mike',26,'C')\"\n",
    "cursor.execute(query)\n",
    "connection.commit()"
   ]
  },
  {
   "cell_type": "markdown",
   "id": "8c45d29f-747c-43d2-ac76-deb71be415ee",
   "metadata": {},
   "source": [
    "#### Query the data from database"
   ]
  },
  {
   "cell_type": "code",
   "execution_count": 68,
   "id": "f8523d4a-a9bb-45af-98a4-6dbf111f62fc",
   "metadata": {},
   "outputs": [
    {
     "name": "stdout",
     "output_type": "stream",
     "text": [
      "<class 'list'>\n",
      "<class 'tuple'>\n",
      "(1, 'Tom', 25, 'A')\n",
      "<class 'tuple'>\n",
      "(3, 'Elizabeth', 24, 'A+')\n",
      "<class 'tuple'>\n",
      "(4, 'Mike', 26, 'C')\n"
     ]
    }
   ],
   "source": [
    "query=\"Select * from students\"\n",
    "cursor.execute(query)\n",
    "rows=cursor.fetchall()\n",
    "\n",
    "print(type(rows))\n",
    "\n",
    "for row in rows:\n",
    "    print(type(row))\n",
    "    print(row)"
   ]
  },
  {
   "cell_type": "markdown",
   "id": "6a773d94-cb8d-451a-92db-7621991b8227",
   "metadata": {},
   "source": [
    "#### Update and Delete the records from Database"
   ]
  },
  {
   "cell_type": "markdown",
   "id": "c38fa697-b09c-4261-95ef-08c1a1027c62",
   "metadata": {},
   "source": [
    "#### Update"
   ]
  },
  {
   "cell_type": "code",
   "execution_count": 27,
   "id": "d3902b14-aa71-46a1-8a8a-becb9db5574d",
   "metadata": {},
   "outputs": [],
   "source": [
    "query=\"Update students set grade='A+' WHERE name='Elizabeth'\"\n",
    "cursor.execute(query)\n",
    "connection.commit()"
   ]
  },
  {
   "cell_type": "markdown",
   "id": "bba7807f-feed-46c3-8033-9fa446db55b2",
   "metadata": {},
   "source": [
    "#### Delete"
   ]
  },
  {
   "cell_type": "code",
   "execution_count": 32,
   "id": "e6b9dbb1-d94f-4b5b-b322-a0def47b4e23",
   "metadata": {},
   "outputs": [],
   "source": [
    "query =\"Delete from students where id=2\"\n",
    "cursor.execute(query)\n",
    "connection.commit()"
   ]
  },
  {
   "cell_type": "markdown",
   "id": "4d265fdd-e52d-4454-a3c3-dba3fb6c24c4",
   "metadata": {},
   "source": [
    "## INSTALLING SQLALCHEMY"
   ]
  },
  {
   "cell_type": "code",
   "execution_count": 39,
   "id": "6015eee8-353c-43ac-b7c2-09f37606d1f7",
   "metadata": {},
   "outputs": [
    {
     "name": "stdout",
     "output_type": "stream",
     "text": [
      "Requirement already satisfied: sqlalchemy in c:\\users\\victus\\anaconda36\\lib\\site-packages (2.0.30)\n",
      "Requirement already satisfied: typing-extensions>=4.6.0 in c:\\users\\victus\\anaconda36\\lib\\site-packages (from sqlalchemy) (4.11.0)\n",
      "Requirement already satisfied: greenlet!=0.4.17 in c:\\users\\victus\\anaconda36\\lib\\site-packages (from sqlalchemy) (3.0.1)\n"
     ]
    }
   ],
   "source": [
    "!pip install sqlalchemy"
   ]
  },
  {
   "cell_type": "code",
   "execution_count": 43,
   "id": "a7f6431c-3b3f-42e9-82aa-b56858646a6c",
   "metadata": {},
   "outputs": [
    {
     "name": "stdout",
     "output_type": "stream",
     "text": [
      "Engine generated successfully\n"
     ]
    }
   ],
   "source": [
    "from sqlalchemy import create_engine\n",
    "\n",
    "database_url=\"sqlite:///vodacom_test.db\"\n",
    "engine=create_engine(database_url,echo=True)\n",
    "\n",
    "print(\"Engine generated successfully\")"
   ]
  },
  {
   "cell_type": "markdown",
   "id": "f8eb6d17-0e99-493a-9004-4a00648c2fc2",
   "metadata": {},
   "source": [
    "### Define the Table using ORM[Object Relational Mapping]"
   ]
  },
  {
   "cell_type": "code",
   "execution_count": 46,
   "id": "4c075bea-d4c3-44bc-8bba-38121f0b5b79",
   "metadata": {},
   "outputs": [],
   "source": [
    "from sqlalchemy.orm import declarative_base\n",
    "from sqlalchemy import Column,Integer,String\n",
    "\n",
    "Base=declarative_base()\n",
    "\n",
    "class Customer(Base):\n",
    "    __tablename__=\"customers\"\n",
    "\n",
    "    id=Column(Integer,primary_key=True,autoincrement=True)\n",
    "    name=Column(String(100),nullable=False)\n",
    "    email=Column(String(100),nullable=False,unique=True)\n",
    "    age=Column(Integer,nullable=True)\n",
    "\n",
    "    def __repr__(self):\n",
    "        return f\"Customer [Id: {self.id} | Name:{self.name} | Email : {self.email} | Age: {self.age}]\""
   ]
  },
  {
   "cell_type": "markdown",
   "id": "4b93b3e8-8793-4c4a-a854-1ae4be77f022",
   "metadata": {},
   "source": [
    "#### CREATE THE DATABASE TABLE \n"
   ]
  },
  {
   "cell_type": "code",
   "execution_count": 49,
   "id": "9d695278-e670-477d-b0c5-9d72f3727595",
   "metadata": {},
   "outputs": [
    {
     "name": "stdout",
     "output_type": "stream",
     "text": [
      "2024-10-17 19:01:47,742 INFO sqlalchemy.engine.Engine BEGIN (implicit)\n",
      "2024-10-17 19:01:47,743 INFO sqlalchemy.engine.Engine PRAGMA main.table_info(\"customers\")\n",
      "2024-10-17 19:01:47,743 INFO sqlalchemy.engine.Engine [raw sql] ()\n",
      "2024-10-17 19:01:47,744 INFO sqlalchemy.engine.Engine PRAGMA temp.table_info(\"customers\")\n",
      "2024-10-17 19:01:47,745 INFO sqlalchemy.engine.Engine [raw sql] ()\n",
      "2024-10-17 19:01:47,746 INFO sqlalchemy.engine.Engine \n",
      "CREATE TABLE customers (\n",
      "\tid INTEGER NOT NULL, \n",
      "\tname VARCHAR(100) NOT NULL, \n",
      "\temail VARCHAR(100) NOT NULL, \n",
      "\tage INTEGER, \n",
      "\tPRIMARY KEY (id), \n",
      "\tUNIQUE (email)\n",
      ")\n",
      "\n",
      "\n",
      "2024-10-17 19:01:47,747 INFO sqlalchemy.engine.Engine [no key 0.00075s] ()\n",
      "2024-10-17 19:01:47,769 INFO sqlalchemy.engine.Engine COMMIT\n",
      "Tables created\n"
     ]
    }
   ],
   "source": [
    "Base.metadata.create_all(engine)\n",
    "print(\"Tables created\")"
   ]
  },
  {
   "cell_type": "markdown",
   "id": "cd69579a-e9db-4150-b36f-23ae9207d3b4",
   "metadata": {},
   "source": [
    "#### Insert record into table"
   ]
  },
  {
   "cell_type": "code",
   "execution_count": 52,
   "id": "0c238029-00a3-430b-af1a-b0bf01786b2e",
   "metadata": {},
   "outputs": [
    {
     "name": "stdout",
     "output_type": "stream",
     "text": [
      "2024-10-17 19:12:01,498 INFO sqlalchemy.engine.Engine BEGIN (implicit)\n",
      "2024-10-17 19:12:01,500 INFO sqlalchemy.engine.Engine INSERT INTO customers (name, email, age) VALUES (?, ?, ?) RETURNING id\n",
      "2024-10-17 19:12:01,501 INFO sqlalchemy.engine.Engine [generated in 0.00015s (insertmanyvalues) 1/2 (ordered; batch not supported)] ('TOm Smith', 'tom.smith@gmail.com', 40)\n",
      "2024-10-17 19:12:01,503 INFO sqlalchemy.engine.Engine INSERT INTO customers (name, email, age) VALUES (?, ?, ?) RETURNING id\n",
      "2024-10-17 19:12:01,503 INFO sqlalchemy.engine.Engine [insertmanyvalues 2/2 (ordered; batch not supported)] ('Penny Colin', 'penny.colin@gmail.com', 34)\n",
      "2024-10-17 19:12:01,505 INFO sqlalchemy.engine.Engine COMMIT\n"
     ]
    }
   ],
   "source": [
    "from sqlalchemy.orm import sessionmaker\n",
    "\n",
    "Session = sessionmaker(bind=engine)\n",
    "session=Session()\n",
    "\n",
    "customer1=Customer(name=\"Tom Smith\",age=40,email=\"tom.smith@gmail.com\")\n",
    "customer2=Customer(name=\"Penny Colin\",age=34,email=\"penny.colin@gmail.com\")\n",
    "\n",
    "session.add(customer1)\n",
    "session.add(customer2)\n",
    "\n",
    "session.commit()"
   ]
  },
  {
   "cell_type": "markdown",
   "id": "f44f8cc2-981c-467d-84d0-6d30cbc432e2",
   "metadata": {},
   "source": [
    "#### Query the data in db"
   ]
  },
  {
   "cell_type": "code",
   "execution_count": 66,
   "id": "86218f10-0694-455f-b9de-fdc04d4a7503",
   "metadata": {},
   "outputs": [
    {
     "name": "stdout",
     "output_type": "stream",
     "text": [
      "2024-10-17 19:26:34,540 INFO sqlalchemy.engine.Engine SELECT customers.id AS customers_id, customers.name AS customers_name, customers.email AS customers_email, customers.age AS customers_age \n",
      "FROM customers\n",
      "2024-10-17 19:26:34,540 INFO sqlalchemy.engine.Engine [cached since 518.9s ago] ()\n",
      "<class 'list'>\n",
      "<class '__main__.Customer'>\n",
      "Customer [Id: 1 | Name:Thomas Smith | Email : tom.smith@gmail.com | Age: 39]\n",
      "<class '__main__.Customer'>\n",
      "Customer [Id: 2 | Name:Penny Colin | Email : penny.colin@gmail.com | Age: 34]\n"
     ]
    }
   ],
   "source": [
    "customers=session.query(Customer).all()\n",
    "print(type(customers))\n",
    "for customer in customers:\n",
    "    print(type(customer))\n",
    "    print(customer)"
   ]
  },
  {
   "cell_type": "code",
   "execution_count": 59,
   "id": "a96537a7-b0b1-4acf-aa49-91ef35655060",
   "metadata": {},
   "outputs": [
    {
     "name": "stdout",
     "output_type": "stream",
     "text": [
      "2024-10-17 19:23:07,148 INFO sqlalchemy.engine.Engine SELECT customers.id AS customers_id, customers.name AS customers_name, customers.email AS customers_email, customers.age AS customers_age \n",
      "FROM customers \n",
      "WHERE customers.id = ?\n",
      " LIMIT ? OFFSET ?\n",
      "2024-10-17 19:23:07,149 INFO sqlalchemy.engine.Engine [generated in 0.00084s] (1, 1, 0)\n",
      "Customer [Id: 1 | Name:TOm Smith | Email : tom.smith@gmail.com | Age: 40]\n"
     ]
    }
   ],
   "source": [
    "tom=session.query(Customer).filter_by(id=1).first()\n",
    "print(tom)"
   ]
  },
  {
   "cell_type": "markdown",
   "id": "d9d32853-e1c7-4b00-a0d0-b120e1046ad9",
   "metadata": {},
   "source": [
    "#### Update record in Alchemy"
   ]
  },
  {
   "cell_type": "code",
   "execution_count": 70,
   "id": "fa0895b4-ea10-4d9f-a2fc-a33441d0df3f",
   "metadata": {},
   "outputs": [
    {
     "name": "stdout",
     "output_type": "stream",
     "text": [
      "2024-10-17 19:27:39,186 INFO sqlalchemy.engine.Engine SELECT customers.id AS customers_id, customers.name AS customers_name, customers.email AS customers_email, customers.age AS customers_age \n",
      "FROM customers \n",
      "WHERE customers.id = ?\n",
      " LIMIT ? OFFSET ?\n",
      "2024-10-17 19:27:39,187 INFO sqlalchemy.engine.Engine [cached since 272s ago] (1, 1, 0)\n",
      "Customer [Id: 1 | Name:Thomas Smith | Email : tom.smith@gmail.com | Age: 39]\n",
      "2024-10-17 19:27:39,188 INFO sqlalchemy.engine.Engine COMMIT\n"
     ]
    }
   ],
   "source": [
    "tom=session.query(Customer).filter_by(id=1).first()\n",
    "print(tom)\n",
    "\n",
    "tom.name=\"Thomas Smith\"\n",
    "tom.age=39\n",
    "\n",
    "session.commit()"
   ]
  },
  {
   "cell_type": "markdown",
   "id": "54af96cc-ddc0-479a-8492-01e46c466f66",
   "metadata": {},
   "source": [
    "#### Delete the record"
   ]
  },
  {
   "cell_type": "code",
   "execution_count": 73,
   "id": "33243d1d-e9c3-430d-b0f3-656a0b80f2b2",
   "metadata": {},
   "outputs": [
    {
     "name": "stdout",
     "output_type": "stream",
     "text": [
      "2024-10-17 19:31:19,700 INFO sqlalchemy.engine.Engine BEGIN (implicit)\n",
      "2024-10-17 19:31:19,701 INFO sqlalchemy.engine.Engine SELECT customers.id AS customers_id, customers.name AS customers_name, customers.email AS customers_email, customers.age AS customers_age \n",
      "FROM customers \n",
      "WHERE customers.id = ?\n",
      " LIMIT ? OFFSET ?\n",
      "2024-10-17 19:31:19,701 INFO sqlalchemy.engine.Engine [cached since 492.6s ago] (2, 1, 0)\n",
      "Customer [Id: 2 | Name:Penny Colin | Email : penny.colin@gmail.com | Age: 34]\n",
      "2024-10-17 19:31:19,703 INFO sqlalchemy.engine.Engine DELETE FROM customers WHERE customers.id = ?\n",
      "2024-10-17 19:31:19,704 INFO sqlalchemy.engine.Engine [generated in 0.00050s] (2,)\n",
      "2024-10-17 19:31:19,705 INFO sqlalchemy.engine.Engine COMMIT\n",
      "Record Deleted\n"
     ]
    }
   ],
   "source": [
    "\n",
    "\n",
    "penny=session.query(Customer).filter_by(id=2).first()\n",
    "print(penny)\n",
    "\n",
    "session.delete(penny)\n",
    "session.commit()\n",
    "\n",
    "print(\"Record Deleted\")"
   ]
  },
  {
   "cell_type": "markdown",
   "id": "3e1488a0-69e1-4bed-acd6-393e31ae6dfc",
   "metadata": {},
   "source": [
    "#### Step 1: Importing data from csv into a table \n",
    "##### Creating Mapping between python class and database\n"
   ]
  },
  {
   "cell_type": "code",
   "execution_count": 2,
   "id": "59332916-d2e0-45fe-a49d-f7a49bb73f11",
   "metadata": {},
   "outputs": [
    {
     "name": "stdout",
     "output_type": "stream",
     "text": [
      "Engine generated successfully\n"
     ]
    }
   ],
   "source": [
    "from sqlalchemy.orm import declarative_base\n",
    "from sqlalchemy import Column,Integer,String\n",
    "\n",
    "from sqlalchemy import create_engine\n",
    "\n",
    "database_url=\"sqlite:///vodacom_csv.db\"\n",
    "engine=create_engine(database_url,echo=True)\n",
    "\n",
    "print(\"Engine generated successfully\")\n",
    "\n",
    "Base=declarative_base()\n",
    "\n",
    "class Customer(Base):\n",
    "    __tablename__=\"customers\"\n",
    "\n",
    "    id=Column(Integer,primary_key=True,autoincrement=True)\n",
    "    name=Column(String(100),nullable=False)\n",
    "    email=Column(String(100),nullable=False,unique=True)\n",
    "    age=Column(Integer,nullable=True)\n",
    "    city=Column(String(50),nullable=True)\n",
    "\n",
    "    def __repr__(self):\n",
    "        return f\"Customer [Id: {self.id} | Name:{self.name} | Email : {self.email} | Age: {self.age} | City: {self.city}]\""
   ]
  },
  {
   "cell_type": "code",
   "execution_count": 4,
   "id": "d9f00693-c059-4f25-9520-b0c42ac93896",
   "metadata": {},
   "outputs": [
    {
     "name": "stdout",
     "output_type": "stream",
     "text": [
      "2024-10-18 13:23:57,188 INFO sqlalchemy.engine.Engine BEGIN (implicit)\n",
      "2024-10-18 13:23:57,189 INFO sqlalchemy.engine.Engine PRAGMA main.table_info(\"customers\")\n",
      "2024-10-18 13:23:57,190 INFO sqlalchemy.engine.Engine [raw sql] ()\n",
      "2024-10-18 13:23:57,191 INFO sqlalchemy.engine.Engine PRAGMA temp.table_info(\"customers\")\n",
      "2024-10-18 13:23:57,192 INFO sqlalchemy.engine.Engine [raw sql] ()\n",
      "2024-10-18 13:23:57,192 INFO sqlalchemy.engine.Engine \n",
      "CREATE TABLE customers (\n",
      "\tid INTEGER NOT NULL, \n",
      "\tname VARCHAR(100) NOT NULL, \n",
      "\temail VARCHAR(100) NOT NULL, \n",
      "\tage INTEGER, \n",
      "\tcity VARCHAR(50), \n",
      "\tPRIMARY KEY (id), \n",
      "\tUNIQUE (email)\n",
      ")\n",
      "\n",
      "\n",
      "2024-10-18 13:23:57,193 INFO sqlalchemy.engine.Engine [no key 0.00055s] ()\n",
      "2024-10-18 13:23:57,216 INFO sqlalchemy.engine.Engine COMMIT\n",
      "Tables created\n"
     ]
    }
   ],
   "source": [
    "Base.metadata.create_all(engine)\n",
    "print(\"Tables created\")"
   ]
  },
  {
   "cell_type": "markdown",
   "id": "e6e6df9e-457f-41cc-abf3-03e8c7fa8ba0",
   "metadata": {},
   "source": [
    "#### Step 2: Loading Data frmom CSV \n",
    "#### read_csv -- read raw data from csv\n",
    "\n",
    "\n",
    "#### convert_row_to_customer -- each raw record we got from csv we convert to a sinle customer object [1 #### generate_customer_list --- we call read_csv, pass the read csv data to convert_row_to_customer and #### then generate the returned customer to a customer list\n",
    "\n",
    "\n"
   ]
  },
  {
   "cell_type": "code",
   "execution_count": 32,
   "id": "a7c568e8-d217-4dcf-9dec-a5f36ba1e844",
   "metadata": {},
   "outputs": [],
   "source": [
    "import csv\n",
    "def read_csv(path):\n",
    "    with open(path,\"r\") as csvfile:\n",
    "        reader=csv.reader(csvfile)\n",
    "        data=list(reader)\n",
    "        return data;\n",
    "\n",
    "\n",
    "\n",
    "def convert_row_to_customer(row):\n",
    "    id,name,email,age,city=row\n",
    "    customer=Customer(id=id,name=name,age=age,email=email,city=city)\n",
    "    return customer\n",
    "\n",
    "def generate_customer_list():\n",
    "    customers=[]\n",
    "    reader=read_csv(\"customers_data.csv\")\n",
    "    for row in reader:\n",
    "        if \"ID\" in row:\n",
    "            pass\n",
    "        else:\n",
    "            customer=convert_row_to_customer(row)\n",
    "            print(customer,type(customer))\n",
    "            customers.append(customer)\n",
    "    print(\"Customersss\",type(customers))\n",
    "    return customers\n",
    "\n",
    "\n",
    "# generate_customer_list()\n",
    "\n",
    "\n",
    "\n"
   ]
  },
  {
   "cell_type": "markdown",
   "id": "6e9ef5a2-d9eb-4586-8ec1-14721e8a585b",
   "metadata": {},
   "source": [
    "#### Insert it into database"
   ]
  },
  {
   "cell_type": "code",
   "execution_count": 34,
   "id": "44765dd8-ab61-4193-a0ea-5115d1b6820c",
   "metadata": {},
   "outputs": [
    {
     "name": "stdout",
     "output_type": "stream",
     "text": [
      "Customer [Id: 1 | Name:Danielle Weaver | Email : wadelindsay@yahoo.com | Age: 33 | City: Watkinsview] <class '__main__.Customer'>\n",
      "Customer [Id: 2 | Name:Brandon Moore | Email : brownmarie@gmail.com | Age: 43 | City: New Patrick] <class '__main__.Customer'>\n",
      "Customer [Id: 3 | Name:Gregory Brown | Email : greenlaura@gordon-lopez.com | Age: 48 | City: West Diane] <class '__main__.Customer'>\n",
      "Customer [Id: 4 | Name:William Huang | Email : doughertynicole@yahoo.com | Age: 66 | City: Port Jimmyville] <class '__main__.Customer'>\n",
      "Customer [Id: 5 | Name:Tom Hardin | Email : ilee@ball-welch.com | Age: 42 | City: Lauraport] <class '__main__.Customer'>\n",
      "Customer [Id: 6 | Name:Ashley Hicks | Email : jaime83@brown.org | Age: 77 | City: Williamsstad] <class '__main__.Customer'>\n",
      "Customer [Id: 7 | Name:Jacob Galvan | Email : emily62@herrera.com | Age: 47 | City: Dannymouth] <class '__main__.Customer'>\n",
      "Customer [Id: 8 | Name:Christine Gibson | Email : kimberly70@yahoo.com | Age: 75 | City: Port Miguelhaven] <class '__main__.Customer'>\n",
      "Customer [Id: 9 | Name:Melanie Johnson | Email : kellydawn@wright.com | Age: 61 | City: Murphyhaven] <class '__main__.Customer'>\n",
      "Customer [Id: 10 | Name:Terry Barnett | Email : willisjames@hotmail.com | Age: 54 | City: Lake Brendastad] <class '__main__.Customer'>\n",
      "Customer [Id: 11 | Name:Jessica Rodriguez | Email : kaylahughes@gmail.com | Age: 65 | City: Cookburgh] <class '__main__.Customer'>\n",
      "Customer [Id: 12 | Name:Charles Lucas | Email : jose38@parker-bell.org | Age: 70 | City: Lake Derektown] <class '__main__.Customer'>\n",
      "Customer [Id: 13 | Name:Kelly Love | Email : hudsoncory@ward.com | Age: 45 | City: Port Travisport] <class '__main__.Customer'>\n",
      "Customer [Id: 14 | Name:Ariel White | Email : mryan@bishop.net | Age: 75 | City: West Kyleburgh] <class '__main__.Customer'>\n",
      "Customer [Id: 15 | Name:Charles Chan | Email : tashasmith@hotmail.com | Age: 34 | City: Kevinshire] <class '__main__.Customer'>\n",
      "Customer [Id: 16 | Name:Katherine Moore | Email : jessica58@hotmail.com | Age: 22 | City: Evansshire] <class '__main__.Customer'>\n",
      "Customer [Id: 17 | Name:Michael Collins | Email : jennifer15@hotmail.com | Age: 49 | City: Christopherton] <class '__main__.Customer'>\n",
      "Customer [Id: 18 | Name:Tracy Spencer | Email : autumnmedina@yahoo.com | Age: 38 | City: West Sandraside] <class '__main__.Customer'>\n",
      "Customer [Id: 19 | Name:Roger Guerrero | Email : brucetaylor@richard-marshall.com | Age: 27 | City: Daniellechester] <class '__main__.Customer'>\n",
      "Customer [Id: 20 | Name:Stephanie Hughes | Email : levineethan@hodge.com | Age: 41 | City: Brownland] <class '__main__.Customer'>\n",
      "Customer [Id: 21 | Name:Benjamin Hughes | Email : beth99@hotmail.com | Age: 21 | City: Carlmouth] <class '__main__.Customer'>\n",
      "Customer [Id: 22 | Name:Gilbert Mckinney | Email : ritajenkins@yahoo.com | Age: 45 | City: Lopezport] <class '__main__.Customer'>\n",
      "Customer [Id: 23 | Name:Dr. Thomas Walsh | Email : jamesmcdonald@arroyo.com | Age: 58 | City: Aprilborough] <class '__main__.Customer'>\n",
      "Customer [Id: 24 | Name:Brandon Roberts | Email : maryaguirre@mcconnell.com | Age: 24 | City: Port Virginiahaven] <class '__main__.Customer'>\n",
      "Customer [Id: 25 | Name:Joseph Harris | Email : driggs@hicks.net | Age: 29 | City: Rodriguezstad] <class '__main__.Customer'>\n",
      "Customer [Id: 26 | Name:Robert Garcia | Email : pamelabriggs@lewis-mcintyre.com | Age: 62 | City: Benitezbury] <class '__main__.Customer'>\n",
      "Customer [Id: 27 | Name:Tiffany Cummings | Email : umerritt@gmail.com | Age: 54 | City: South Nicole] <class '__main__.Customer'>\n",
      "Customer [Id: 28 | Name:Cameron Grimes | Email : pecklisa@cortez.com | Age: 56 | City: Timothyton] <class '__main__.Customer'>\n",
      "Customer [Id: 29 | Name:Rebekah Anderson | Email : elizabeth40@yahoo.com | Age: 49 | City: Travisberg] <class '__main__.Customer'>\n",
      "Customer [Id: 30 | Name:Michael Rivera | Email : audreygarcia@gmail.com | Age: 39 | City: South Patrick] <class '__main__.Customer'>\n",
      "Customer [Id: 31 | Name:Christopher Anderson | Email : amanda22@hotmail.com | Age: 68 | City: North Robert] <class '__main__.Customer'>\n",
      "Customer [Id: 32 | Name:Mariah Gonzalez | Email : antonio53@yahoo.com | Age: 28 | City: Whitechester] <class '__main__.Customer'>\n",
      "Customer [Id: 33 | Name:Thomas Moreno | Email : abaker@young.net | Age: 49 | City: Sandrafort] <class '__main__.Customer'>\n",
      "Customer [Id: 34 | Name:Randy Anderson | Email : cbrown@gmail.com | Age: 30 | City: Reynoldsview] <class '__main__.Customer'>\n",
      "Customer [Id: 35 | Name:Madison Johnson | Email : xgrant@phelps.net | Age: 22 | City: New Matthewbury] <class '__main__.Customer'>\n",
      "Customer [Id: 36 | Name:Virginia Webb | Email : hernandezpaul@aguilar.net | Age: 79 | City: Lake Alexandra] <class '__main__.Customer'>\n",
      "Customer [Id: 37 | Name:Angela Harris | Email : pjohnson@casey.com | Age: 71 | City: Griffinfurt] <class '__main__.Customer'>\n",
      "Customer [Id: 38 | Name:Laura Lewis | Email : allen07@yahoo.com | Age: 49 | City: Garzaborough] <class '__main__.Customer'>\n",
      "Customer [Id: 39 | Name:Robert Martin | Email : ebrown@gmail.com | Age: 51 | City: Hodgesside] <class '__main__.Customer'>\n",
      "Customer [Id: 40 | Name:Jordan Martin | Email : vicki27@gmail.com | Age: 33 | City: Greenbury] <class '__main__.Customer'>\n",
      "Customer [Id: 41 | Name:Natasha Martinez | Email : alexis55@yahoo.com | Age: 44 | City: Lake Kirsten] <class '__main__.Customer'>\n",
      "Customer [Id: 42 | Name:Carrie Wu | Email : hernandezwilliam@hotmail.com | Age: 64 | City: Port Kelly] <class '__main__.Customer'>\n",
      "Customer [Id: 43 | Name:Amanda Barnett | Email : lynn26@morgan.com | Age: 61 | City: Barronville] <class '__main__.Customer'>\n",
      "Customer [Id: 44 | Name:Timothy Taylor | Email : holly39@lewis-tanner.org | Age: 23 | City: Fergusonmouth] <class '__main__.Customer'>\n",
      "Customer [Id: 45 | Name:Ronald Quinn | Email : scott12@gmail.com | Age: 58 | City: Wallfort] <class '__main__.Customer'>\n",
      "Customer [Id: 46 | Name:Morgan Villanueva | Email : ross69@stanley.com | Age: 34 | City: Farleyshire] <class '__main__.Customer'>\n",
      "Customer [Id: 47 | Name:Roberta Salazar | Email : belldanielle@yahoo.com | Age: 62 | City: South Jorge] <class '__main__.Customer'>\n",
      "Customer [Id: 48 | Name:Brandy Osborne | Email : carlsonshawn@hotmail.com | Age: 49 | City: Zimmermanfort] <class '__main__.Customer'>\n",
      "Customer [Id: 49 | Name:Christina Anderson | Email : antoniobooth@hardy-hudson.biz | Age: 76 | City: Jessicabury] <class '__main__.Customer'>\n",
      "Customer [Id: 50 | Name:Allison Sanchez | Email : scottdillon@gmail.com | Age: 25 | City: Rhondaland] <class '__main__.Customer'>\n",
      "Customer [Id: 51 | Name:Nathaniel Campbell | Email : heather96@yahoo.com | Age: 59 | City: West Joseville] <class '__main__.Customer'>\n",
      "Customer [Id: 52 | Name:Mary Hernandez | Email : natasha05@gmail.com | Age: 42 | City: Rojasburgh] <class '__main__.Customer'>\n",
      "Customer [Id: 53 | Name:Billy Bowman | Email : jacquelinejones@pearson.com | Age: 62 | City: Williamburgh] <class '__main__.Customer'>\n",
      "Customer [Id: 54 | Name:Rachel Kim | Email : crystal90@hill-harrell.com | Age: 47 | City: Anitaport] <class '__main__.Customer'>\n",
      "Customer [Id: 55 | Name:Jason White | Email : sherrivazquez@gmail.com | Age: 72 | City: Matthewsberg] <class '__main__.Customer'>\n",
      "Customer [Id: 56 | Name:Victoria Garcia | Email : jonesmark@frederick-williams.com | Age: 58 | City: Samanthaside] <class '__main__.Customer'>\n",
      "Customer [Id: 57 | Name:Sarah Anderson | Email : martin00@pierce.com | Age: 54 | City: New Teresa] <class '__main__.Customer'>\n",
      "Customer [Id: 58 | Name:Ian Wagner | Email : allenjacob@yahoo.com | Age: 39 | City: Port Stacieberg] <class '__main__.Customer'>\n",
      "Customer [Id: 59 | Name:Robert Adkins | Email : orozcogeorge@yahoo.com | Age: 68 | City: New Emily] <class '__main__.Customer'>\n",
      "Customer [Id: 60 | Name:Russell Morales | Email : paul97@adams.com | Age: 51 | City: Claytonshire] <class '__main__.Customer'>\n",
      "Customer [Id: 61 | Name:Joel Greene | Email : amandaknight@boyer.com | Age: 36 | City: Robertview] <class '__main__.Customer'>\n",
      "Customer [Id: 62 | Name:Karen Kim | Email : ruizmark@gmail.com | Age: 66 | City: Karlamouth] <class '__main__.Customer'>\n",
      "Customer [Id: 63 | Name:Frank Guzman | Email : laurenwalker@knox.com | Age: 44 | City: Lake Julie] <class '__main__.Customer'>\n",
      "Customer [Id: 64 | Name:Trevor Parker | Email : jessicabaker@ross.org | Age: 76 | City: Port Stephenport] <class '__main__.Customer'>\n",
      "Customer [Id: 65 | Name:Victoria Perez | Email : lolson@yahoo.com | Age: 53 | City: West Zacharytown] <class '__main__.Customer'>\n",
      "Customer [Id: 66 | Name:Anthony Sanders | Email : abigail28@kramer.com | Age: 54 | City: Michaelshire] <class '__main__.Customer'>\n",
      "Customer [Id: 67 | Name:John Ortiz | Email : ujenkins@gmail.com | Age: 46 | City: Markshire] <class '__main__.Customer'>\n",
      "Customer [Id: 68 | Name:Megan Davis | Email : vroman@crane.net | Age: 71 | City: Kerryton] <class '__main__.Customer'>\n",
      "Customer [Id: 69 | Name:Joseph Coleman | Email : kevans@schmidt-brewer.com | Age: 76 | City: Port Jessicatown] <class '__main__.Customer'>\n",
      "Customer [Id: 70 | Name:Stephanie Lopez | Email : melissabush@yahoo.com | Age: 43 | City: Parkerside] <class '__main__.Customer'>\n",
      "Customer [Id: 71 | Name:Matthew Gallagher | Email : maria68@scott.com | Age: 80 | City: Brittanyburgh] <class '__main__.Customer'>\n",
      "Customer [Id: 72 | Name:Sean Berger | Email : tylerdaniel@yahoo.com | Age: 23 | City: Lake Thomasborough] <class '__main__.Customer'>\n",
      "Customer [Id: 73 | Name:Michael James | Email : stacey08@jefferson.info | Age: 30 | City: Valdeztown] <class '__main__.Customer'>\n",
      "Customer [Id: 74 | Name:Kevin Hood | Email : zgarcia@jones.biz | Age: 27 | City: Beckerhaven] <class '__main__.Customer'>\n",
      "Customer [Id: 75 | Name:Bailey Gilbert | Email : williemartinez@torres.org | Age: 46 | City: East Jason] <class '__main__.Customer'>\n",
      "Customer [Id: 76 | Name:Juan Gill | Email : nicholas86@hotmail.com | Age: 37 | City: Port Christopherhaven] <class '__main__.Customer'>\n",
      "Customer [Id: 77 | Name:John Hunter | Email : cuevastony@martinez-rowe.biz | Age: 59 | City: South Sandyside] <class '__main__.Customer'>\n",
      "Customer [Id: 78 | Name:William Ortiz | Email : xschwartz@patton-turner.com | Age: 37 | City: Port Michaelton] <class '__main__.Customer'>\n",
      "Customer [Id: 79 | Name:Emily Garcia | Email : smithmichael@hotmail.com | Age: 43 | City: Russellfort] <class '__main__.Customer'>\n",
      "Customer [Id: 80 | Name:Caleb Shannon | Email : johnsontina@hotmail.com | Age: 24 | City: Washingtonberg] <class '__main__.Customer'>\n",
      "Customer [Id: 81 | Name:Jennifer Grant | Email : ashley81@sherman.info | Age: 77 | City: Wilkersonfort] <class '__main__.Customer'>\n",
      "Customer [Id: 82 | Name:Jeremy Thompson | Email : kristen69@brown-williams.com | Age: 79 | City: Port Joe] <class '__main__.Customer'>\n",
      "Customer [Id: 83 | Name:John Hudson | Email : leenicole@zimmerman.com | Age: 19 | City: Port Diane] <class '__main__.Customer'>\n",
      "Customer [Id: 84 | Name:Michael Lozano | Email : stephanie04@gmail.com | Age: 33 | City: Davidview] <class '__main__.Customer'>\n",
      "Customer [Id: 85 | Name:Jonathan Campbell | Email : chadcook@hotmail.com | Age: 63 | City: New Sheri] <class '__main__.Customer'>\n",
      "Customer [Id: 86 | Name:Matthew Craig | Email : wmack@ballard.com | Age: 64 | City: Gonzalesmouth] <class '__main__.Customer'>\n",
      "Customer [Id: 87 | Name:Kathryn Gibson | Email : kjacobs@hotmail.com | Age: 71 | City: Savannahport] <class '__main__.Customer'>\n",
      "Customer [Id: 88 | Name:Lauren Brewer | Email : fnelson@williams.info | Age: 56 | City: Carsonbury] <class '__main__.Customer'>\n",
      "Customer [Id: 89 | Name:Patrick Gilbert | Email : nancygreen@gmail.com | Age: 76 | City: Amandaside] <class '__main__.Customer'>\n",
      "Customer [Id: 90 | Name:Barry Rodgers | Email : martinezjennifer@hotmail.com | Age: 71 | City: West Paulbury] <class '__main__.Customer'>\n",
      "Customer [Id: 91 | Name:Ashley Watkins | Email : jessica61@gmail.com | Age: 66 | City: Manuelland] <class '__main__.Customer'>\n",
      "Customer [Id: 92 | Name:Joshua Guzman | Email : heidimclaughlin@gmail.com | Age: 72 | City: Craigbury] <class '__main__.Customer'>\n",
      "Customer [Id: 93 | Name:Christina Edwards | Email : fernando61@yahoo.com | Age: 26 | City: Powellbury] <class '__main__.Customer'>\n",
      "Customer [Id: 94 | Name:Steve Rhodes | Email : kbrown@snyder-harrell.com | Age: 46 | City: Boyleville] <class '__main__.Customer'>\n",
      "Customer [Id: 95 | Name:Sara Weaver | Email : amberbrown@williams.net | Age: 18 | City: Michellefort] <class '__main__.Customer'>\n",
      "Customer [Id: 96 | Name:Jasmine Howard | Email : qjohnson@yahoo.com | Age: 64 | City: Choitown] <class '__main__.Customer'>\n",
      "Customer [Id: 97 | Name:Michelle Hernandez | Email : sharon23@gmail.com | Age: 21 | City: Port Christopherburgh] <class '__main__.Customer'>\n",
      "Customer [Id: 98 | Name:Kimberly Johnston | Email : jasmine89@martinez.org | Age: 31 | City: North Garyview] <class '__main__.Customer'>\n",
      "Customer [Id: 99 | Name:Christina Harris | Email : zward@garcia-brown.org | Age: 21 | City: Port Melissachester] <class '__main__.Customer'>\n",
      "Customer [Id: 100 | Name:Jeff Owen | Email : sandra05@yahoo.com | Age: 75 | City: West Angela] <class '__main__.Customer'>\n",
      "Customersss <class 'list'>\n",
      "2024-10-18 13:38:41,586 INFO sqlalchemy.engine.Engine BEGIN (implicit)\n",
      "2024-10-18 13:38:41,588 INFO sqlalchemy.engine.Engine INSERT INTO customers (id, name, email, age, city) VALUES (?, ?, ?, ?, ?)\n",
      "2024-10-18 13:38:41,589 INFO sqlalchemy.engine.Engine [generated in 0.00057s] ('1', 'Danielle Weaver', 'wadelindsay@yahoo.com', '33', 'Watkinsview')\n",
      "2024-10-18 13:38:41,590 INFO sqlalchemy.engine.Engine COMMIT\n",
      "2024-10-18 13:38:41,601 INFO sqlalchemy.engine.Engine BEGIN (implicit)\n",
      "2024-10-18 13:38:41,602 INFO sqlalchemy.engine.Engine INSERT INTO customers (id, name, email, age, city) VALUES (?, ?, ?, ?, ?)\n",
      "2024-10-18 13:38:41,603 INFO sqlalchemy.engine.Engine [cached since 0.01439s ago] ('2', 'Brandon Moore', 'brownmarie@gmail.com', '43', 'New Patrick')\n",
      "2024-10-18 13:38:41,604 INFO sqlalchemy.engine.Engine COMMIT\n",
      "2024-10-18 13:38:41,610 INFO sqlalchemy.engine.Engine BEGIN (implicit)\n",
      "2024-10-18 13:38:41,613 INFO sqlalchemy.engine.Engine INSERT INTO customers (id, name, email, age, city) VALUES (?, ?, ?, ?, ?)\n",
      "2024-10-18 13:38:41,613 INFO sqlalchemy.engine.Engine [cached since 0.0249s ago] ('3', 'Gregory Brown', 'greenlaura@gordon-lopez.com', '48', 'West Diane')\n",
      "2024-10-18 13:38:41,615 INFO sqlalchemy.engine.Engine COMMIT\n",
      "2024-10-18 13:38:41,623 INFO sqlalchemy.engine.Engine BEGIN (implicit)\n",
      "2024-10-18 13:38:41,623 INFO sqlalchemy.engine.Engine INSERT INTO customers (id, name, email, age, city) VALUES (?, ?, ?, ?, ?)\n",
      "2024-10-18 13:38:41,624 INFO sqlalchemy.engine.Engine [cached since 0.03641s ago] ('4', 'William Huang', 'doughertynicole@yahoo.com', '66', 'Port Jimmyville')\n",
      "2024-10-18 13:38:41,626 INFO sqlalchemy.engine.Engine COMMIT\n",
      "2024-10-18 13:38:41,635 INFO sqlalchemy.engine.Engine BEGIN (implicit)\n",
      "2024-10-18 13:38:41,635 INFO sqlalchemy.engine.Engine INSERT INTO customers (id, name, email, age, city) VALUES (?, ?, ?, ?, ?)\n",
      "2024-10-18 13:38:41,636 INFO sqlalchemy.engine.Engine [cached since 0.04777s ago] ('5', 'Tom Hardin', 'ilee@ball-welch.com', '42', 'Lauraport')\n",
      "2024-10-18 13:38:41,638 INFO sqlalchemy.engine.Engine COMMIT\n",
      "2024-10-18 13:38:41,648 INFO sqlalchemy.engine.Engine BEGIN (implicit)\n",
      "2024-10-18 13:38:41,650 INFO sqlalchemy.engine.Engine INSERT INTO customers (id, name, email, age, city) VALUES (?, ?, ?, ?, ?)\n",
      "2024-10-18 13:38:41,650 INFO sqlalchemy.engine.Engine [cached since 0.06216s ago] ('6', 'Ashley Hicks', 'jaime83@brown.org', '77', 'Williamsstad')\n",
      "2024-10-18 13:38:41,651 INFO sqlalchemy.engine.Engine COMMIT\n",
      "2024-10-18 13:38:41,660 INFO sqlalchemy.engine.Engine BEGIN (implicit)\n",
      "2024-10-18 13:38:41,661 INFO sqlalchemy.engine.Engine INSERT INTO customers (id, name, email, age, city) VALUES (?, ?, ?, ?, ?)\n",
      "2024-10-18 13:38:41,662 INFO sqlalchemy.engine.Engine [cached since 0.07388s ago] ('7', 'Jacob Galvan', 'emily62@herrera.com', '47', 'Dannymouth')\n",
      "2024-10-18 13:38:41,664 INFO sqlalchemy.engine.Engine COMMIT\n",
      "2024-10-18 13:38:41,672 INFO sqlalchemy.engine.Engine BEGIN (implicit)\n",
      "2024-10-18 13:38:41,673 INFO sqlalchemy.engine.Engine INSERT INTO customers (id, name, email, age, city) VALUES (?, ?, ?, ?, ?)\n",
      "2024-10-18 13:38:41,674 INFO sqlalchemy.engine.Engine [cached since 0.0859s ago] ('8', 'Christine Gibson', 'kimberly70@yahoo.com', '75', 'Port Miguelhaven')\n",
      "2024-10-18 13:38:41,675 INFO sqlalchemy.engine.Engine COMMIT\n",
      "2024-10-18 13:38:41,683 INFO sqlalchemy.engine.Engine BEGIN (implicit)\n",
      "2024-10-18 13:38:41,684 INFO sqlalchemy.engine.Engine INSERT INTO customers (id, name, email, age, city) VALUES (?, ?, ?, ?, ?)\n",
      "2024-10-18 13:38:41,685 INFO sqlalchemy.engine.Engine [cached since 0.09713s ago] ('9', 'Melanie Johnson', 'kellydawn@wright.com', '61', 'Murphyhaven')\n",
      "2024-10-18 13:38:41,686 INFO sqlalchemy.engine.Engine COMMIT\n",
      "2024-10-18 13:38:41,695 INFO sqlalchemy.engine.Engine BEGIN (implicit)\n",
      "2024-10-18 13:38:41,695 INFO sqlalchemy.engine.Engine INSERT INTO customers (id, name, email, age, city) VALUES (?, ?, ?, ?, ?)\n",
      "2024-10-18 13:38:41,696 INFO sqlalchemy.engine.Engine [cached since 0.1081s ago] ('10', 'Terry Barnett', 'willisjames@hotmail.com', '54', 'Lake Brendastad')\n",
      "2024-10-18 13:38:41,698 INFO sqlalchemy.engine.Engine COMMIT\n",
      "2024-10-18 13:38:41,706 INFO sqlalchemy.engine.Engine BEGIN (implicit)\n",
      "2024-10-18 13:38:41,706 INFO sqlalchemy.engine.Engine INSERT INTO customers (id, name, email, age, city) VALUES (?, ?, ?, ?, ?)\n",
      "2024-10-18 13:38:41,707 INFO sqlalchemy.engine.Engine [cached since 0.1192s ago] ('11', 'Jessica Rodriguez', 'kaylahughes@gmail.com', '65', 'Cookburgh')\n",
      "2024-10-18 13:38:41,709 INFO sqlalchemy.engine.Engine COMMIT\n",
      "2024-10-18 13:38:41,718 INFO sqlalchemy.engine.Engine BEGIN (implicit)\n",
      "2024-10-18 13:38:41,719 INFO sqlalchemy.engine.Engine INSERT INTO customers (id, name, email, age, city) VALUES (?, ?, ?, ?, ?)\n",
      "2024-10-18 13:38:41,720 INFO sqlalchemy.engine.Engine [cached since 0.1315s ago] ('12', 'Charles Lucas', 'jose38@parker-bell.org', '70', 'Lake Derektown')\n",
      "2024-10-18 13:38:41,720 INFO sqlalchemy.engine.Engine COMMIT\n",
      "2024-10-18 13:38:41,730 INFO sqlalchemy.engine.Engine BEGIN (implicit)\n",
      "2024-10-18 13:38:41,731 INFO sqlalchemy.engine.Engine INSERT INTO customers (id, name, email, age, city) VALUES (?, ?, ?, ?, ?)\n",
      "2024-10-18 13:38:41,732 INFO sqlalchemy.engine.Engine [cached since 0.1438s ago] ('13', 'Kelly Love', 'hudsoncory@ward.com', '45', 'Port Travisport')\n",
      "2024-10-18 13:38:41,733 INFO sqlalchemy.engine.Engine COMMIT\n",
      "2024-10-18 13:38:41,742 INFO sqlalchemy.engine.Engine BEGIN (implicit)\n",
      "2024-10-18 13:38:41,743 INFO sqlalchemy.engine.Engine INSERT INTO customers (id, name, email, age, city) VALUES (?, ?, ?, ?, ?)\n",
      "2024-10-18 13:38:41,743 INFO sqlalchemy.engine.Engine [cached since 0.155s ago] ('14', 'Ariel White', 'mryan@bishop.net', '75', 'West Kyleburgh')\n",
      "2024-10-18 13:38:41,745 INFO sqlalchemy.engine.Engine COMMIT\n",
      "2024-10-18 13:38:41,756 INFO sqlalchemy.engine.Engine BEGIN (implicit)\n",
      "2024-10-18 13:38:41,756 INFO sqlalchemy.engine.Engine INSERT INTO customers (id, name, email, age, city) VALUES (?, ?, ?, ?, ?)\n",
      "2024-10-18 13:38:41,757 INFO sqlalchemy.engine.Engine [cached since 0.1694s ago] ('15', 'Charles Chan', 'tashasmith@hotmail.com', '34', 'Kevinshire')\n",
      "2024-10-18 13:38:41,758 INFO sqlalchemy.engine.Engine COMMIT\n",
      "2024-10-18 13:38:41,768 INFO sqlalchemy.engine.Engine BEGIN (implicit)\n",
      "2024-10-18 13:38:41,769 INFO sqlalchemy.engine.Engine INSERT INTO customers (id, name, email, age, city) VALUES (?, ?, ?, ?, ?)\n",
      "2024-10-18 13:38:41,770 INFO sqlalchemy.engine.Engine [cached since 0.1813s ago] ('16', 'Katherine Moore', 'jessica58@hotmail.com', '22', 'Evansshire')\n",
      "2024-10-18 13:38:41,771 INFO sqlalchemy.engine.Engine COMMIT\n",
      "2024-10-18 13:38:41,780 INFO sqlalchemy.engine.Engine BEGIN (implicit)\n",
      "2024-10-18 13:38:41,781 INFO sqlalchemy.engine.Engine INSERT INTO customers (id, name, email, age, city) VALUES (?, ?, ?, ?, ?)\n",
      "2024-10-18 13:38:41,782 INFO sqlalchemy.engine.Engine [cached since 0.1943s ago] ('17', 'Michael Collins', 'jennifer15@hotmail.com', '49', 'Christopherton')\n",
      "2024-10-18 13:38:41,783 INFO sqlalchemy.engine.Engine COMMIT\n",
      "2024-10-18 13:38:41,792 INFO sqlalchemy.engine.Engine BEGIN (implicit)\n",
      "2024-10-18 13:38:41,793 INFO sqlalchemy.engine.Engine INSERT INTO customers (id, name, email, age, city) VALUES (?, ?, ?, ?, ?)\n",
      "2024-10-18 13:38:41,793 INFO sqlalchemy.engine.Engine [cached since 0.205s ago] ('18', 'Tracy Spencer', 'autumnmedina@yahoo.com', '38', 'West Sandraside')\n",
      "2024-10-18 13:38:41,794 INFO sqlalchemy.engine.Engine COMMIT\n",
      "2024-10-18 13:38:41,806 INFO sqlalchemy.engine.Engine BEGIN (implicit)\n",
      "2024-10-18 13:38:41,806 INFO sqlalchemy.engine.Engine INSERT INTO customers (id, name, email, age, city) VALUES (?, ?, ?, ?, ?)\n",
      "2024-10-18 13:38:41,807 INFO sqlalchemy.engine.Engine [cached since 0.2192s ago] ('19', 'Roger Guerrero', 'brucetaylor@richard-marshall.com', '27', 'Daniellechester')\n",
      "2024-10-18 13:38:41,809 INFO sqlalchemy.engine.Engine COMMIT\n",
      "2024-10-18 13:38:41,817 INFO sqlalchemy.engine.Engine BEGIN (implicit)\n",
      "2024-10-18 13:38:41,818 INFO sqlalchemy.engine.Engine INSERT INTO customers (id, name, email, age, city) VALUES (?, ?, ?, ?, ?)\n",
      "2024-10-18 13:38:41,818 INFO sqlalchemy.engine.Engine [cached since 0.2303s ago] ('20', 'Stephanie Hughes', 'levineethan@hodge.com', '41', 'Brownland')\n",
      "2024-10-18 13:38:41,820 INFO sqlalchemy.engine.Engine COMMIT\n",
      "2024-10-18 13:38:41,829 INFO sqlalchemy.engine.Engine BEGIN (implicit)\n",
      "2024-10-18 13:38:41,829 INFO sqlalchemy.engine.Engine INSERT INTO customers (id, name, email, age, city) VALUES (?, ?, ?, ?, ?)\n",
      "2024-10-18 13:38:41,830 INFO sqlalchemy.engine.Engine [cached since 0.242s ago] ('21', 'Benjamin Hughes', 'beth99@hotmail.com', '21', 'Carlmouth')\n",
      "2024-10-18 13:38:41,831 INFO sqlalchemy.engine.Engine COMMIT\n",
      "2024-10-18 13:38:41,843 INFO sqlalchemy.engine.Engine BEGIN (implicit)\n",
      "2024-10-18 13:38:41,844 INFO sqlalchemy.engine.Engine INSERT INTO customers (id, name, email, age, city) VALUES (?, ?, ?, ?, ?)\n",
      "2024-10-18 13:38:41,844 INFO sqlalchemy.engine.Engine [cached since 0.2562s ago] ('22', 'Gilbert Mckinney', 'ritajenkins@yahoo.com', '45', 'Lopezport')\n",
      "2024-10-18 13:38:41,845 INFO sqlalchemy.engine.Engine COMMIT\n",
      "2024-10-18 13:38:41,854 INFO sqlalchemy.engine.Engine BEGIN (implicit)\n",
      "2024-10-18 13:38:41,855 INFO sqlalchemy.engine.Engine INSERT INTO customers (id, name, email, age, city) VALUES (?, ?, ?, ?, ?)\n",
      "2024-10-18 13:38:41,855 INFO sqlalchemy.engine.Engine [cached since 0.2679s ago] ('23', 'Dr. Thomas Walsh', 'jamesmcdonald@arroyo.com', '58', 'Aprilborough')\n",
      "2024-10-18 13:38:41,858 INFO sqlalchemy.engine.Engine COMMIT\n",
      "2024-10-18 13:38:41,868 INFO sqlalchemy.engine.Engine BEGIN (implicit)\n",
      "2024-10-18 13:38:41,869 INFO sqlalchemy.engine.Engine INSERT INTO customers (id, name, email, age, city) VALUES (?, ?, ?, ?, ?)\n",
      "2024-10-18 13:38:41,870 INFO sqlalchemy.engine.Engine [cached since 0.282s ago] ('24', 'Brandon Roberts', 'maryaguirre@mcconnell.com', '24', 'Port Virginiahaven')\n",
      "2024-10-18 13:38:41,871 INFO sqlalchemy.engine.Engine COMMIT\n",
      "2024-10-18 13:38:41,885 INFO sqlalchemy.engine.Engine BEGIN (implicit)\n",
      "2024-10-18 13:38:41,885 INFO sqlalchemy.engine.Engine INSERT INTO customers (id, name, email, age, city) VALUES (?, ?, ?, ?, ?)\n",
      "2024-10-18 13:38:41,886 INFO sqlalchemy.engine.Engine [cached since 0.2984s ago] ('25', 'Joseph Harris', 'driggs@hicks.net', '29', 'Rodriguezstad')\n",
      "2024-10-18 13:38:41,888 INFO sqlalchemy.engine.Engine COMMIT\n",
      "2024-10-18 13:38:41,900 INFO sqlalchemy.engine.Engine BEGIN (implicit)\n",
      "2024-10-18 13:38:41,901 INFO sqlalchemy.engine.Engine INSERT INTO customers (id, name, email, age, city) VALUES (?, ?, ?, ?, ?)\n",
      "2024-10-18 13:38:41,902 INFO sqlalchemy.engine.Engine [cached since 0.3138s ago] ('26', 'Robert Garcia', 'pamelabriggs@lewis-mcintyre.com', '62', 'Benitezbury')\n",
      "2024-10-18 13:38:41,903 INFO sqlalchemy.engine.Engine COMMIT\n",
      "2024-10-18 13:38:41,916 INFO sqlalchemy.engine.Engine BEGIN (implicit)\n",
      "2024-10-18 13:38:41,917 INFO sqlalchemy.engine.Engine INSERT INTO customers (id, name, email, age, city) VALUES (?, ?, ?, ?, ?)\n",
      "2024-10-18 13:38:41,918 INFO sqlalchemy.engine.Engine [cached since 0.3296s ago] ('27', 'Tiffany Cummings', 'umerritt@gmail.com', '54', 'South Nicole')\n",
      "2024-10-18 13:38:41,920 INFO sqlalchemy.engine.Engine COMMIT\n",
      "2024-10-18 13:38:41,928 INFO sqlalchemy.engine.Engine BEGIN (implicit)\n",
      "2024-10-18 13:38:41,930 INFO sqlalchemy.engine.Engine INSERT INTO customers (id, name, email, age, city) VALUES (?, ?, ?, ?, ?)\n",
      "2024-10-18 13:38:41,930 INFO sqlalchemy.engine.Engine [cached since 0.3424s ago] ('28', 'Cameron Grimes', 'pecklisa@cortez.com', '56', 'Timothyton')\n",
      "2024-10-18 13:38:41,932 INFO sqlalchemy.engine.Engine COMMIT\n",
      "2024-10-18 13:38:41,944 INFO sqlalchemy.engine.Engine BEGIN (implicit)\n",
      "2024-10-18 13:38:41,945 INFO sqlalchemy.engine.Engine INSERT INTO customers (id, name, email, age, city) VALUES (?, ?, ?, ?, ?)\n",
      "2024-10-18 13:38:41,946 INFO sqlalchemy.engine.Engine [cached since 0.3574s ago] ('29', 'Rebekah Anderson', 'elizabeth40@yahoo.com', '49', 'Travisberg')\n",
      "2024-10-18 13:38:41,947 INFO sqlalchemy.engine.Engine COMMIT\n",
      "2024-10-18 13:38:41,958 INFO sqlalchemy.engine.Engine BEGIN (implicit)\n",
      "2024-10-18 13:38:41,960 INFO sqlalchemy.engine.Engine INSERT INTO customers (id, name, email, age, city) VALUES (?, ?, ?, ?, ?)\n",
      "2024-10-18 13:38:41,960 INFO sqlalchemy.engine.Engine [cached since 0.372s ago] ('30', 'Michael Rivera', 'audreygarcia@gmail.com', '39', 'South Patrick')\n",
      "2024-10-18 13:38:41,962 INFO sqlalchemy.engine.Engine COMMIT\n",
      "2024-10-18 13:38:41,970 INFO sqlalchemy.engine.Engine BEGIN (implicit)\n",
      "2024-10-18 13:38:41,971 INFO sqlalchemy.engine.Engine INSERT INTO customers (id, name, email, age, city) VALUES (?, ?, ?, ?, ?)\n",
      "2024-10-18 13:38:41,971 INFO sqlalchemy.engine.Engine [cached since 0.3839s ago] ('31', 'Christopher Anderson', 'amanda22@hotmail.com', '68', 'North Robert')\n",
      "2024-10-18 13:38:41,973 INFO sqlalchemy.engine.Engine COMMIT\n",
      "2024-10-18 13:38:41,985 INFO sqlalchemy.engine.Engine BEGIN (implicit)\n",
      "2024-10-18 13:38:41,986 INFO sqlalchemy.engine.Engine INSERT INTO customers (id, name, email, age, city) VALUES (?, ?, ?, ?, ?)\n",
      "2024-10-18 13:38:41,987 INFO sqlalchemy.engine.Engine [cached since 0.3988s ago] ('32', 'Mariah Gonzalez', 'antonio53@yahoo.com', '28', 'Whitechester')\n",
      "2024-10-18 13:38:41,988 INFO sqlalchemy.engine.Engine COMMIT\n",
      "2024-10-18 13:38:41,997 INFO sqlalchemy.engine.Engine BEGIN (implicit)\n",
      "2024-10-18 13:38:41,997 INFO sqlalchemy.engine.Engine INSERT INTO customers (id, name, email, age, city) VALUES (?, ?, ?, ?, ?)\n",
      "2024-10-18 13:38:41,998 INFO sqlalchemy.engine.Engine [cached since 0.4099s ago] ('33', 'Thomas Moreno', 'abaker@young.net', '49', 'Sandrafort')\n",
      "2024-10-18 13:38:41,998 INFO sqlalchemy.engine.Engine COMMIT\n",
      "2024-10-18 13:38:42,008 INFO sqlalchemy.engine.Engine BEGIN (implicit)\n",
      "2024-10-18 13:38:42,008 INFO sqlalchemy.engine.Engine INSERT INTO customers (id, name, email, age, city) VALUES (?, ?, ?, ?, ?)\n",
      "2024-10-18 13:38:42,009 INFO sqlalchemy.engine.Engine [cached since 0.4207s ago] ('34', 'Randy Anderson', 'cbrown@gmail.com', '30', 'Reynoldsview')\n",
      "2024-10-18 13:38:42,010 INFO sqlalchemy.engine.Engine COMMIT\n",
      "2024-10-18 13:38:42,018 INFO sqlalchemy.engine.Engine BEGIN (implicit)\n",
      "2024-10-18 13:38:42,018 INFO sqlalchemy.engine.Engine INSERT INTO customers (id, name, email, age, city) VALUES (?, ?, ?, ?, ?)\n",
      "2024-10-18 13:38:42,020 INFO sqlalchemy.engine.Engine [cached since 0.4317s ago] ('35', 'Madison Johnson', 'xgrant@phelps.net', '22', 'New Matthewbury')\n",
      "2024-10-18 13:38:42,021 INFO sqlalchemy.engine.Engine COMMIT\n",
      "2024-10-18 13:38:42,028 INFO sqlalchemy.engine.Engine BEGIN (implicit)\n",
      "2024-10-18 13:38:42,029 INFO sqlalchemy.engine.Engine INSERT INTO customers (id, name, email, age, city) VALUES (?, ?, ?, ?, ?)\n",
      "2024-10-18 13:38:42,029 INFO sqlalchemy.engine.Engine [cached since 0.4409s ago] ('36', 'Virginia Webb', 'hernandezpaul@aguilar.net', '79', 'Lake Alexandra')\n",
      "2024-10-18 13:38:42,030 INFO sqlalchemy.engine.Engine COMMIT\n",
      "2024-10-18 13:38:42,047 INFO sqlalchemy.engine.Engine BEGIN (implicit)\n",
      "2024-10-18 13:38:42,047 INFO sqlalchemy.engine.Engine INSERT INTO customers (id, name, email, age, city) VALUES (?, ?, ?, ?, ?)\n",
      "2024-10-18 13:38:42,049 INFO sqlalchemy.engine.Engine [cached since 0.4604s ago] ('37', 'Angela Harris', 'pjohnson@casey.com', '71', 'Griffinfurt')\n",
      "2024-10-18 13:38:42,050 INFO sqlalchemy.engine.Engine COMMIT\n",
      "2024-10-18 13:38:42,057 INFO sqlalchemy.engine.Engine BEGIN (implicit)\n",
      "2024-10-18 13:38:42,057 INFO sqlalchemy.engine.Engine INSERT INTO customers (id, name, email, age, city) VALUES (?, ?, ?, ?, ?)\n",
      "2024-10-18 13:38:42,058 INFO sqlalchemy.engine.Engine [cached since 0.4696s ago] ('38', 'Laura Lewis', 'allen07@yahoo.com', '49', 'Garzaborough')\n",
      "2024-10-18 13:38:42,059 INFO sqlalchemy.engine.Engine COMMIT\n",
      "2024-10-18 13:38:42,065 INFO sqlalchemy.engine.Engine BEGIN (implicit)\n",
      "2024-10-18 13:38:42,066 INFO sqlalchemy.engine.Engine INSERT INTO customers (id, name, email, age, city) VALUES (?, ?, ?, ?, ?)\n",
      "2024-10-18 13:38:42,067 INFO sqlalchemy.engine.Engine [cached since 0.4791s ago] ('39', 'Robert Martin', 'ebrown@gmail.com', '51', 'Hodgesside')\n",
      "2024-10-18 13:38:42,068 INFO sqlalchemy.engine.Engine COMMIT\n",
      "2024-10-18 13:38:42,075 INFO sqlalchemy.engine.Engine BEGIN (implicit)\n",
      "2024-10-18 13:38:42,076 INFO sqlalchemy.engine.Engine INSERT INTO customers (id, name, email, age, city) VALUES (?, ?, ?, ?, ?)\n",
      "2024-10-18 13:38:42,076 INFO sqlalchemy.engine.Engine [cached since 0.4882s ago] ('40', 'Jordan Martin', 'vicki27@gmail.com', '33', 'Greenbury')\n",
      "2024-10-18 13:38:42,078 INFO sqlalchemy.engine.Engine COMMIT\n",
      "2024-10-18 13:38:42,084 INFO sqlalchemy.engine.Engine BEGIN (implicit)\n",
      "2024-10-18 13:38:42,085 INFO sqlalchemy.engine.Engine INSERT INTO customers (id, name, email, age, city) VALUES (?, ?, ?, ?, ?)\n",
      "2024-10-18 13:38:42,086 INFO sqlalchemy.engine.Engine [cached since 0.4983s ago] ('41', 'Natasha Martinez', 'alexis55@yahoo.com', '44', 'Lake Kirsten')\n",
      "2024-10-18 13:38:42,087 INFO sqlalchemy.engine.Engine COMMIT\n",
      "2024-10-18 13:38:42,095 INFO sqlalchemy.engine.Engine BEGIN (implicit)\n",
      "2024-10-18 13:38:42,096 INFO sqlalchemy.engine.Engine INSERT INTO customers (id, name, email, age, city) VALUES (?, ?, ?, ?, ?)\n",
      "2024-10-18 13:38:42,096 INFO sqlalchemy.engine.Engine [cached since 0.5081s ago] ('42', 'Carrie Wu', 'hernandezwilliam@hotmail.com', '64', 'Port Kelly')\n",
      "2024-10-18 13:38:42,097 INFO sqlalchemy.engine.Engine COMMIT\n",
      "2024-10-18 13:38:42,105 INFO sqlalchemy.engine.Engine BEGIN (implicit)\n",
      "2024-10-18 13:38:42,105 INFO sqlalchemy.engine.Engine INSERT INTO customers (id, name, email, age, city) VALUES (?, ?, ?, ?, ?)\n",
      "2024-10-18 13:38:42,105 INFO sqlalchemy.engine.Engine [cached since 0.5171s ago] ('43', 'Amanda Barnett', 'lynn26@morgan.com', '61', 'Barronville')\n",
      "2024-10-18 13:38:42,107 INFO sqlalchemy.engine.Engine COMMIT\n",
      "2024-10-18 13:38:42,113 INFO sqlalchemy.engine.Engine BEGIN (implicit)\n",
      "2024-10-18 13:38:42,114 INFO sqlalchemy.engine.Engine INSERT INTO customers (id, name, email, age, city) VALUES (?, ?, ?, ?, ?)\n",
      "2024-10-18 13:38:42,115 INFO sqlalchemy.engine.Engine [cached since 0.527s ago] ('44', 'Timothy Taylor', 'holly39@lewis-tanner.org', '23', 'Fergusonmouth')\n",
      "2024-10-18 13:38:42,116 INFO sqlalchemy.engine.Engine COMMIT\n",
      "2024-10-18 13:38:42,124 INFO sqlalchemy.engine.Engine BEGIN (implicit)\n",
      "2024-10-18 13:38:42,124 INFO sqlalchemy.engine.Engine INSERT INTO customers (id, name, email, age, city) VALUES (?, ?, ?, ?, ?)\n",
      "2024-10-18 13:38:42,125 INFO sqlalchemy.engine.Engine [cached since 0.5365s ago] ('45', 'Ronald Quinn', 'scott12@gmail.com', '58', 'Wallfort')\n",
      "2024-10-18 13:38:42,126 INFO sqlalchemy.engine.Engine COMMIT\n",
      "2024-10-18 13:38:42,133 INFO sqlalchemy.engine.Engine BEGIN (implicit)\n",
      "2024-10-18 13:38:42,133 INFO sqlalchemy.engine.Engine INSERT INTO customers (id, name, email, age, city) VALUES (?, ?, ?, ?, ?)\n",
      "2024-10-18 13:38:42,134 INFO sqlalchemy.engine.Engine [cached since 0.5462s ago] ('46', 'Morgan Villanueva', 'ross69@stanley.com', '34', 'Farleyshire')\n",
      "2024-10-18 13:38:42,135 INFO sqlalchemy.engine.Engine COMMIT\n",
      "2024-10-18 13:38:42,143 INFO sqlalchemy.engine.Engine BEGIN (implicit)\n",
      "2024-10-18 13:38:42,144 INFO sqlalchemy.engine.Engine INSERT INTO customers (id, name, email, age, city) VALUES (?, ?, ?, ?, ?)\n",
      "2024-10-18 13:38:42,144 INFO sqlalchemy.engine.Engine [cached since 0.556s ago] ('47', 'Roberta Salazar', 'belldanielle@yahoo.com', '62', 'South Jorge')\n",
      "2024-10-18 13:38:42,145 INFO sqlalchemy.engine.Engine COMMIT\n",
      "2024-10-18 13:38:42,152 INFO sqlalchemy.engine.Engine BEGIN (implicit)\n",
      "2024-10-18 13:38:42,153 INFO sqlalchemy.engine.Engine INSERT INTO customers (id, name, email, age, city) VALUES (?, ?, ?, ?, ?)\n",
      "2024-10-18 13:38:42,153 INFO sqlalchemy.engine.Engine [cached since 0.5655s ago] ('48', 'Brandy Osborne', 'carlsonshawn@hotmail.com', '49', 'Zimmermanfort')\n",
      "2024-10-18 13:38:42,155 INFO sqlalchemy.engine.Engine COMMIT\n",
      "2024-10-18 13:38:42,162 INFO sqlalchemy.engine.Engine BEGIN (implicit)\n",
      "2024-10-18 13:38:42,163 INFO sqlalchemy.engine.Engine INSERT INTO customers (id, name, email, age, city) VALUES (?, ?, ?, ?, ?)\n",
      "2024-10-18 13:38:42,163 INFO sqlalchemy.engine.Engine [cached since 0.5752s ago] ('49', 'Christina Anderson', 'antoniobooth@hardy-hudson.biz', '76', 'Jessicabury')\n",
      "2024-10-18 13:38:42,165 INFO sqlalchemy.engine.Engine COMMIT\n",
      "2024-10-18 13:38:42,172 INFO sqlalchemy.engine.Engine BEGIN (implicit)\n",
      "2024-10-18 13:38:42,173 INFO sqlalchemy.engine.Engine INSERT INTO customers (id, name, email, age, city) VALUES (?, ?, ?, ?, ?)\n",
      "2024-10-18 13:38:42,173 INFO sqlalchemy.engine.Engine [cached since 0.585s ago] ('50', 'Allison Sanchez', 'scottdillon@gmail.com', '25', 'Rhondaland')\n",
      "2024-10-18 13:38:42,174 INFO sqlalchemy.engine.Engine COMMIT\n",
      "2024-10-18 13:38:42,181 INFO sqlalchemy.engine.Engine BEGIN (implicit)\n",
      "2024-10-18 13:38:42,182 INFO sqlalchemy.engine.Engine INSERT INTO customers (id, name, email, age, city) VALUES (?, ?, ?, ?, ?)\n",
      "2024-10-18 13:38:42,182 INFO sqlalchemy.engine.Engine [cached since 0.5942s ago] ('51', 'Nathaniel Campbell', 'heather96@yahoo.com', '59', 'West Joseville')\n",
      "2024-10-18 13:38:42,183 INFO sqlalchemy.engine.Engine COMMIT\n",
      "2024-10-18 13:38:42,190 INFO sqlalchemy.engine.Engine BEGIN (implicit)\n",
      "2024-10-18 13:38:42,190 INFO sqlalchemy.engine.Engine INSERT INTO customers (id, name, email, age, city) VALUES (?, ?, ?, ?, ?)\n",
      "2024-10-18 13:38:42,191 INFO sqlalchemy.engine.Engine [cached since 0.6031s ago] ('52', 'Mary Hernandez', 'natasha05@gmail.com', '42', 'Rojasburgh')\n",
      "2024-10-18 13:38:42,192 INFO sqlalchemy.engine.Engine COMMIT\n",
      "2024-10-18 13:38:42,199 INFO sqlalchemy.engine.Engine BEGIN (implicit)\n",
      "2024-10-18 13:38:42,199 INFO sqlalchemy.engine.Engine INSERT INTO customers (id, name, email, age, city) VALUES (?, ?, ?, ?, ?)\n",
      "2024-10-18 13:38:42,201 INFO sqlalchemy.engine.Engine [cached since 0.6122s ago] ('53', 'Billy Bowman', 'jacquelinejones@pearson.com', '62', 'Williamburgh')\n",
      "2024-10-18 13:38:42,202 INFO sqlalchemy.engine.Engine COMMIT\n",
      "2024-10-18 13:38:42,209 INFO sqlalchemy.engine.Engine BEGIN (implicit)\n",
      "2024-10-18 13:38:42,209 INFO sqlalchemy.engine.Engine INSERT INTO customers (id, name, email, age, city) VALUES (?, ?, ?, ?, ?)\n",
      "2024-10-18 13:38:42,210 INFO sqlalchemy.engine.Engine [cached since 0.6216s ago] ('54', 'Rachel Kim', 'crystal90@hill-harrell.com', '47', 'Anitaport')\n",
      "2024-10-18 13:38:42,211 INFO sqlalchemy.engine.Engine COMMIT\n",
      "2024-10-18 13:38:42,218 INFO sqlalchemy.engine.Engine BEGIN (implicit)\n",
      "2024-10-18 13:38:42,219 INFO sqlalchemy.engine.Engine INSERT INTO customers (id, name, email, age, city) VALUES (?, ?, ?, ?, ?)\n",
      "2024-10-18 13:38:42,219 INFO sqlalchemy.engine.Engine [cached since 0.6314s ago] ('55', 'Jason White', 'sherrivazquez@gmail.com', '72', 'Matthewsberg')\n",
      "2024-10-18 13:38:42,220 INFO sqlalchemy.engine.Engine COMMIT\n",
      "2024-10-18 13:38:42,227 INFO sqlalchemy.engine.Engine BEGIN (implicit)\n",
      "2024-10-18 13:38:42,228 INFO sqlalchemy.engine.Engine INSERT INTO customers (id, name, email, age, city) VALUES (?, ?, ?, ?, ?)\n",
      "2024-10-18 13:38:42,228 INFO sqlalchemy.engine.Engine [cached since 0.6407s ago] ('56', 'Victoria Garcia', 'jonesmark@frederick-williams.com', '58', 'Samanthaside')\n",
      "2024-10-18 13:38:42,230 INFO sqlalchemy.engine.Engine COMMIT\n",
      "2024-10-18 13:38:42,237 INFO sqlalchemy.engine.Engine BEGIN (implicit)\n",
      "2024-10-18 13:38:42,237 INFO sqlalchemy.engine.Engine INSERT INTO customers (id, name, email, age, city) VALUES (?, ?, ?, ?, ?)\n",
      "2024-10-18 13:38:42,238 INFO sqlalchemy.engine.Engine [cached since 0.6497s ago] ('57', 'Sarah Anderson', 'martin00@pierce.com', '54', 'New Teresa')\n",
      "2024-10-18 13:38:42,239 INFO sqlalchemy.engine.Engine COMMIT\n",
      "2024-10-18 13:38:42,245 INFO sqlalchemy.engine.Engine BEGIN (implicit)\n",
      "2024-10-18 13:38:42,246 INFO sqlalchemy.engine.Engine INSERT INTO customers (id, name, email, age, city) VALUES (?, ?, ?, ?, ?)\n",
      "2024-10-18 13:38:42,246 INFO sqlalchemy.engine.Engine [cached since 0.6589s ago] ('58', 'Ian Wagner', 'allenjacob@yahoo.com', '39', 'Port Stacieberg')\n",
      "2024-10-18 13:38:42,247 INFO sqlalchemy.engine.Engine COMMIT\n",
      "2024-10-18 13:38:42,255 INFO sqlalchemy.engine.Engine BEGIN (implicit)\n",
      "2024-10-18 13:38:42,256 INFO sqlalchemy.engine.Engine INSERT INTO customers (id, name, email, age, city) VALUES (?, ?, ?, ?, ?)\n",
      "2024-10-18 13:38:42,256 INFO sqlalchemy.engine.Engine [cached since 0.6683s ago] ('59', 'Robert Adkins', 'orozcogeorge@yahoo.com', '68', 'New Emily')\n",
      "2024-10-18 13:38:42,257 INFO sqlalchemy.engine.Engine COMMIT\n",
      "2024-10-18 13:38:42,269 INFO sqlalchemy.engine.Engine BEGIN (implicit)\n",
      "2024-10-18 13:38:42,270 INFO sqlalchemy.engine.Engine INSERT INTO customers (id, name, email, age, city) VALUES (?, ?, ?, ?, ?)\n",
      "2024-10-18 13:38:42,270 INFO sqlalchemy.engine.Engine [cached since 0.682s ago] ('60', 'Russell Morales', 'paul97@adams.com', '51', 'Claytonshire')\n",
      "2024-10-18 13:38:42,271 INFO sqlalchemy.engine.Engine COMMIT\n",
      "2024-10-18 13:38:42,278 INFO sqlalchemy.engine.Engine BEGIN (implicit)\n",
      "2024-10-18 13:38:42,278 INFO sqlalchemy.engine.Engine INSERT INTO customers (id, name, email, age, city) VALUES (?, ?, ?, ?, ?)\n",
      "2024-10-18 13:38:42,278 INFO sqlalchemy.engine.Engine [cached since 0.6911s ago] ('61', 'Joel Greene', 'amandaknight@boyer.com', '36', 'Robertview')\n",
      "2024-10-18 13:38:42,280 INFO sqlalchemy.engine.Engine COMMIT\n",
      "2024-10-18 13:38:42,287 INFO sqlalchemy.engine.Engine BEGIN (implicit)\n",
      "2024-10-18 13:38:42,288 INFO sqlalchemy.engine.Engine INSERT INTO customers (id, name, email, age, city) VALUES (?, ?, ?, ?, ?)\n",
      "2024-10-18 13:38:42,288 INFO sqlalchemy.engine.Engine [cached since 0.7s ago] ('62', 'Karen Kim', 'ruizmark@gmail.com', '66', 'Karlamouth')\n",
      "2024-10-18 13:38:42,289 INFO sqlalchemy.engine.Engine COMMIT\n",
      "2024-10-18 13:38:42,296 INFO sqlalchemy.engine.Engine BEGIN (implicit)\n",
      "2024-10-18 13:38:42,296 INFO sqlalchemy.engine.Engine INSERT INTO customers (id, name, email, age, city) VALUES (?, ?, ?, ?, ?)\n",
      "2024-10-18 13:38:42,297 INFO sqlalchemy.engine.Engine [cached since 0.7087s ago] ('63', 'Frank Guzman', 'laurenwalker@knox.com', '44', 'Lake Julie')\n",
      "2024-10-18 13:38:42,298 INFO sqlalchemy.engine.Engine COMMIT\n",
      "2024-10-18 13:38:42,304 INFO sqlalchemy.engine.Engine BEGIN (implicit)\n",
      "2024-10-18 13:38:42,305 INFO sqlalchemy.engine.Engine INSERT INTO customers (id, name, email, age, city) VALUES (?, ?, ?, ?, ?)\n",
      "2024-10-18 13:38:42,305 INFO sqlalchemy.engine.Engine [cached since 0.7177s ago] ('64', 'Trevor Parker', 'jessicabaker@ross.org', '76', 'Port Stephenport')\n",
      "2024-10-18 13:38:42,306 INFO sqlalchemy.engine.Engine COMMIT\n",
      "2024-10-18 13:38:42,314 INFO sqlalchemy.engine.Engine BEGIN (implicit)\n",
      "2024-10-18 13:38:42,315 INFO sqlalchemy.engine.Engine INSERT INTO customers (id, name, email, age, city) VALUES (?, ?, ?, ?, ?)\n",
      "2024-10-18 13:38:42,315 INFO sqlalchemy.engine.Engine [cached since 0.727s ago] ('65', 'Victoria Perez', 'lolson@yahoo.com', '53', 'West Zacharytown')\n",
      "2024-10-18 13:38:42,317 INFO sqlalchemy.engine.Engine COMMIT\n",
      "2024-10-18 13:38:42,325 INFO sqlalchemy.engine.Engine BEGIN (implicit)\n",
      "2024-10-18 13:38:42,326 INFO sqlalchemy.engine.Engine INSERT INTO customers (id, name, email, age, city) VALUES (?, ?, ?, ?, ?)\n",
      "2024-10-18 13:38:42,327 INFO sqlalchemy.engine.Engine [cached since 0.7393s ago] ('66', 'Anthony Sanders', 'abigail28@kramer.com', '54', 'Michaelshire')\n",
      "2024-10-18 13:38:42,330 INFO sqlalchemy.engine.Engine COMMIT\n",
      "2024-10-18 13:38:42,342 INFO sqlalchemy.engine.Engine BEGIN (implicit)\n",
      "2024-10-18 13:38:42,344 INFO sqlalchemy.engine.Engine INSERT INTO customers (id, name, email, age, city) VALUES (?, ?, ?, ?, ?)\n",
      "2024-10-18 13:38:42,345 INFO sqlalchemy.engine.Engine [cached since 0.7572s ago] ('67', 'John Ortiz', 'ujenkins@gmail.com', '46', 'Markshire')\n",
      "2024-10-18 13:38:42,347 INFO sqlalchemy.engine.Engine COMMIT\n",
      "2024-10-18 13:38:42,355 INFO sqlalchemy.engine.Engine BEGIN (implicit)\n",
      "2024-10-18 13:38:42,355 INFO sqlalchemy.engine.Engine INSERT INTO customers (id, name, email, age, city) VALUES (?, ?, ?, ?, ?)\n",
      "2024-10-18 13:38:42,356 INFO sqlalchemy.engine.Engine [cached since 0.768s ago] ('68', 'Megan Davis', 'vroman@crane.net', '71', 'Kerryton')\n",
      "2024-10-18 13:38:42,357 INFO sqlalchemy.engine.Engine COMMIT\n",
      "2024-10-18 13:38:42,364 INFO sqlalchemy.engine.Engine BEGIN (implicit)\n",
      "2024-10-18 13:38:42,365 INFO sqlalchemy.engine.Engine INSERT INTO customers (id, name, email, age, city) VALUES (?, ?, ?, ?, ?)\n",
      "2024-10-18 13:38:42,365 INFO sqlalchemy.engine.Engine [cached since 0.7775s ago] ('69', 'Joseph Coleman', 'kevans@schmidt-brewer.com', '76', 'Port Jessicatown')\n",
      "2024-10-18 13:38:42,367 INFO sqlalchemy.engine.Engine COMMIT\n",
      "2024-10-18 13:38:42,375 INFO sqlalchemy.engine.Engine BEGIN (implicit)\n",
      "2024-10-18 13:38:42,377 INFO sqlalchemy.engine.Engine INSERT INTO customers (id, name, email, age, city) VALUES (?, ?, ?, ?, ?)\n",
      "2024-10-18 13:38:42,378 INFO sqlalchemy.engine.Engine [cached since 0.7898s ago] ('70', 'Stephanie Lopez', 'melissabush@yahoo.com', '43', 'Parkerside')\n",
      "2024-10-18 13:38:42,379 INFO sqlalchemy.engine.Engine COMMIT\n",
      "2024-10-18 13:38:42,386 INFO sqlalchemy.engine.Engine BEGIN (implicit)\n",
      "2024-10-18 13:38:42,387 INFO sqlalchemy.engine.Engine INSERT INTO customers (id, name, email, age, city) VALUES (?, ?, ?, ?, ?)\n",
      "2024-10-18 13:38:42,387 INFO sqlalchemy.engine.Engine [cached since 0.8001s ago] ('71', 'Matthew Gallagher', 'maria68@scott.com', '80', 'Brittanyburgh')\n",
      "2024-10-18 13:38:42,388 INFO sqlalchemy.engine.Engine COMMIT\n",
      "2024-10-18 13:38:42,397 INFO sqlalchemy.engine.Engine BEGIN (implicit)\n",
      "2024-10-18 13:38:42,398 INFO sqlalchemy.engine.Engine INSERT INTO customers (id, name, email, age, city) VALUES (?, ?, ?, ?, ?)\n",
      "2024-10-18 13:38:42,398 INFO sqlalchemy.engine.Engine [cached since 0.8107s ago] ('72', 'Sean Berger', 'tylerdaniel@yahoo.com', '23', 'Lake Thomasborough')\n",
      "2024-10-18 13:38:42,401 INFO sqlalchemy.engine.Engine COMMIT\n",
      "2024-10-18 13:38:42,408 INFO sqlalchemy.engine.Engine BEGIN (implicit)\n",
      "2024-10-18 13:38:42,408 INFO sqlalchemy.engine.Engine INSERT INTO customers (id, name, email, age, city) VALUES (?, ?, ?, ?, ?)\n",
      "2024-10-18 13:38:42,410 INFO sqlalchemy.engine.Engine [cached since 0.8218s ago] ('73', 'Michael James', 'stacey08@jefferson.info', '30', 'Valdeztown')\n",
      "2024-10-18 13:38:42,411 INFO sqlalchemy.engine.Engine COMMIT\n",
      "2024-10-18 13:38:42,419 INFO sqlalchemy.engine.Engine BEGIN (implicit)\n",
      "2024-10-18 13:38:42,419 INFO sqlalchemy.engine.Engine INSERT INTO customers (id, name, email, age, city) VALUES (?, ?, ?, ?, ?)\n",
      "2024-10-18 13:38:42,420 INFO sqlalchemy.engine.Engine [cached since 0.8313s ago] ('74', 'Kevin Hood', 'zgarcia@jones.biz', '27', 'Beckerhaven')\n",
      "2024-10-18 13:38:42,420 INFO sqlalchemy.engine.Engine COMMIT\n",
      "2024-10-18 13:38:42,427 INFO sqlalchemy.engine.Engine BEGIN (implicit)\n",
      "2024-10-18 13:38:42,428 INFO sqlalchemy.engine.Engine INSERT INTO customers (id, name, email, age, city) VALUES (?, ?, ?, ?, ?)\n",
      "2024-10-18 13:38:42,428 INFO sqlalchemy.engine.Engine [cached since 0.8405s ago] ('75', 'Bailey Gilbert', 'williemartinez@torres.org', '46', 'East Jason')\n",
      "2024-10-18 13:38:42,430 INFO sqlalchemy.engine.Engine COMMIT\n",
      "2024-10-18 13:38:42,438 INFO sqlalchemy.engine.Engine BEGIN (implicit)\n",
      "2024-10-18 13:38:42,439 INFO sqlalchemy.engine.Engine INSERT INTO customers (id, name, email, age, city) VALUES (?, ?, ?, ?, ?)\n",
      "2024-10-18 13:38:42,439 INFO sqlalchemy.engine.Engine [cached since 0.8512s ago] ('76', 'Juan Gill', 'nicholas86@hotmail.com', '37', 'Port Christopherhaven')\n",
      "2024-10-18 13:38:42,441 INFO sqlalchemy.engine.Engine COMMIT\n",
      "2024-10-18 13:38:42,448 INFO sqlalchemy.engine.Engine BEGIN (implicit)\n",
      "2024-10-18 13:38:42,449 INFO sqlalchemy.engine.Engine INSERT INTO customers (id, name, email, age, city) VALUES (?, ?, ?, ?, ?)\n",
      "2024-10-18 13:38:42,449 INFO sqlalchemy.engine.Engine [cached since 0.861s ago] ('77', 'John Hunter', 'cuevastony@martinez-rowe.biz', '59', 'South Sandyside')\n",
      "2024-10-18 13:38:42,450 INFO sqlalchemy.engine.Engine COMMIT\n",
      "2024-10-18 13:38:42,458 INFO sqlalchemy.engine.Engine BEGIN (implicit)\n",
      "2024-10-18 13:38:42,458 INFO sqlalchemy.engine.Engine INSERT INTO customers (id, name, email, age, city) VALUES (?, ?, ?, ?, ?)\n",
      "2024-10-18 13:38:42,460 INFO sqlalchemy.engine.Engine [cached since 0.872s ago] ('78', 'William Ortiz', 'xschwartz@patton-turner.com', '37', 'Port Michaelton')\n",
      "2024-10-18 13:38:42,462 INFO sqlalchemy.engine.Engine COMMIT\n",
      "2024-10-18 13:38:42,471 INFO sqlalchemy.engine.Engine BEGIN (implicit)\n",
      "2024-10-18 13:38:42,472 INFO sqlalchemy.engine.Engine INSERT INTO customers (id, name, email, age, city) VALUES (?, ?, ?, ?, ?)\n",
      "2024-10-18 13:38:42,473 INFO sqlalchemy.engine.Engine [cached since 0.8849s ago] ('79', 'Emily Garcia', 'smithmichael@hotmail.com', '43', 'Russellfort')\n",
      "2024-10-18 13:38:42,475 INFO sqlalchemy.engine.Engine COMMIT\n",
      "2024-10-18 13:38:42,483 INFO sqlalchemy.engine.Engine BEGIN (implicit)\n",
      "2024-10-18 13:38:42,484 INFO sqlalchemy.engine.Engine INSERT INTO customers (id, name, email, age, city) VALUES (?, ?, ?, ?, ?)\n",
      "2024-10-18 13:38:42,485 INFO sqlalchemy.engine.Engine [cached since 0.8969s ago] ('80', 'Caleb Shannon', 'johnsontina@hotmail.com', '24', 'Washingtonberg')\n",
      "2024-10-18 13:38:42,487 INFO sqlalchemy.engine.Engine COMMIT\n",
      "2024-10-18 13:38:42,496 INFO sqlalchemy.engine.Engine BEGIN (implicit)\n",
      "2024-10-18 13:38:42,496 INFO sqlalchemy.engine.Engine INSERT INTO customers (id, name, email, age, city) VALUES (?, ?, ?, ?, ?)\n",
      "2024-10-18 13:38:42,497 INFO sqlalchemy.engine.Engine [cached since 0.9091s ago] ('81', 'Jennifer Grant', 'ashley81@sherman.info', '77', 'Wilkersonfort')\n",
      "2024-10-18 13:38:42,500 INFO sqlalchemy.engine.Engine COMMIT\n",
      "2024-10-18 13:38:42,507 INFO sqlalchemy.engine.Engine BEGIN (implicit)\n",
      "2024-10-18 13:38:42,509 INFO sqlalchemy.engine.Engine INSERT INTO customers (id, name, email, age, city) VALUES (?, ?, ?, ?, ?)\n",
      "2024-10-18 13:38:42,509 INFO sqlalchemy.engine.Engine [cached since 0.921s ago] ('82', 'Jeremy Thompson', 'kristen69@brown-williams.com', '79', 'Port Joe')\n",
      "2024-10-18 13:38:42,511 INFO sqlalchemy.engine.Engine COMMIT\n",
      "2024-10-18 13:38:42,518 INFO sqlalchemy.engine.Engine BEGIN (implicit)\n",
      "2024-10-18 13:38:42,520 INFO sqlalchemy.engine.Engine INSERT INTO customers (id, name, email, age, city) VALUES (?, ?, ?, ?, ?)\n",
      "2024-10-18 13:38:42,521 INFO sqlalchemy.engine.Engine [cached since 0.9329s ago] ('83', 'John Hudson', 'leenicole@zimmerman.com', '19', 'Port Diane')\n",
      "2024-10-18 13:38:42,523 INFO sqlalchemy.engine.Engine COMMIT\n",
      "2024-10-18 13:38:42,532 INFO sqlalchemy.engine.Engine BEGIN (implicit)\n",
      "2024-10-18 13:38:42,533 INFO sqlalchemy.engine.Engine INSERT INTO customers (id, name, email, age, city) VALUES (?, ?, ?, ?, ?)\n",
      "2024-10-18 13:38:42,533 INFO sqlalchemy.engine.Engine [cached since 0.945s ago] ('84', 'Michael Lozano', 'stephanie04@gmail.com', '33', 'Davidview')\n",
      "2024-10-18 13:38:42,535 INFO sqlalchemy.engine.Engine COMMIT\n",
      "2024-10-18 13:38:42,542 INFO sqlalchemy.engine.Engine BEGIN (implicit)\n",
      "2024-10-18 13:38:42,543 INFO sqlalchemy.engine.Engine INSERT INTO customers (id, name, email, age, city) VALUES (?, ?, ?, ?, ?)\n",
      "2024-10-18 13:38:42,544 INFO sqlalchemy.engine.Engine [cached since 0.9559s ago] ('85', 'Jonathan Campbell', 'chadcook@hotmail.com', '63', 'New Sheri')\n",
      "2024-10-18 13:38:42,546 INFO sqlalchemy.engine.Engine COMMIT\n",
      "2024-10-18 13:38:42,553 INFO sqlalchemy.engine.Engine BEGIN (implicit)\n",
      "2024-10-18 13:38:42,554 INFO sqlalchemy.engine.Engine INSERT INTO customers (id, name, email, age, city) VALUES (?, ?, ?, ?, ?)\n",
      "2024-10-18 13:38:42,555 INFO sqlalchemy.engine.Engine [cached since 0.9668s ago] ('86', 'Matthew Craig', 'wmack@ballard.com', '64', 'Gonzalesmouth')\n",
      "2024-10-18 13:38:42,557 INFO sqlalchemy.engine.Engine COMMIT\n",
      "2024-10-18 13:38:42,564 INFO sqlalchemy.engine.Engine BEGIN (implicit)\n",
      "2024-10-18 13:38:42,565 INFO sqlalchemy.engine.Engine INSERT INTO customers (id, name, email, age, city) VALUES (?, ?, ?, ?, ?)\n",
      "2024-10-18 13:38:42,566 INFO sqlalchemy.engine.Engine [cached since 0.9774s ago] ('87', 'Kathryn Gibson', 'kjacobs@hotmail.com', '71', 'Savannahport')\n",
      "2024-10-18 13:38:42,567 INFO sqlalchemy.engine.Engine COMMIT\n",
      "2024-10-18 13:38:42,573 INFO sqlalchemy.engine.Engine BEGIN (implicit)\n",
      "2024-10-18 13:38:42,574 INFO sqlalchemy.engine.Engine INSERT INTO customers (id, name, email, age, city) VALUES (?, ?, ?, ?, ?)\n",
      "2024-10-18 13:38:42,575 INFO sqlalchemy.engine.Engine [cached since 0.9872s ago] ('88', 'Lauren Brewer', 'fnelson@williams.info', '56', 'Carsonbury')\n",
      "2024-10-18 13:38:42,576 INFO sqlalchemy.engine.Engine COMMIT\n",
      "2024-10-18 13:38:42,584 INFO sqlalchemy.engine.Engine BEGIN (implicit)\n",
      "2024-10-18 13:38:42,585 INFO sqlalchemy.engine.Engine INSERT INTO customers (id, name, email, age, city) VALUES (?, ?, ?, ?, ?)\n",
      "2024-10-18 13:38:42,585 INFO sqlalchemy.engine.Engine [cached since 0.9967s ago] ('89', 'Patrick Gilbert', 'nancygreen@gmail.com', '76', 'Amandaside')\n",
      "2024-10-18 13:38:42,587 INFO sqlalchemy.engine.Engine COMMIT\n",
      "2024-10-18 13:38:42,593 INFO sqlalchemy.engine.Engine BEGIN (implicit)\n",
      "2024-10-18 13:38:42,594 INFO sqlalchemy.engine.Engine INSERT INTO customers (id, name, email, age, city) VALUES (?, ?, ?, ?, ?)\n",
      "2024-10-18 13:38:42,595 INFO sqlalchemy.engine.Engine [cached since 1.007s ago] ('90', 'Barry Rodgers', 'martinezjennifer@hotmail.com', '71', 'West Paulbury')\n",
      "2024-10-18 13:38:42,596 INFO sqlalchemy.engine.Engine COMMIT\n",
      "2024-10-18 13:38:42,604 INFO sqlalchemy.engine.Engine BEGIN (implicit)\n",
      "2024-10-18 13:38:42,605 INFO sqlalchemy.engine.Engine INSERT INTO customers (id, name, email, age, city) VALUES (?, ?, ?, ?, ?)\n",
      "2024-10-18 13:38:42,605 INFO sqlalchemy.engine.Engine [cached since 1.018s ago] ('91', 'Ashley Watkins', 'jessica61@gmail.com', '66', 'Manuelland')\n",
      "2024-10-18 13:38:42,607 INFO sqlalchemy.engine.Engine COMMIT\n",
      "2024-10-18 13:38:42,614 INFO sqlalchemy.engine.Engine BEGIN (implicit)\n",
      "2024-10-18 13:38:42,615 INFO sqlalchemy.engine.Engine INSERT INTO customers (id, name, email, age, city) VALUES (?, ?, ?, ?, ?)\n",
      "2024-10-18 13:38:42,616 INFO sqlalchemy.engine.Engine [cached since 1.027s ago] ('92', 'Joshua Guzman', 'heidimclaughlin@gmail.com', '72', 'Craigbury')\n",
      "2024-10-18 13:38:42,617 INFO sqlalchemy.engine.Engine COMMIT\n",
      "2024-10-18 13:38:42,624 INFO sqlalchemy.engine.Engine BEGIN (implicit)\n",
      "2024-10-18 13:38:42,625 INFO sqlalchemy.engine.Engine INSERT INTO customers (id, name, email, age, city) VALUES (?, ?, ?, ?, ?)\n",
      "2024-10-18 13:38:42,626 INFO sqlalchemy.engine.Engine [cached since 1.038s ago] ('93', 'Christina Edwards', 'fernando61@yahoo.com', '26', 'Powellbury')\n",
      "2024-10-18 13:38:42,627 INFO sqlalchemy.engine.Engine COMMIT\n",
      "2024-10-18 13:38:42,634 INFO sqlalchemy.engine.Engine BEGIN (implicit)\n",
      "2024-10-18 13:38:42,635 INFO sqlalchemy.engine.Engine INSERT INTO customers (id, name, email, age, city) VALUES (?, ?, ?, ?, ?)\n",
      "2024-10-18 13:38:42,636 INFO sqlalchemy.engine.Engine [cached since 1.048s ago] ('94', 'Steve Rhodes', 'kbrown@snyder-harrell.com', '46', 'Boyleville')\n",
      "2024-10-18 13:38:42,637 INFO sqlalchemy.engine.Engine COMMIT\n",
      "2024-10-18 13:38:42,644 INFO sqlalchemy.engine.Engine BEGIN (implicit)\n",
      "2024-10-18 13:38:42,645 INFO sqlalchemy.engine.Engine INSERT INTO customers (id, name, email, age, city) VALUES (?, ?, ?, ?, ?)\n",
      "2024-10-18 13:38:42,645 INFO sqlalchemy.engine.Engine [cached since 1.058s ago] ('95', 'Sara Weaver', 'amberbrown@williams.net', '18', 'Michellefort')\n",
      "2024-10-18 13:38:42,647 INFO sqlalchemy.engine.Engine COMMIT\n",
      "2024-10-18 13:38:42,655 INFO sqlalchemy.engine.Engine BEGIN (implicit)\n",
      "2024-10-18 13:38:42,656 INFO sqlalchemy.engine.Engine INSERT INTO customers (id, name, email, age, city) VALUES (?, ?, ?, ?, ?)\n",
      "2024-10-18 13:38:42,656 INFO sqlalchemy.engine.Engine [cached since 1.068s ago] ('96', 'Jasmine Howard', 'qjohnson@yahoo.com', '64', 'Choitown')\n",
      "2024-10-18 13:38:42,657 INFO sqlalchemy.engine.Engine COMMIT\n",
      "2024-10-18 13:38:42,664 INFO sqlalchemy.engine.Engine BEGIN (implicit)\n",
      "2024-10-18 13:38:42,665 INFO sqlalchemy.engine.Engine INSERT INTO customers (id, name, email, age, city) VALUES (?, ?, ?, ?, ?)\n",
      "2024-10-18 13:38:42,665 INFO sqlalchemy.engine.Engine [cached since 1.077s ago] ('97', 'Michelle Hernandez', 'sharon23@gmail.com', '21', 'Port Christopherburgh')\n",
      "2024-10-18 13:38:42,667 INFO sqlalchemy.engine.Engine COMMIT\n",
      "2024-10-18 13:38:42,674 INFO sqlalchemy.engine.Engine BEGIN (implicit)\n",
      "2024-10-18 13:38:42,674 INFO sqlalchemy.engine.Engine INSERT INTO customers (id, name, email, age, city) VALUES (?, ?, ?, ?, ?)\n",
      "2024-10-18 13:38:42,675 INFO sqlalchemy.engine.Engine [cached since 1.087s ago] ('98', 'Kimberly Johnston', 'jasmine89@martinez.org', '31', 'North Garyview')\n",
      "2024-10-18 13:38:42,676 INFO sqlalchemy.engine.Engine COMMIT\n",
      "2024-10-18 13:38:42,683 INFO sqlalchemy.engine.Engine BEGIN (implicit)\n",
      "2024-10-18 13:38:42,684 INFO sqlalchemy.engine.Engine INSERT INTO customers (id, name, email, age, city) VALUES (?, ?, ?, ?, ?)\n",
      "2024-10-18 13:38:42,684 INFO sqlalchemy.engine.Engine [cached since 1.096s ago] ('99', 'Christina Harris', 'zward@garcia-brown.org', '21', 'Port Melissachester')\n",
      "2024-10-18 13:38:42,686 INFO sqlalchemy.engine.Engine COMMIT\n",
      "2024-10-18 13:38:42,692 INFO sqlalchemy.engine.Engine BEGIN (implicit)\n",
      "2024-10-18 13:38:42,693 INFO sqlalchemy.engine.Engine INSERT INTO customers (id, name, email, age, city) VALUES (?, ?, ?, ?, ?)\n",
      "2024-10-18 13:38:42,694 INFO sqlalchemy.engine.Engine [cached since 1.106s ago] ('100', 'Jeff Owen', 'sandra05@yahoo.com', '75', 'West Angela')\n",
      "2024-10-18 13:38:42,695 INFO sqlalchemy.engine.Engine COMMIT\n"
     ]
    }
   ],
   "source": [
    "from sqlalchemy.orm import sessionmaker\n",
    "\n",
    "Session = sessionmaker(bind=engine)\n",
    "session=Session()\n",
    "\n",
    "customers=generate_customer_list()\n",
    "\n",
    "for customer in customers:\n",
    "    session.add(customer)\n",
    "    session.commit()\n",
    "\n",
    "\n"
   ]
  },
  {
   "cell_type": "code",
   "execution_count": null,
   "id": "6bb8e8f4-5ff6-4966-b6ce-ec3ecae54008",
   "metadata": {},
   "outputs": [],
   "source": []
  }
 ],
 "metadata": {
  "kernelspec": {
   "display_name": "Python 3 (ipykernel)",
   "language": "python",
   "name": "python3"
  },
  "language_info": {
   "codemirror_mode": {
    "name": "ipython",
    "version": 3
   },
   "file_extension": ".py",
   "mimetype": "text/x-python",
   "name": "python",
   "nbconvert_exporter": "python",
   "pygments_lexer": "ipython3",
   "version": "3.12.4"
  }
 },
 "nbformat": 4,
 "nbformat_minor": 5
}
