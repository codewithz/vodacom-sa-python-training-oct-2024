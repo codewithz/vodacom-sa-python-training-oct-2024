{
 "cells": [
  {
   "cell_type": "markdown",
   "id": "bd2b29df-7c86-42ce-a41e-c26b481ac18c",
   "metadata": {},
   "source": [
    "## Simple Function"
   ]
  },
  {
   "cell_type": "code",
   "execution_count": 3,
   "id": "5d0baf62-b851-4aec-89fe-7920fbc43e3e",
   "metadata": {},
   "outputs": [],
   "source": [
    "def greet():\n",
    "    print(\"Hi There\")\n",
    "    print(\"Welcome Aboard\")\n",
    "    "
   ]
  },
  {
   "cell_type": "code",
   "execution_count": 5,
   "id": "e068361a-7425-478f-9538-4ab5ccbfcb77",
   "metadata": {},
   "outputs": [
    {
     "name": "stdout",
     "output_type": "stream",
     "text": [
      "Hi There\n",
      "Welcome Aboard\n"
     ]
    }
   ],
   "source": [
    "greet()"
   ]
  },
  {
   "cell_type": "markdown",
   "id": "0277e415-3233-4b9e-bcd0-0b5ef2d4a805",
   "metadata": {},
   "source": [
    "### Function with Parameters\n"
   ]
  },
  {
   "cell_type": "code",
   "execution_count": 8,
   "id": "8b324b17-6d44-4acc-a899-b46e07eb39fe",
   "metadata": {},
   "outputs": [],
   "source": [
    "def add_two_numbers(one,two):\n",
    "    print(f\"Addition of {one} and {two} is \",(one+two))"
   ]
  },
  {
   "cell_type": "code",
   "execution_count": 10,
   "id": "466ee737-10a2-44f7-af71-b07ac667b2a7",
   "metadata": {},
   "outputs": [
    {
     "name": "stdout",
     "output_type": "stream",
     "text": [
      "Addition of 3 and 6 is  9\n"
     ]
    }
   ],
   "source": [
    "add_two_numbers(3,6)"
   ]
  },
  {
   "cell_type": "markdown",
   "id": "fa000e52-1127-4632-85f1-c1c8543e70db",
   "metadata": {},
   "source": [
    "### FUNCTION WITH RETURN TYPE\n"
   ]
  },
  {
   "cell_type": "code",
   "execution_count": 13,
   "id": "56ca9306-d757-447d-8142-7ba3d65901f3",
   "metadata": {},
   "outputs": [],
   "source": [
    "def get_greeting(name):\n",
    "    greeting=f\"Hi {name.upper()}\"\n",
    "    return greeting"
   ]
  },
  {
   "cell_type": "code",
   "execution_count": 15,
   "id": "ef678c91-917d-4b5f-9463-66263bcad1fb",
   "metadata": {},
   "outputs": [
    {
     "name": "stdout",
     "output_type": "stream",
     "text": [
      "Hi TOM\n"
     ]
    }
   ],
   "source": [
    "greeting_for_tom=get_greeting(\"Tom\")\n",
    "print(greeting_for_tom)"
   ]
  },
  {
   "cell_type": "code",
   "execution_count": 17,
   "id": "26878f45-9dc3-4808-8a15-b52866d8efba",
   "metadata": {},
   "outputs": [],
   "source": [
    "# Send this in an email\n",
    "# Store this in DB\n",
    "# Store it in a file\n",
    "# Send it over a network\n",
    "# Print in log"
   ]
  },
  {
   "cell_type": "markdown",
   "id": "23f22fa1-2e7d-4b64-bb29-c8cf917fc9d1",
   "metadata": {},
   "source": [
    "## Keyword Arguments\n"
   ]
  },
  {
   "cell_type": "code",
   "execution_count": 20,
   "id": "35c50678-5b99-42fe-b064-27a5642a6cce",
   "metadata": {},
   "outputs": [],
   "source": [
    "# Increment a number after it's factorial is calculated"
   ]
  },
  {
   "cell_type": "code",
   "execution_count": 22,
   "id": "77b9036b-5f92-4500-a5a7-a384e3246a0e",
   "metadata": {},
   "outputs": [],
   "source": [
    "import math\n",
    "\n",
    "def increment_after_factorial(number,by):\n",
    "    factorialed_number=math.factorial(number)\n",
    "    add_to_factorial=factorialed_number+by\n",
    "    return add_to_factorial"
   ]
  },
  {
   "cell_type": "code",
   "execution_count": 30,
   "id": "fa160ad3-30a3-495b-a07d-c69d0779cd82",
   "metadata": {},
   "outputs": [
    {
     "name": "stdout",
     "output_type": "stream",
     "text": [
      "Factorial of 5 plus  4  is  124\n",
      "Factorial of 6 plus  2 is  722\n"
     ]
    }
   ],
   "source": [
    "print(\"Factorial of 5 plus  4  is \",increment_after_factorial(5,4))\n",
    "print(\"Factorial of 6 plus  2 is \",increment_after_factorial(6,2))"
   ]
  },
  {
   "cell_type": "code",
   "execution_count": 32,
   "id": "20c424d4-c325-4101-80af-8e17f6cf725f",
   "metadata": {},
   "outputs": [
    {
     "name": "stdout",
     "output_type": "stream",
     "text": [
      "Factorial of 8 plus  3 is  40323\n",
      "Factorial of 4 plus  5 is  29\n"
     ]
    }
   ],
   "source": [
    "print(\"Factorial of 8 plus  3 is \",increment_after_factorial(number=8,by=3))\n",
    "print(\"Factorial of 4 plus  5 is \",increment_after_factorial(by=5,number=4))"
   ]
  },
  {
   "cell_type": "markdown",
   "id": "89d02230-eb15-48b2-b130-e71017948e72",
   "metadata": {},
   "source": [
    "#### Default Argument"
   ]
  },
  {
   "cell_type": "code",
   "execution_count": 39,
   "id": "b2af6050-962a-4814-8ce6-5fa9538954f3",
   "metadata": {},
   "outputs": [],
   "source": [
    "def increment(number,by=1):\n",
    "    print(f\"{number} incremented by {by} is {number+by}\")\n",
    "    "
   ]
  },
  {
   "cell_type": "code",
   "execution_count": 37,
   "id": "f9404996-5403-4ee3-8901-1cfb534c98d8",
   "metadata": {},
   "outputs": [
    {
     "name": "stdout",
     "output_type": "stream",
     "text": [
      "4 incremented by 1 is 5\n"
     ]
    }
   ],
   "source": [
    "increment(4,1)"
   ]
  },
  {
   "cell_type": "code",
   "execution_count": 41,
   "id": "4d770e0a-a198-460a-a960-1dba474f1937",
   "metadata": {},
   "outputs": [
    {
     "name": "stdout",
     "output_type": "stream",
     "text": [
      "5 incremented by 1 is 6\n"
     ]
    }
   ],
   "source": [
    "increment(5)"
   ]
  },
  {
   "cell_type": "code",
   "execution_count": 43,
   "id": "3157871c-8cc5-4a95-810f-7079169820c2",
   "metadata": {},
   "outputs": [
    {
     "name": "stdout",
     "output_type": "stream",
     "text": [
      "10 incremented by 1 is 11\n"
     ]
    }
   ],
   "source": [
    "increment(10)"
   ]
  },
  {
   "cell_type": "code",
   "execution_count": 45,
   "id": "8b1173f2-0c1f-4e73-9e89-f471e2caf74b",
   "metadata": {},
   "outputs": [
    {
     "name": "stdout",
     "output_type": "stream",
     "text": [
      "11 incremented by 3 is 14\n"
     ]
    }
   ],
   "source": [
    "increment(11,3)"
   ]
  },
  {
   "cell_type": "markdown",
   "id": "2b669140-558a-4ee6-8ad2-9580f7811b8d",
   "metadata": {},
   "source": [
    "#### Varying Arguments"
   ]
  },
  {
   "cell_type": "code",
   "execution_count": 62,
   "id": "e17aba19-ef59-486a-847e-b048d30109fa",
   "metadata": {},
   "outputs": [],
   "source": [
    "def multiply(*numbers):\n",
    "    print(type(numbers))\n",
    "    total=1\n",
    "    for number in numbers:\n",
    "        total=total*number\n",
    "    return total"
   ]
  },
  {
   "cell_type": "code",
   "execution_count": 64,
   "id": "a6ce018d-46fc-4dc0-9e9f-780c5463ba9b",
   "metadata": {},
   "outputs": [
    {
     "name": "stdout",
     "output_type": "stream",
     "text": [
      "<class 'tuple'>\n",
      "5\n"
     ]
    }
   ],
   "source": [
    "result=multiply(5)\n",
    "print(result)"
   ]
  },
  {
   "cell_type": "code",
   "execution_count": 66,
   "id": "487a1ab2-36f9-43f1-9c40-01d9b523d844",
   "metadata": {},
   "outputs": [
    {
     "name": "stdout",
     "output_type": "stream",
     "text": [
      "<class 'tuple'>\n",
      "210\n"
     ]
    }
   ],
   "source": [
    "result=multiply(5,6,7)\n",
    "print(result)"
   ]
  },
  {
   "cell_type": "code",
   "execution_count": 68,
   "id": "e43ad4ed-12d9-49d8-95a5-5853671b16c7",
   "metadata": {},
   "outputs": [
    {
     "name": "stdout",
     "output_type": "stream",
     "text": [
      "<class 'tuple'>\n",
      "120\n"
     ]
    }
   ],
   "source": [
    "result=multiply(1,2,3,4,5)\n",
    "print(result)"
   ]
  },
  {
   "cell_type": "code",
   "execution_count": null,
   "id": "9a6bd436-4b02-4986-ae03-d6a5597e367d",
   "metadata": {},
   "outputs": [],
   "source": []
  }
 ],
 "metadata": {
  "kernelspec": {
   "display_name": "Python 3 (ipykernel)",
   "language": "python",
   "name": "python3"
  },
  "language_info": {
   "codemirror_mode": {
    "name": "ipython",
    "version": 3
   },
   "file_extension": ".py",
   "mimetype": "text/x-python",
   "name": "python",
   "nbconvert_exporter": "python",
   "pygments_lexer": "ipython3",
   "version": "3.12.4"
  }
 },
 "nbformat": 4,
 "nbformat_minor": 5
}
