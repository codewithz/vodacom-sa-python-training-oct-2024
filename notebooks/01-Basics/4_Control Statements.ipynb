{
 "cells": [
  {
   "cell_type": "code",
   "execution_count": null,
   "id": "0d1e7457-6709-4385-afe4-ec8563ee2e32",
   "metadata": {},
   "outputs": [],
   "source": [
    "# If - Else - Elif"
   ]
  },
  {
   "cell_type": "code",
   "execution_count": 3,
   "id": "1af4e5a7",
   "metadata": {},
   "outputs": [
    {
     "name": "stdout",
     "output_type": "stream",
     "text": [
      "Hello\n",
      "These statements are under if block\n",
      "This are out of if Block\n"
     ]
    }
   ],
   "source": [
    "if True:\n",
    "    print(\"Hello\")\n",
    "    print(\"These statements are under if block\")\n",
    "\n",
    "print(\"This are out of if Block\")"
   ]
  },
  {
   "cell_type": "code",
   "execution_count": 2,
   "id": "7622d3e0",
   "metadata": {},
   "outputs": [
    {
     "name": "stdout",
     "output_type": "stream",
     "text": [
      "This are out of if Block\n"
     ]
    }
   ],
   "source": [
    "if False:\n",
    "    print(\"Hello\")\n",
    "    print(\"These statements are under if block\")\n",
    "\n",
    "print(\"This are out of if Block\")"
   ]
  },
  {
   "cell_type": "code",
   "execution_count": 5,
   "id": "afe75dad",
   "metadata": {},
   "outputs": [
    {
     "name": "stdout",
     "output_type": "stream",
     "text": [
      "Number is lesser than 3\n"
     ]
    }
   ],
   "source": [
    "x=2\n",
    "\n",
    "if (x>3):\n",
    "    print(\"Number is greater than 3\")\n",
    "else:\n",
    "    print(\"Number is lesser than 3\")"
   ]
  },
  {
   "cell_type": "code",
   "execution_count": 6,
   "id": "7e80c0a5",
   "metadata": {},
   "outputs": [
    {
     "name": "stdout",
     "output_type": "stream",
     "text": [
      "Enter First Number:10\n",
      "Enter Second Number:30\n",
      "Enter Third Number:20\n",
      "30 is greater than 10 and 20\n"
     ]
    }
   ],
   "source": [
    "#  && -- and\n",
    "# ||  -- or \n",
    "\n",
    "\n",
    "a=int(input(\"Enter First Number:\"))\n",
    "\n",
    "b=int(input(\"Enter Second Number:\"))\n",
    "\n",
    "\n",
    "c=int(input(\"Enter Third Number:\"))\n",
    "\n",
    "\n",
    "if (a>b and a>c):\n",
    "    print(f\"{a} is greater than {b} and {c}\")\n",
    "elif (b>a and b>c):\n",
    "    print(f\"{b} is greater than {a} and {c}\")\n",
    "else:\n",
    "    print(f\"{c} is greater than {b} and {a}\")"
   ]
  },
  {
   "cell_type": "markdown",
   "id": "aec0680b-1234-4de5-a450-4bfa05b461a4",
   "metadata": {},
   "source": [
    "## Operators"
   ]
  },
  {
   "cell_type": "code",
   "execution_count": 7,
   "id": "29abbbcd-4e7a-4df6-ba1b-e08630fe9c0d",
   "metadata": {},
   "outputs": [],
   "source": [
    "# and\n",
    "# or\n",
    "# not\n",
    "\n"
   ]
  },
  {
   "cell_type": "code",
   "execution_count": null,
   "id": "4e997eb7-dcb1-4dfa-838d-173a667a5c06",
   "metadata": {},
   "outputs": [],
   "source": [
    "# Loan Processing System"
   ]
  },
  {
   "cell_type": "code",
   "execution_count": 15,
   "id": "c95520a8-fb8a-4607-b86a-41020924a509",
   "metadata": {},
   "outputs": [],
   "source": [
    "high_income=False\n",
    "good_credit=True\n",
    "is_student=True\n"
   ]
  },
  {
   "cell_type": "code",
   "execution_count": 11,
   "id": "64e6379c-b6e0-4f59-b841-7daac44a2cbc",
   "metadata": {},
   "outputs": [
    {
     "name": "stdout",
     "output_type": "stream",
     "text": [
      "Not Eligible\n"
     ]
    }
   ],
   "source": [
    "if high_income and good_credit:\n",
    "    print(\"Eligible\")\n",
    "else:\n",
    "    print(\"Not Eligible\")\n",
    "    "
   ]
  },
  {
   "cell_type": "code",
   "execution_count": 13,
   "id": "7cbe7524-0278-4572-9a7e-110974c207d0",
   "metadata": {},
   "outputs": [
    {
     "name": "stdout",
     "output_type": "stream",
     "text": [
      "Eligible\n"
     ]
    }
   ],
   "source": [
    "if (high_income or good_credit) and is_student:\n",
    "        print(\"Eligible\")\n",
    "else:\n",
    "    print(\"Not Eligible\")\n",
    "    "
   ]
  },
  {
   "cell_type": "markdown",
   "id": "8d7724d2-0b77-496d-ad3e-2d1c2bec6e07",
   "metadata": {},
   "source": [
    "## Ternary Operator"
   ]
  },
  {
   "cell_type": "code",
   "execution_count": 18,
   "id": "cbde64ca-b237-4503-aea9-31d760abc1b7",
   "metadata": {},
   "outputs": [
    {
     "name": "stdout",
     "output_type": "stream",
     "text": [
      "Eligible Age\n"
     ]
    }
   ],
   "source": [
    "age=19\n",
    "\n",
    "message=\"\"\n",
    "\n",
    "if age>=18:\n",
    "    message=\"Eligible Age\"\n",
    "else:\n",
    "    message=\"Non Eligible Age\"\n",
    "\n",
    "print(message)"
   ]
  },
  {
   "cell_type": "code",
   "execution_count": 22,
   "id": "e71b1a4c-4508-4556-86bd-b3ebf112b29d",
   "metadata": {},
   "outputs": [
    {
     "name": "stdout",
     "output_type": "stream",
     "text": [
      "Non Eligble Age\n"
     ]
    }
   ],
   "source": [
    "age=7\n",
    "\n",
    "message=\"Eligible Age\" if age>=18 else \"Non Eligble Age\"\n",
    "\n",
    "print(message)"
   ]
  },
  {
   "cell_type": "code",
   "execution_count": 25,
   "id": "cf2ebbf9-338b-49a8-a909-55f1723ce6ce",
   "metadata": {},
   "outputs": [],
   "source": [
    "# we want to assign grades based on a score:\n",
    "\n",
    "#  If the score is 90 or above: Grade A\n",
    "# If the score is 80 to 89: Grade B\n",
    "# If the score is 70 to 79: Grade C\n",
    "# Otherwise: Grade F"
   ]
  },
  {
   "cell_type": "code",
   "execution_count": 31,
   "id": "a86e731d-5686-4bd5-9f1b-428de3c6dfc4",
   "metadata": {},
   "outputs": [
    {
     "name": "stdout",
     "output_type": "stream",
     "text": [
      "68 -- F\n"
     ]
    }
   ],
   "source": [
    "score=68\n",
    "\n",
    "grade= \"A\" if score>=90 else \"B\" if score>=80 else \"C\" if score>=70 else \"F\"\n",
    "\n",
    "print(score,\"--\",grade)"
   ]
  },
  {
   "cell_type": "markdown",
   "id": "6e99f56e-b09d-41a5-a922-e8909b8f30e2",
   "metadata": {},
   "source": [
    "## While Loop\n"
   ]
  },
  {
   "cell_type": "code",
   "execution_count": 34,
   "id": "61c6ffa3-58b3-4408-a12b-d5a7747eff71",
   "metadata": {},
   "outputs": [],
   "source": [
    "# Initialization\n",
    "# Condition\n",
    "# Increment/Decrement\n",
    "\n"
   ]
  },
  {
   "cell_type": "code",
   "execution_count": 38,
   "id": "4173188f-56bd-495c-a8b7-7885146bf926",
   "metadata": {},
   "outputs": [
    {
     "name": "stdout",
     "output_type": "stream",
     "text": [
      "1\n",
      "2\n",
      "3\n",
      "4\n",
      "5\n",
      "6\n",
      "7\n",
      "8\n",
      "9\n",
      "10\n"
     ]
    }
   ],
   "source": [
    "number=1\n",
    "\n",
    "while (number<=10):\n",
    "    print(number)\n",
    "    number+=1\n"
   ]
  },
  {
   "cell_type": "code",
   "execution_count": 42,
   "id": "b2e96001-fae4-4af8-9cd2-78bea3dd4ad5",
   "metadata": {},
   "outputs": [
    {
     "name": "stdout",
     "output_type": "stream",
     "text": [
      "100\n",
      "50\n",
      "25\n",
      "12\n",
      "6\n",
      "3\n",
      "1\n"
     ]
    }
   ],
   "source": [
    "number=100\n",
    "\n",
    "while number>0:\n",
    "    print(number)\n",
    "    number=number//2\n",
    "# / Divide \n",
    "# // Floor Divide -- nearest smallest whole number"
   ]
  },
  {
   "cell_type": "code",
   "execution_count": 48,
   "id": "8d891851-1864-4112-bf09-47164910680d",
   "metadata": {},
   "outputs": [
    {
     "name": "stdin",
     "output_type": "stream",
     "text": [
      ">> hu\n"
     ]
    },
    {
     "name": "stdout",
     "output_type": "stream",
     "text": [
      "ECHO: hu\n"
     ]
    },
    {
     "name": "stdin",
     "output_type": "stream",
     "text": [
      ">> QUIT\n"
     ]
    },
    {
     "name": "stdout",
     "output_type": "stream",
     "text": [
      "ECHO: QUIT\n"
     ]
    }
   ],
   "source": [
    "command=\"\"\n",
    "\n",
    "while command.lower() != \"quit\":\n",
    "    command=input(\">>\")\n",
    "    print(\"ECHO:\",command)\n",
    "    \n"
   ]
  },
  {
   "cell_type": "markdown",
   "id": "8df78d24-5ad6-4bf5-941e-afd75b74a1ee",
   "metadata": {},
   "source": [
    "## For Loop"
   ]
  },
  {
   "cell_type": "code",
   "execution_count": 51,
   "id": "8c89d7f8-99a8-44d1-9bfd-36f3e828b5e1",
   "metadata": {},
   "outputs": [
    {
     "name": "stdout",
     "output_type": "stream",
     "text": [
      "1\n",
      "2\n",
      "3\n",
      "4\n",
      "5\n",
      "6\n",
      "7\n",
      "8\n",
      "9\n"
     ]
    }
   ],
   "source": [
    "# for item in items:\n",
    "\n",
    "# for element in collection:\n",
    "\n",
    "for number in range(1,10):\n",
    "    print(number)"
   ]
  },
  {
   "cell_type": "code",
   "execution_count": 53,
   "id": "1cd79190-8c1c-462a-a921-8bc768e0b949",
   "metadata": {},
   "outputs": [
    {
     "name": "stdout",
     "output_type": "stream",
     "text": [
      "Attempt  1 .\n",
      "Attempt  2 ..\n",
      "Attempt  3 ...\n",
      "Attempt  4 ....\n",
      "Attempt  5 .....\n"
     ]
    }
   ],
   "source": [
    "for number in range(1,6):\n",
    "    print(\"Attempt \",number,number*'.')\n"
   ]
  },
  {
   "cell_type": "code",
   "execution_count": 65,
   "id": "bee48def-b06c-491e-b94a-4b5312601f66",
   "metadata": {},
   "outputs": [
    {
     "name": "stdout",
     "output_type": "stream",
     "text": [
      "Attempt :  1\n",
      "Attempting to send a message.\n",
      "Attempt :  2\n",
      "Attempting to send a message.\n",
      "Attempt :  3\n",
      "Attempting to send a message.\n",
      "Message Sent Successfully\n"
     ]
    }
   ],
   "source": [
    "successful=True\n",
    "\n",
    "for attempt in range(1,6):\n",
    "    print(\"Attempt : \",(attempt))\n",
    "    print(\"Attempting to send a message.\")\n",
    "    if(attempt==3 and successful):\n",
    "        print(\"Message Sent Successfully\")\n",
    "        break;\n",
    "else:\n",
    "    print(60*'-')\n",
    "    print(\"Attempted 5 times, message sending failed\")\n",
    "# else after for .. will be executed only if the for loop completed without breaking"
   ]
  },
  {
   "cell_type": "markdown",
   "id": "da859ef0-1326-4e9d-9004-49200ffc287e",
   "metadata": {},
   "source": [
    "# Iterations in Python"
   ]
  },
  {
   "cell_type": "code",
   "execution_count": 68,
   "id": "863de1f3-4886-4f91-95d6-d8dc75bfb19b",
   "metadata": {},
   "outputs": [
    {
     "name": "stdout",
     "output_type": "stream",
     "text": [
      "1\n",
      "2\n",
      "3\n",
      "4\n"
     ]
    }
   ],
   "source": [
    "for x in range(1,5):\n",
    "    print(x)"
   ]
  },
  {
   "cell_type": "code",
   "execution_count": 70,
   "id": "fe7bec21-9e4e-4e90-b952-8bcb8114b9b2",
   "metadata": {},
   "outputs": [
    {
     "name": "stdout",
     "output_type": "stream",
     "text": [
      "1\n",
      "2\n",
      "3\n",
      "4\n",
      "5\n",
      "6\n"
     ]
    }
   ],
   "source": [
    "for x in  [1,2,3,4,5,6]:\n",
    "    print(x)"
   ]
  },
  {
   "cell_type": "code",
   "execution_count": 72,
   "id": "9b6ce5e1-2e07-41b9-b3f6-36f6cd15b158",
   "metadata": {},
   "outputs": [
    {
     "name": "stdout",
     "output_type": "stream",
     "text": [
      "V\n",
      "o\n",
      "d\n",
      "a\n",
      "c\n",
      "o\n",
      "m\n"
     ]
    }
   ],
   "source": [
    "for x in \"Vodacom\":\n",
    "    print(x)"
   ]
  },
  {
   "cell_type": "code",
   "execution_count": 74,
   "id": "9d4ef76d-9982-48de-9671-9ead22d374f4",
   "metadata": {},
   "outputs": [],
   "source": [
    "# *\n",
    "# *  *\n",
    "# *  *  *\n",
    "# *  *  *  *\n",
    "# *  *  *  *  *"
   ]
  },
  {
   "cell_type": "code",
   "execution_count": 88,
   "id": "ece9c54d-7100-45ae-a69e-5326b6c89adc",
   "metadata": {},
   "outputs": [
    {
     "name": "stdout",
     "output_type": "stream",
     "text": [
      "*     \n",
      "*     *     \n",
      "*     *     *     \n",
      "*     *     *     *     \n",
      "*     *     *     *     *     \n"
     ]
    }
   ],
   "source": [
    "rows=5\n",
    "# Outer Loop\n",
    "for i in range(1,rows+1):\n",
    "    # Inner\n",
    "    for j in range(i):\n",
    "        print(\"*\",end=\"     \")\n",
    "    print()\n",
    "    "
   ]
  },
  {
   "cell_type": "code",
   "execution_count": 78,
   "id": "53f644ef-f25e-4211-912e-92b3bbfbb5c3",
   "metadata": {},
   "outputs": [
    {
     "name": "stdout",
     "output_type": "stream",
     "text": [
      "*     \n",
      "*     *     \n",
      "*     *     *     \n",
      "*     *     *     *     \n",
      "*     *     *     *     *     \n"
     ]
    }
   ],
   "source": [
    "rows=5\n",
    "\n",
    "for i in range(1,rows+1):\n",
    "    print(\"*     \"*i)"
   ]
  },
  {
   "cell_type": "code",
   "execution_count": 90,
   "id": "bbf74a83-e7c0-41cd-9853-cb112981a273",
   "metadata": {},
   "outputs": [],
   "source": [
    "# 1\n",
    "# 2   2\n",
    "# 3   3  3\n",
    "# 4   4  4  4\n",
    "# 5   5  5  5  5\n",
    "\n",
    "\n",
    "# 1 \n",
    "# 1  2  \n",
    "# 1  2  3 \n",
    "# 1  2  3  4\n",
    "# 1  2  3  4  5"
   ]
  },
  {
   "cell_type": "markdown",
   "id": "9997fe1a-eced-48fb-9029-41a346f2921e",
   "metadata": {},
   "source": [
    "# Switch Case  [Only available from Python 3.10 and above]"
   ]
  },
  {
   "cell_type": "code",
   "execution_count": 94,
   "id": "c218642f-abe4-44b9-96c8-63f24c59e330",
   "metadata": {},
   "outputs": [],
   "source": [
    "def swith_example(value):\n",
    "    match value:\n",
    "        case 1:\n",
    "            return \"One\"\n",
    "        case 2:\n",
    "            return \"Two\"\n",
    "        case 3:\n",
    "            return \"Three\"\n",
    "        case _:\n",
    "            return \"Unknown\""
   ]
  },
  {
   "cell_type": "code",
   "execution_count": 96,
   "id": "f4f87dee-ee1a-45be-9b8b-5187854b7fa1",
   "metadata": {},
   "outputs": [
    {
     "name": "stdout",
     "output_type": "stream",
     "text": [
      "One\n",
      "Unknown\n"
     ]
    }
   ],
   "source": [
    "print(swith_example(1))\n",
    "print(swith_example(10))"
   ]
  },
  {
   "cell_type": "code",
   "execution_count": null,
   "id": "e44fe8c2-35af-4d99-80bd-b2430f2a0c6c",
   "metadata": {},
   "outputs": [],
   "source": []
  }
 ],
 "metadata": {
  "kernelspec": {
   "display_name": "Python 3 (ipykernel)",
   "language": "python",
   "name": "python3"
  },
  "language_info": {
   "codemirror_mode": {
    "name": "ipython",
    "version": 3
   },
   "file_extension": ".py",
   "mimetype": "text/x-python",
   "name": "python",
   "nbconvert_exporter": "python",
   "pygments_lexer": "ipython3",
   "version": "3.12.4"
  }
 },
 "nbformat": 4,
 "nbformat_minor": 5
}
