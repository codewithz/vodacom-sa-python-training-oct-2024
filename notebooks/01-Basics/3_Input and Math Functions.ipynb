{
 "cells": [
  {
   "cell_type": "markdown",
   "id": "3ca53023",
   "metadata": {},
   "source": [
    "# Input Functions\n"
   ]
  },
  {
   "cell_type": "code",
   "execution_count": 4,
   "id": "48e8764b",
   "metadata": {},
   "outputs": [
    {
     "name": "stdout",
     "output_type": "stream",
     "text": [
      "Enter Name:Zartab\n",
      "Enter Age:33\n"
     ]
    }
   ],
   "source": [
    "name=input(\"Enter Name:\")\n",
    "age=input(\"Enter Age:\")"
   ]
  },
  {
   "cell_type": "code",
   "execution_count": 5,
   "id": "58a15928",
   "metadata": {},
   "outputs": [
    {
     "name": "stdout",
     "output_type": "stream",
     "text": [
      "<class 'str'>\n",
      "<class 'str'>\n"
     ]
    }
   ],
   "source": [
    "print(type(name))\n",
    "print(type(age))"
   ]
  },
  {
   "cell_type": "code",
   "execution_count": 6,
   "id": "483997df",
   "metadata": {},
   "outputs": [
    {
     "name": "stdout",
     "output_type": "stream",
     "text": [
      "Hey Zartab you are 33 years old\n",
      "Next year you will be 34 years old\n"
     ]
    }
   ],
   "source": [
    "age=int(age)\n",
    "print(f\"Hey {name} you are {age} years old\")\n",
    "print(f\"Next year you will be {age+1} years old\")"
   ]
  },
  {
   "cell_type": "markdown",
   "id": "ea2f3282",
   "metadata": {},
   "source": [
    "# Math Functions"
   ]
  },
  {
   "cell_type": "code",
   "execution_count": 7,
   "id": "6313089f",
   "metadata": {},
   "outputs": [
    {
     "name": "stdout",
     "output_type": "stream",
     "text": [
      "Minimum Value: 2\n"
     ]
    }
   ],
   "source": [
    "# In Build Functions \n",
    "\n",
    "min_value=min(5,3,2,4,9,8)\n",
    "print(\"Minimum Value:\",min_value)"
   ]
  },
  {
   "cell_type": "code",
   "execution_count": 8,
   "id": "b8bead96",
   "metadata": {},
   "outputs": [
    {
     "name": "stdout",
     "output_type": "stream",
     "text": [
      "Maximum Value: 9\n"
     ]
    }
   ],
   "source": [
    "max_value=max(5,3,2,4,9,8)\n",
    "print(\"Maximum Value:\",max_value)"
   ]
  },
  {
   "cell_type": "code",
   "execution_count": 9,
   "id": "141c34d9",
   "metadata": {},
   "outputs": [
    {
     "name": "stdout",
     "output_type": "stream",
     "text": [
      "-3\n",
      "3\n"
     ]
    }
   ],
   "source": [
    "a=-3\n",
    "print(a)\n",
    "a=abs(a)\n",
    "print(a)"
   ]
  },
  {
   "cell_type": "code",
   "execution_count": 10,
   "id": "01e8bab1",
   "metadata": {},
   "outputs": [
    {
     "name": "stdout",
     "output_type": "stream",
     "text": [
      "4 to the power of 3 is  64\n"
     ]
    }
   ],
   "source": [
    "# Pow \n",
    "\n",
    "cube_of_four=pow(4,3)\n",
    "print(\"4 to the power of 3 is \",cube_of_four)"
   ]
  },
  {
   "cell_type": "code",
   "execution_count": 15,
   "id": "065f55a6",
   "metadata": {},
   "outputs": [],
   "source": [
    "import math\n",
    "\n",
    "# dir(math)"
   ]
  },
  {
   "cell_type": "code",
   "execution_count": 12,
   "id": "33dbb41e",
   "metadata": {},
   "outputs": [
    {
     "name": "stdout",
     "output_type": "stream",
     "text": [
      "PI: 3.141592653589793\n"
     ]
    }
   ],
   "source": [
    "print(\"PI:\",math.pi)"
   ]
  },
  {
   "cell_type": "code",
   "execution_count": 13,
   "id": "2f231d88",
   "metadata": {},
   "outputs": [
    {
     "name": "stdout",
     "output_type": "stream",
     "text": [
      "Square Root of 64 is  8.0\n"
     ]
    }
   ],
   "source": [
    "print (\"Square Root of 64 is \",math.sqrt(64))"
   ]
  },
  {
   "cell_type": "code",
   "execution_count": 14,
   "id": "6903aadc",
   "metadata": {},
   "outputs": [
    {
     "name": "stdout",
     "output_type": "stream",
     "text": [
      "Remainder when 5 is divided by 2: 1.0\n"
     ]
    }
   ],
   "source": [
    "print(\"Remainder when 5 is divided by 2:\",math.remainder(5,2))"
   ]
  },
  {
   "cell_type": "code",
   "execution_count": 16,
   "id": "6c1c509e",
   "metadata": {},
   "outputs": [
    {
     "name": "stdout",
     "output_type": "stream",
     "text": [
      "Factorial of 4 is  24\n"
     ]
    }
   ],
   "source": [
    "print(\"Factorial of 4 is \",math.factorial(4))"
   ]
  },
  {
   "cell_type": "code",
   "execution_count": null,
   "id": "779ca577",
   "metadata": {},
   "outputs": [],
   "source": []
  }
 ],
 "metadata": {
  "kernelspec": {
   "display_name": "Python 3 (ipykernel)",
   "language": "python",
   "name": "python3"
  },
  "language_info": {
   "codemirror_mode": {
    "name": "ipython",
    "version": 3
   },
   "file_extension": ".py",
   "mimetype": "text/x-python",
   "name": "python",
   "nbconvert_exporter": "python",
   "pygments_lexer": "ipython3",
   "version": "3.11.5"
  }
 },
 "nbformat": 4,
 "nbformat_minor": 5
}
