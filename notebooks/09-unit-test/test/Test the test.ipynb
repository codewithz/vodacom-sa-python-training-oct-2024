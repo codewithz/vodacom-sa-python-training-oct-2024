{
 "cells": [
  {
   "cell_type": "code",
   "execution_count": 1,
   "id": "c42cd800-42c4-4812-a3b1-aed6d79af4eb",
   "metadata": {},
   "outputs": [
    {
     "name": "stderr",
     "output_type": "stream",
     "text": [
      "....\n",
      "----------------------------------------------------------------------\n",
      "Ran 4 tests in 0.000s\n",
      "\n",
      "OK\n"
     ]
    }
   ],
   "source": [
    "!python test_calculator.py"
   ]
  },
  {
   "cell_type": "code",
   "execution_count": 13,
   "id": "83320713-270e-4a15-ab01-1e2a65d1d8cc",
   "metadata": {},
   "outputs": [
    {
     "name": "stdout",
     "output_type": "stream",
     "text": [
      "Requirement already satisfied: coverage in c:\\users\\victus\\anaconda36\\lib\\site-packages (7.6.3)\n"
     ]
    }
   ],
   "source": [
    "!pip install coverage\n"
   ]
  },
  {
   "cell_type": "code",
   "execution_count": 7,
   "id": "2032440c-e511-4c1e-8078-db8ba13b0b4a",
   "metadata": {},
   "outputs": [
    {
     "name": "stderr",
     "output_type": "stream",
     "text": [
      "....\n",
      "----------------------------------------------------------------------\n",
      "Ran 4 tests in 0.001s\n",
      "\n",
      "OK\n"
     ]
    }
   ],
   "source": [
    "!coverage run test_calculator.py"
   ]
  },
  {
   "cell_type": "code",
   "execution_count": 9,
   "id": "69076cbb-43f1-4195-835f-2cfbd7ef43a0",
   "metadata": {},
   "outputs": [
    {
     "name": "stdout",
     "output_type": "stream",
     "text": [
      "Name                 Stmts   Miss  Cover\n",
      "----------------------------------------\n",
      "calculator.py           10      0   100%\n",
      "test_calculator.py      27      0   100%\n",
      "----------------------------------------\n",
      "TOTAL                   37      0   100%\n"
     ]
    }
   ],
   "source": [
    "!coverage report\n"
   ]
  },
  {
   "cell_type": "code",
   "execution_count": 11,
   "id": "bf8f63af-6323-49f9-a6f4-0d44aa1447ac",
   "metadata": {},
   "outputs": [
    {
     "name": "stdout",
     "output_type": "stream",
     "text": [
      "Wrote HTML report to htmlcov\\index.html\n"
     ]
    }
   ],
   "source": [
    "!coverage html"
   ]
  },
  {
   "cell_type": "code",
   "execution_count": null,
   "id": "5787d9b4-bcfe-4e87-bbe0-acf71abccd47",
   "metadata": {},
   "outputs": [],
   "source": []
  }
 ],
 "metadata": {
  "kernelspec": {
   "display_name": "Python 3 (ipykernel)",
   "language": "python",
   "name": "python3"
  },
  "language_info": {
   "codemirror_mode": {
    "name": "ipython",
    "version": 3
   },
   "file_extension": ".py",
   "mimetype": "text/x-python",
   "name": "python",
   "nbconvert_exporter": "python",
   "pygments_lexer": "ipython3",
   "version": "3.12.4"
  }
 },
 "nbformat": 4,
 "nbformat_minor": 5
}
